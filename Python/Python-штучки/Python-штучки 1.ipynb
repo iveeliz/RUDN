{
 "cells": [
  {
   "cell_type": "markdown",
   "id": "fd522cf0",
   "metadata": {},
   "source": [
    "# Problem 1: угадать рандомное число от 1 до 100"
   ]
  },
  {
   "cell_type": "code",
   "execution_count": 1,
   "id": "730286df",
   "metadata": {},
   "outputs": [],
   "source": [
    "import random\n",
    "\n",
    "def random_guess():\n",
    "    \n",
    "    x = random.randint(1, 100)\n",
    "    \n",
    "    a = int(input('Введите число: '))\n",
    "    \n",
    "    if a == x:\n",
    "        print('Верно!')\n",
    "        return\n",
    "    \n",
    "    while a != x:\n",
    "        \n",
    "        if x < a:\n",
    "            a = int(input(\"Нужное число меньше Вашего, введите другое: \"))\n",
    "            \n",
    "        elif x > a:\n",
    "            a = int(input(\"Нужное число больше Вашего, введите другое: \"))\n",
    "            \n",
    "        if a == x:\n",
    "            print('Верно!')\n",
    "            \n",
    "    return"
   ]
  },
  {
   "cell_type": "code",
   "execution_count": 2,
   "id": "a18caff9",
   "metadata": {},
   "outputs": [
    {
     "name": "stdout",
     "output_type": "stream",
     "text": [
      "Введите число: 54\n",
      "Нужное число больше Вашего, введите другое: 77\n",
      "Нужное число меньше Вашего, введите другое: 70\n",
      "Нужное число меньше Вашего, введите другое: 60\n",
      "Верно!\n"
     ]
    }
   ],
   "source": [
    "random_guess()"
   ]
  },
  {
   "cell_type": "markdown",
   "id": "87fa1259",
   "metadata": {},
   "source": [
    "# Problem 2: генератор пароля"
   ]
  },
  {
   "cell_type": "code",
   "execution_count": 3,
   "id": "08b37494",
   "metadata": {},
   "outputs": [],
   "source": [
    "def generate_password(length):\n",
    "    \n",
    "    digits = '0123456789'\n",
    "    small_letters = 'abcdefghiklmnopqrstvxyz'\n",
    "    letters = 'ABCDEFGHIKLMNOPQRSTVXYZ'\n",
    "    symbols = '!@#$%^&*()_+'\n",
    "    \n",
    "    password = ''\n",
    "    \n",
    "    var = [digits, small_letters, letters, symbols]\n",
    "    \n",
    "    if length < 12:\n",
    "        print('Пароль должен иметь не менее 12 симолов')\n",
    "        return\n",
    "    \n",
    "    while len(password) < length:\n",
    "        password += random.choice(var[random.randint(0,3)])\n",
    "  \n",
    "    print(password)\n",
    "    #return"
   ]
  },
  {
   "cell_type": "code",
   "execution_count": 4,
   "id": "ba2c7370",
   "metadata": {},
   "outputs": [
    {
     "name": "stdout",
     "output_type": "stream",
     "text": [
      "F8VMc(1v2HO)\n"
     ]
    }
   ],
   "source": [
    "generate_password(12)"
   ]
  },
  {
   "cell_type": "code",
   "execution_count": 5,
   "id": "7b06e460",
   "metadata": {},
   "outputs": [],
   "source": [
    "import random\n",
    "\n",
    "def generate_password_2():\n",
    "    \n",
    "    l = int(input('Длина пароля: '))\n",
    "\n",
    "    password = ''\n",
    "    \n",
    "    for i in range(l):\n",
    "        a = random.randint(33, 126)\n",
    "        password += chr(a)\n",
    "\n",
    "    print(password)"
   ]
  },
  {
   "cell_type": "code",
   "execution_count": 6,
   "id": "b1f20ea0",
   "metadata": {},
   "outputs": [
    {
     "name": "stdout",
     "output_type": "stream",
     "text": [
      "Длина пароля: 7\n",
      "3a2rjRF\n"
     ]
    }
   ],
   "source": [
    "generate_password_2()"
   ]
  },
  {
   "cell_type": "markdown",
   "id": "0ffe76c9",
   "metadata": {},
   "source": [
    "# Бинарный поиск"
   ]
  },
  {
   "cell_type": "code",
   "execution_count": 7,
   "id": "945ea2f2",
   "metadata": {},
   "outputs": [],
   "source": [
    "def binary_search(numbers, target):\n",
    "    \n",
    "    start = 0\n",
    "    end = len(numbers)\n",
    "    \n",
    "    while start <= end:\n",
    "        \n",
    "        mid = (start + end) // 2\n",
    "        \n",
    "        if target == numbers[mid]:\n",
    "            return mid\n",
    "        \n",
    "        if target < numbers[mid]:\n",
    "            end = mid - 1\n",
    "            \n",
    "        else:\n",
    "            start = mid + 1"
   ]
  },
  {
   "cell_type": "code",
   "execution_count": 8,
   "id": "381ef22d",
   "metadata": {},
   "outputs": [
    {
     "name": "stdout",
     "output_type": "stream",
     "text": [
      "1\n"
     ]
    }
   ],
   "source": [
    "numbers = [2,7,11,15]\n",
    "target = 7\n",
    "\n",
    "print(binary_search(numbers, target))"
   ]
  },
  {
   "cell_type": "code",
   "execution_count": 9,
   "id": "0a05f274",
   "metadata": {},
   "outputs": [],
   "source": [
    "def twoSum(nums, target):\n",
    "        \n",
    "        #binary search\n",
    "        \n",
    "        nums = sorted(enumerate(nums), key=lambda i: i[1])\n",
    "        \n",
    "        a = 0 \n",
    "        b = len(nums) - 1\n",
    "        \n",
    "        print(b)\n",
    "        print(nums)\n",
    "        \n",
    "        while a < b:\n",
    "            s = nums[a][1] + nums[b][1]\n",
    "            \n",
    "            if s > target:\n",
    "                b -= 1\n",
    "                \n",
    "            if s < target:\n",
    "                a += 1\n",
    "                \n",
    "            if s == target:\n",
    "                return nums[a][0], nums[b][0]"
   ]
  },
  {
   "cell_type": "code",
   "execution_count": 10,
   "id": "ff6b83a3",
   "metadata": {},
   "outputs": [
    {
     "name": "stdout",
     "output_type": "stream",
     "text": [
      "1\n",
      "[(0, 3), (1, 3)]\n",
      "(0, 1)\n"
     ]
    }
   ],
   "source": [
    "nums = [3,3]\n",
    "target = 6\n",
    "print(twoSum(nums, target))"
   ]
  },
  {
   "cell_type": "markdown",
   "id": "dda17a5c",
   "metadata": {},
   "source": [
    "# Классы"
   ]
  },
  {
   "cell_type": "code",
   "execution_count": 11,
   "id": "a4c49e41",
   "metadata": {},
   "outputs": [],
   "source": [
    "class Circle(): # в классепишутся методы(функции)\n",
    "    def __init__(self, R=10): #вызывается, когда создаётся объект class, мы можем передавать в init параметры для объекта\n",
    "        self.R = R\n",
    "        self._a = R*100 \n",
    "    \n",
    "    def square(self): \n",
    "        \n",
    "        return 3.14 * self.R**2\n",
    "    \n",
    "    def unk_func():\n",
    "        \n",
    "        return self._a\n",
    "    \n",
    "    def __lt__(self, other_circle):\n",
    "        \n",
    "        return self.R < other_circle.R\n",
    "    \n",
    "    def __str__(self):\n",
    "        \n",
    "        return f'circle of radius {self.R}'\n",
    "    \n",
    "    def __repr__(self): # representation\n",
    "        \n",
    "        return f'circle of radius {self.R}'"
   ]
  },
  {
   "cell_type": "code",
   "execution_count": 12,
   "id": "14e3fd42",
   "metadata": {},
   "outputs": [
    {
     "name": "stdout",
     "output_type": "stream",
     "text": [
      "Радиус:  10\n",
      "Площадь:  314.0\n"
     ]
    }
   ],
   "source": [
    "c = Circle()\n",
    "\n",
    "print('Радиус: ', c.R)  \n",
    "print('Площадь: ', c.square()) # метод"
   ]
  },
  {
   "cell_type": "code",
   "execution_count": 13,
   "id": "27be6de7",
   "metadata": {},
   "outputs": [
    {
     "data": {
      "text/plain": [
       "10"
      ]
     },
     "execution_count": 13,
     "metadata": {},
     "output_type": "execute_result"
    }
   ],
   "source": [
    " c.R # атрибут"
   ]
  },
  {
   "cell_type": "code",
   "execution_count": 14,
   "id": "2e56d2b4",
   "metadata": {},
   "outputs": [
    {
     "data": {
      "text/plain": [
       "314.0"
      ]
     },
     "execution_count": 14,
     "metadata": {},
     "output_type": "execute_result"
    }
   ],
   "source": [
    "c.square() # метод"
   ]
  },
  {
   "cell_type": "code",
   "execution_count": 15,
   "id": "02fe2e9a",
   "metadata": {},
   "outputs": [
    {
     "data": {
      "text/plain": [
       "1000"
      ]
     },
     "execution_count": 15,
     "metadata": {},
     "output_type": "execute_result"
    }
   ],
   "source": [
    "c._a"
   ]
  },
  {
   "cell_type": "markdown",
   "id": "a55c866e",
   "metadata": {},
   "source": [
    "В питоне нет скрытых переменных, в отличие от c++, в котором помимо public переменных есть ещё private переменные"
   ]
  },
  {
   "cell_type": "code",
   "execution_count": 16,
   "id": "03ae234d",
   "metadata": {},
   "outputs": [
    {
     "data": {
      "text/plain": [
       "['R',\n",
       " '__class__',\n",
       " '__delattr__',\n",
       " '__dict__',\n",
       " '__dir__',\n",
       " '__doc__',\n",
       " '__eq__',\n",
       " '__format__',\n",
       " '__ge__',\n",
       " '__getattribute__',\n",
       " '__getstate__',\n",
       " '__gt__',\n",
       " '__hash__',\n",
       " '__init__',\n",
       " '__init_subclass__',\n",
       " '__le__',\n",
       " '__lt__',\n",
       " '__module__',\n",
       " '__ne__',\n",
       " '__new__',\n",
       " '__reduce__',\n",
       " '__reduce_ex__',\n",
       " '__repr__',\n",
       " '__setattr__',\n",
       " '__sizeof__',\n",
       " '__str__',\n",
       " '__subclasshook__',\n",
       " '__weakref__',\n",
       " '_a',\n",
       " 'square',\n",
       " 'unk_func']"
      ]
     },
     "execution_count": 16,
     "metadata": {},
     "output_type": "execute_result"
    }
   ],
   "source": [
    "dir(c)"
   ]
  },
  {
   "cell_type": "code",
   "execution_count": 17,
   "id": "e7384894",
   "metadata": {},
   "outputs": [
    {
     "data": {
      "text/plain": [
       "[circle of radius 1,\n",
       " circle of radius 14,\n",
       " circle of radius 13,\n",
       " circle of radius 6]"
      ]
     },
     "execution_count": 17,
     "metadata": {},
     "output_type": "execute_result"
    }
   ],
   "source": [
    "cc = [Circle(R=1), Circle(R=14), Circle(R=13), Circle(R=6)]\n",
    "cc"
   ]
  },
  {
   "cell_type": "markdown",
   "id": "67543557",
   "metadata": {},
   "source": [
    "# Сортировка"
   ]
  },
  {
   "cell_type": "code",
   "execution_count": null,
   "id": "c08f7ead",
   "metadata": {},
   "outputs": [],
   "source": [
    "# библиотека для реализации очереди: https://docs.python.org/3/library/queue.html"
   ]
  },
  {
   "cell_type": "code",
   "execution_count": 19,
   "id": "ac476ec9",
   "metadata": {},
   "outputs": [
    {
     "data": {
      "text/plain": [
       "[1, 2, 11, 15, 23, 32]"
      ]
     },
     "execution_count": 19,
     "metadata": {},
     "output_type": "execute_result"
    }
   ],
   "source": [
    "a = [2,1,23,11,32,15]\n",
    "sorted(a)"
   ]
  },
  {
   "cell_type": "code",
   "execution_count": 20,
   "id": "eb497e67",
   "metadata": {},
   "outputs": [
    {
     "ename": "TypeError",
     "evalue": "'<' not supported between instances of 'str' and 'int'",
     "output_type": "error",
     "traceback": [
      "\u001b[1;31m---------------------------------------------------------------------------\u001b[0m",
      "\u001b[1;31mTypeError\u001b[0m                                 Traceback (most recent call last)",
      "Cell \u001b[1;32mIn[20], line 2\u001b[0m\n\u001b[0;32m      1\u001b[0m a \u001b[38;5;241m=\u001b[39m [\u001b[38;5;241m2\u001b[39m,\u001b[38;5;241m1\u001b[39m,\u001b[38;5;241m23\u001b[39m,\u001b[38;5;241m11\u001b[39m,\u001b[38;5;124m'\u001b[39m\u001b[38;5;124m32\u001b[39m\u001b[38;5;124m'\u001b[39m,\u001b[38;5;241m15\u001b[39m]\n\u001b[1;32m----> 2\u001b[0m \u001b[38;5;28msorted\u001b[39m(a)\n",
      "\u001b[1;31mTypeError\u001b[0m: '<' not supported between instances of 'str' and 'int'"
     ]
    }
   ],
   "source": [
    "a = [2,1,23,11,'32',15]\n",
    "sorted(a)               # мы не можем сравнивать разные типы данных"
   ]
  },
  {
   "cell_type": "code",
   "execution_count": 21,
   "id": "530b61d1",
   "metadata": {},
   "outputs": [
    {
     "data": {
      "text/plain": [
       "[1, 2, 11, 15, 23, '32']"
      ]
     },
     "execution_count": 21,
     "metadata": {},
     "output_type": "execute_result"
    }
   ],
   "source": [
    "a = [2,1,23,11,'32',15]\n",
    "sorted(a, key=lambda x:int(x))  "
   ]
  },
  {
   "cell_type": "code",
   "execution_count": 22,
   "id": "921fd03b",
   "metadata": {},
   "outputs": [
    {
     "data": {
      "text/plain": [
       "[1, 11, 15, 2, 23, '32']"
      ]
     },
     "execution_count": 22,
     "metadata": {},
     "output_type": "execute_result"
    }
   ],
   "source": [
    "a = [2,1,23,11,'32',15]\n",
    "sorted(a, key=lambda x:str(x))   # сортировка в лексик-графическом порядке"
   ]
  },
  {
   "cell_type": "markdown",
   "id": "319c64dd",
   "metadata": {},
   "source": [
    "# Список атрибутов и методов объекта\n",
    "\n",
    "В вашем случае, b - это целочисленная переменная со значением 100, и dir(b) вернет список атрибутов и методов, доступных для объекта типа int (целое число)."
   ]
  },
  {
   "cell_type": "code",
   "execution_count": 85,
   "id": "303653cd",
   "metadata": {},
   "outputs": [
    {
     "data": {
      "text/plain": [
       "['__abs__',\n",
       " '__add__',\n",
       " '__and__',\n",
       " '__bool__',\n",
       " '__ceil__',\n",
       " '__class__',\n",
       " '__delattr__',\n",
       " '__dir__',\n",
       " '__divmod__',\n",
       " '__doc__',\n",
       " '__eq__',\n",
       " '__float__',\n",
       " '__floor__',\n",
       " '__floordiv__',\n",
       " '__format__',\n",
       " '__ge__',\n",
       " '__getattribute__',\n",
       " '__getnewargs__',\n",
       " '__getstate__',\n",
       " '__gt__',\n",
       " '__hash__',\n",
       " '__index__',\n",
       " '__init__',\n",
       " '__init_subclass__',\n",
       " '__int__',\n",
       " '__invert__',\n",
       " '__le__',\n",
       " '__lshift__',\n",
       " '__lt__',\n",
       " '__mod__',\n",
       " '__mul__',\n",
       " '__ne__',\n",
       " '__neg__',\n",
       " '__new__',\n",
       " '__or__',\n",
       " '__pos__',\n",
       " '__pow__',\n",
       " '__radd__',\n",
       " '__rand__',\n",
       " '__rdivmod__',\n",
       " '__reduce__',\n",
       " '__reduce_ex__',\n",
       " '__repr__',\n",
       " '__rfloordiv__',\n",
       " '__rlshift__',\n",
       " '__rmod__',\n",
       " '__rmul__',\n",
       " '__ror__',\n",
       " '__round__',\n",
       " '__rpow__',\n",
       " '__rrshift__',\n",
       " '__rshift__',\n",
       " '__rsub__',\n",
       " '__rtruediv__',\n",
       " '__rxor__',\n",
       " '__setattr__',\n",
       " '__sizeof__',\n",
       " '__str__',\n",
       " '__sub__',\n",
       " '__subclasshook__',\n",
       " '__truediv__',\n",
       " '__trunc__',\n",
       " '__xor__',\n",
       " 'as_integer_ratio',\n",
       " 'bit_count',\n",
       " 'bit_length',\n",
       " 'conjugate',\n",
       " 'denominator',\n",
       " 'from_bytes',\n",
       " 'imag',\n",
       " 'numerator',\n",
       " 'real',\n",
       " 'to_bytes']"
      ]
     },
     "execution_count": 85,
     "metadata": {},
     "output_type": "execute_result"
    }
   ],
   "source": [
    "b = 100\n",
    "dir(b)"
   ]
  },
  {
   "cell_type": "code",
   "execution_count": 24,
   "id": "125c7862",
   "metadata": {},
   "outputs": [
    {
     "data": {
      "text/plain": [
       "True"
      ]
     },
     "execution_count": 24,
     "metadata": {},
     "output_type": "execute_result"
    }
   ],
   "source": [
    "b.__lt__(1000) # less then"
   ]
  },
  {
   "cell_type": "code",
   "execution_count": 26,
   "id": "59f1337d",
   "metadata": {},
   "outputs": [
    {
     "data": {
      "text/plain": [
       "False"
      ]
     },
     "execution_count": 26,
     "metadata": {},
     "output_type": "execute_result"
    }
   ],
   "source": [
    "b.__gt__(1000) # greater then"
   ]
  },
  {
   "cell_type": "code",
   "execution_count": 27,
   "id": "985bad82",
   "metadata": {},
   "outputs": [
    {
     "data": {
      "text/plain": [
       "True"
      ]
     },
     "execution_count": 27,
     "metadata": {},
     "output_type": "execute_result"
    }
   ],
   "source": [
    "b.__le__(1000) # less or equal"
   ]
  },
  {
   "cell_type": "code",
   "execution_count": 28,
   "id": "5b7221b7",
   "metadata": {},
   "outputs": [
    {
     "data": {
      "text/plain": [
       "False"
      ]
     },
     "execution_count": 28,
     "metadata": {},
     "output_type": "execute_result"
    }
   ],
   "source": [
    "b.__ge__(1000) # greater or equal"
   ]
  },
  {
   "cell_type": "markdown",
   "id": "3baef9a8",
   "metadata": {},
   "source": [
    "# Словари"
   ]
  },
  {
   "cell_type": "code",
   "execution_count": 29,
   "id": "b70fd2bc",
   "metadata": {},
   "outputs": [],
   "source": [
    "def dict_from_keys_and_values(keys, values):\n",
    "    \n",
    "    d = {}\n",
    "    \n",
    "    #for k in keys:\n",
    "    for i in range(len(keys)):\n",
    "        if i < len(values):\n",
    "            d[keys[i]] = values[i]\n",
    "        else:\n",
    "            d[keys[i]] = None\n",
    "            \n",
    "    return d"
   ]
  },
  {
   "cell_type": "code",
   "execution_count": 30,
   "id": "223c9097",
   "metadata": {},
   "outputs": [
    {
     "data": {
      "text/plain": [
       "{1: '1', 2: '2', 3: '3', 4: None, 5: None}"
      ]
     },
     "execution_count": 30,
     "metadata": {},
     "output_type": "execute_result"
    }
   ],
   "source": [
    "keys = [1, 2, 3, 4, 5]\n",
    "values = ['1', '2', '3']\n",
    "\n",
    "dict_from_keys_and_values(keys, values)"
   ]
  },
  {
   "cell_type": "code",
   "execution_count": 31,
   "id": "2a075cfa",
   "metadata": {},
   "outputs": [
    {
     "data": {
      "text/plain": [
       "{1: '1', 2: '2', 3: '3'}"
      ]
     },
     "execution_count": 31,
     "metadata": {},
     "output_type": "execute_result"
    }
   ],
   "source": [
    "keys = [1, 2, 3]\n",
    "values = ['1', '2', '3', '4', '5']\n",
    "\n",
    "dict_from_keys_and_values(keys, values)"
   ]
  },
  {
   "cell_type": "markdown",
   "id": "eda685e4",
   "metadata": {},
   "source": [
    "# Списки и срезы"
   ]
  },
  {
   "cell_type": "code",
   "execution_count": 32,
   "id": "5e63ba48",
   "metadata": {},
   "outputs": [],
   "source": [
    "import numpy as np"
   ]
  },
  {
   "cell_type": "markdown",
   "id": "1fa64b58",
   "metadata": {},
   "source": [
    "1. Четные индексы "
   ]
  },
  {
   "cell_type": "code",
   "execution_count": 33,
   "id": "2218327b",
   "metadata": {},
   "outputs": [
    {
     "name": "stdout",
     "output_type": "stream",
     "text": [
      "[1 3 5]\n"
     ]
    }
   ],
   "source": [
    "print(np.arange(1, 6)[::2])"
   ]
  },
  {
   "cell_type": "code",
   "execution_count": 34,
   "id": "a1cda92b",
   "metadata": {},
   "outputs": [
    {
     "name": "stdout",
     "output_type": "stream",
     "text": [
      "1 65 36 84 57\n",
      "1 36 57\n"
     ]
    }
   ],
   "source": [
    "print(' '.join(input().split()[::2]))"
   ]
  },
  {
   "cell_type": "markdown",
   "id": "51d123f9",
   "metadata": {},
   "source": [
    "2. Наибольший элемент и его индекс"
   ]
  },
  {
   "cell_type": "code",
   "execution_count": 35,
   "id": "962d0623",
   "metadata": {},
   "outputs": [
    {
     "name": "stdout",
     "output_type": "stream",
     "text": [
      "3 2\n"
     ]
    }
   ],
   "source": [
    "A = [1, 2, 3, 2, 1]\n",
    "\n",
    "print(np.max(A), np.argmax(A))"
   ]
  },
  {
   "cell_type": "code",
   "execution_count": 36,
   "id": "f5bd049b",
   "metadata": {},
   "outputs": [
    {
     "name": "stdout",
     "output_type": "stream",
     "text": [
      "1 2 3 2 1\n",
      "3 2\n"
     ]
    }
   ],
   "source": [
    "A = input().split()\n",
    "\n",
    "print(max(A), A.index(max(A)))"
   ]
  },
  {
   "cell_type": "markdown",
   "id": "a55ae7a5",
   "metadata": {},
   "source": [
    "3. Вывести в обратном порядке"
   ]
  },
  {
   "cell_type": "code",
   "execution_count": 37,
   "id": "0df5e0e8",
   "metadata": {},
   "outputs": [
    {
     "name": "stdout",
     "output_type": "stream",
     "text": [
      "[5 4 3 2 1]\n"
     ]
    }
   ],
   "source": [
    "print(np.arange(1, 6)[::-1])"
   ]
  },
  {
   "cell_type": "code",
   "execution_count": 38,
   "id": "cac5af59",
   "metadata": {},
   "outputs": [
    {
     "name": "stdout",
     "output_type": "stream",
     "text": [
      "1 2 3 4 5\n",
      "5 4 3 2 1\n"
     ]
    }
   ],
   "source": [
    "print(' '.join(input().split()[::-1]))"
   ]
  },
  {
   "cell_type": "markdown",
   "id": "fc30bd1d",
   "metadata": {},
   "source": [
    "4. Переставить соседние "
   ]
  },
  {
   "cell_type": "code",
   "execution_count": 42,
   "id": "5708b9c7",
   "metadata": {},
   "outputs": [
    {
     "name": "stdout",
     "output_type": "stream",
     "text": [
      "2 1 4 3 6 5\n",
      "1 2 3 4 5 6\n"
     ]
    }
   ],
   "source": [
    "A = input().split()\n",
    "\n",
    "if len(A) % 2 == 0:\n",
    "    A[::2], A[1::2] = A[1::2], A[::2]\n",
    "else:\n",
    "    A[:-1:2], A[1::2] = A[1::2], A[:-1:2]\n",
    "\n",
    "print(' '.join(A))"
   ]
  },
  {
   "cell_type": "markdown",
   "id": "16223ae3",
   "metadata": {},
   "source": [
    "5. Циклический сдвиг вправо"
   ]
  },
  {
   "cell_type": "code",
   "execution_count": 43,
   "id": "437cb6b6",
   "metadata": {},
   "outputs": [
    {
     "name": "stdout",
     "output_type": "stream",
     "text": [
      "[5 1 2 3 4]\n"
     ]
    }
   ],
   "source": [
    "A = np.arange(1, 6)\n",
    "\n",
    "print(np.roll(A, 1))"
   ]
  },
  {
   "cell_type": "markdown",
   "id": "1d5c6220",
   "metadata": {},
   "source": [
    "6. Удалить элемент"
   ]
  },
  {
   "cell_type": "code",
   "execution_count": 45,
   "id": "cab89200",
   "metadata": {},
   "outputs": [
    {
     "name": "stdout",
     "output_type": "stream",
     "text": [
      "[7 6 4 3 2]\n"
     ]
    }
   ],
   "source": [
    "A = [7, 6, 5, 4, 3, 2, 1]\n",
    "\n",
    "print(np.delete(A, [2, 6]))"
   ]
  },
  {
   "cell_type": "markdown",
   "id": "c96d4e8d",
   "metadata": {},
   "source": [
    "7. Вставить элемент"
   ]
  },
  {
   "cell_type": "code",
   "execution_count": 46,
   "id": "8cc8b328",
   "metadata": {},
   "outputs": [
    {
     "name": "stdout",
     "output_type": "stream",
     "text": [
      "[7 6 0 5 4 3 2 1]\n"
     ]
    }
   ],
   "source": [
    "A = [7, 6, 5, 4, 3, 2, 1]\n",
    "\n",
    "print(np.insert(A, 2, 0))"
   ]
  },
  {
   "cell_type": "markdown",
   "id": "c0ce1bb3",
   "metadata": {},
   "source": [
    "8. Большой сдвиг"
   ]
  },
  {
   "cell_type": "code",
   "execution_count": 49,
   "id": "96806267",
   "metadata": {},
   "outputs": [
    {
     "name": "stdout",
     "output_type": "stream",
     "text": [
      "[7 4 6 5 3]\n"
     ]
    }
   ],
   "source": [
    "A = [5, 3, 7, 4, 6]\n",
    "\n",
    "print(np.roll(A, 3))"
   ]
  }
 ],
 "metadata": {
  "kernelspec": {
   "display_name": "Python 3 (ipykernel)",
   "language": "python",
   "name": "python3"
  },
  "language_info": {
   "codemirror_mode": {
    "name": "ipython",
    "version": 3
   },
   "file_extension": ".py",
   "mimetype": "text/x-python",
   "name": "python",
   "nbconvert_exporter": "python",
   "pygments_lexer": "ipython3",
   "version": "3.11.4"
  }
 },
 "nbformat": 4,
 "nbformat_minor": 5
}
