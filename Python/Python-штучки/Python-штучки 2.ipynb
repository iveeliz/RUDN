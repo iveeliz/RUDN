{
 "cells": [
  {
   "cell_type": "markdown",
   "metadata": {},
   "source": [
    "# Загрузка всех библиотек"
   ]
  },
  {
   "cell_type": "code",
   "execution_count": 1,
   "metadata": {},
   "outputs": [],
   "source": [
    "import numpy as np\n",
    "import scipy.stats\n",
    "\n",
    "def C(n, m):\n",
    "    return np.math.factorial(n) / (np.math.factorial(m) * np.math.factorial(n - m))\n",
    "\n",
    "def Ф(x):\n",
    "    return np.round((scipy.stats.norm.cdf(x) - 0.5) * 10000) / 10000"
   ]
  },
  {
   "cell_type": "markdown",
   "metadata": {},
   "source": [
    "# ТМО\n",
    "## 1. Система M/M/v/0"
   ]
  },
  {
   "cell_type": "code",
   "execution_count": 2,
   "metadata": {},
   "outputs": [
    {
     "name": "stdout",
     "output_type": "stream",
     "text": [
      "Стационарное распределение: \n",
      "p_0 = 2.225130666666667\n",
      "p_1 = 1.7801045333333334\n",
      "p_2 = 0.7120418133333335\n",
      "p_3 = 0.18987781688888894\n",
      "p_4 = 0.037975563377777785\n",
      "p_5 = 0.006076090140444446\n",
      "Вероятность потери/блокировки (все приборы заняты) pi = 0.006076090140444446\n",
      "Вероятность немедленного обслуживания (не занят хотя бы один прибор) q = 0.9939239098595556\n",
      "Среднее число занятых приборов N = 0.7951391278876445\n",
      "Дисперсия числа занятых приборов D = 0.7746998369380584\n",
      "Среднее число заявок, обслуживаемых в единицу времени A = 19.87847819719111\n"
     ]
    }
   ],
   "source": [
    "def QS_type_1(v, lambda_val, mu_val):\n",
    "    ro = lambda_val / mu_val\n",
    "    tmp = np.array([ro**i / np.math.factorial(i) for i in range(v+1)])\n",
    "    \n",
    "    p_0 = 1 / np.sum(tmp)\n",
    "    p_i = tmp / p_0\n",
    "    \n",
    "    pi = p_i[-1]\n",
    "    q = 1 - pi\n",
    "    N = ro * q\n",
    "    D = ro * (1 + pi * (ro - v - ro * pi - 1))\n",
    "    A = lambda_val * q\n",
    "    \n",
    "    print('Стационарное распределение: ')\n",
    "    for i in range(v+1):\n",
    "        print('p_' + str(i) + ' = ' + str(p_i[i]))    \n",
    "    print('Вероятность потери/блокировки (все приборы заняты) pi = ' + str(pi))\n",
    "    print('Вероятность немедленного обслуживания (не занят хотя бы один прибор) q = ' + str(q))\n",
    "    print('Среднее число занятых приборов N = ' + str(N))\n",
    "    print('Дисперсия числа занятых приборов D = ' + str(D))\n",
    "    print('Среднее число заявок, обслуживаемых в единицу времени A = ' + str(A))\n",
    "    \n",
    "QS_type_1(v = 5, lambda_val = 20, mu_val = 25)"
   ]
  },
  {
   "cell_type": "markdown",
   "metadata": {},
   "source": [
    "## 2. Система M/M/v/r"
   ]
  },
  {
   "cell_type": "code",
   "execution_count": 3,
   "metadata": {},
   "outputs": [
    {
     "name": "stdout",
     "output_type": "stream",
     "text": [
      "Стационарное распределение: \n",
      "p_0 = 0.13846153846153847\n",
      "p_1 = 0.27692307692307694\n",
      "p_2 = 0.27692307692307694\n",
      "p_3 = 0.18461538461538463\n",
      "p_4 = 0.12307692307692308\n",
      "p_5 = 0.08205128205128205\n",
      "Вероятность потери/блокировки (все приборы заняты) pi = 0.08205128205128205\n",
      "Вероятность немедленного обслуживания (не занят хотя бы один прибор) q = 0.6923076923076923\n",
      "Среднее число заявок в очереди Q = 0.28717948717948716\n",
      "Среднее число занятых приборов n_av = 1.8358974358974358\n",
      "Среднее число заявок в системе N = 2.123076923076923\n",
      "Среднее время пребывания заявки в очереди w_av = 0.1564245810055866\n",
      "Среднее время пребывания заявки в системе v_av = 1.1564245810055866\n"
     ]
    }
   ],
   "source": [
    "def QS_type_2(v, r, lambda_val, mu_val):\n",
    "    ro = lambda_val / mu_val\n",
    "    tmp_1 = np.array([ro**i / np.math.factorial(i) for i in range(v)])\n",
    "    p_0 = 1 / (np.sum(tmp_1) + ro**v / np.math.factorial(v) * (1 - (ro / v)**r) / (1 - ro / v))\n",
    "    p_v = ro**v / np.math.factorial(v) * p_0\n",
    "    tmp_2 = np.array([(ro / v)**(i-v) for i in range(v, v + r + 1)])\n",
    "    p_i = np.concatenate((tmp_1 * p_0, tmp_2 * p_v), axis=0)\n",
    "    tmp_3 = ro / v\n",
    "    tmp_4 = v * mu_val\n",
    "    \n",
    "    pi = p_i[-1]\n",
    "    q = np.sum(tmp_1 * p_0)\n",
    "    Q = np.sum([i * p_i[v + i] for i in range(1, r + 1)])\n",
    "#     Q = (p_v * tmp_3) * ((1 + r * tmp_3**(r + 1) - (r + 1) * tmp_3**r) / (1 - tmp_3)**2)\n",
    "    n_av = ro * (1 - pi)\n",
    "    N = Q + n_av\n",
    "    w_av = (p_v / (1 - pi)) * ((tmp_4 - tmp_3**r * (tmp_4 * (r + 1) - r * lambda_val)) / (tmp_4 - lambda_val)**2)\n",
    "    v_av = w_av + 1 / mu_val\n",
    "    print('Стационарное распределение: ')\n",
    "    for i in range(v + r + 1):\n",
    "        print('p_' + str(i) + ' = ' + str(p_i[i]))\n",
    "        \n",
    "    print('Вероятность потери/блокировки (все приборы заняты) pi = ' + str(pi))\n",
    "    print('Вероятность немедленного обслуживания (не занят хотя бы один прибор) q = ' + str(q))\n",
    "    print('Среднее число заявок в очереди Q = ' + str(Q))\n",
    "    print('Среднее число занятых приборов n_av = ' + str(n_av))\n",
    "    print('Среднее число заявок в системе N = ' + str(N))\n",
    "    print('Среднее время пребывания заявки в очереди w_av = ' + str(w_av))\n",
    "    print('Среднее время пребывания заявки в системе v_av = ' + str(v_av))\n",
    "    \n",
    "    \n",
    "QS_type_2(v = 3, r = 2, lambda_val = 2, mu_val = 1)"
   ]
  },
  {
   "cell_type": "markdown",
   "metadata": {},
   "source": [
    "## 3. Система M/M/inf"
   ]
  },
  {
   "cell_type": "code",
   "execution_count": 7,
   "metadata": {},
   "outputs": [
    {
     "name": "stdout",
     "output_type": "stream",
     "text": [
      "Стационарное распределение: \n",
      "p_0 = 0.44932896411722156\n",
      "p_1 = 0.35946317129377725\n",
      "p_2 = 0.14378526851751092\n",
      "p_3 = 0.03834273827133625\n",
      "p_4 = 0.00766854765426725\n",
      "p_5 = 0.00122696762468276\n",
      "p_6 = 0.0001635956832910347\n",
      "p_7 = 1.8696649518975393e-05\n",
      "p_8 = 1.8696649518975395e-06\n",
      "p_9 = 1.6619244016867017e-07\n",
      "p_10 = 1.3295395213493615e-08\n",
      "Вероятность потери/блокировки (все приборы заняты) pi = 0\n",
      "Вероятность немедленного обслуживания (прибор свободен) q = 1\n",
      "Вероятность того, что прибор занят q = 0.5506710358827784\n",
      "Среднее число заявок в системе N = 0.8\n",
      "Дисперсия числа занятых приборов D = 0.8\n",
      "Среднее время пребывания заявки в системе v_av = 0.04\n"
     ]
    }
   ],
   "source": [
    "def QS_type_3(lambda_val, mu_val, show_i = 10):\n",
    "    ro = lambda_val / mu_val\n",
    "    p_0 = np.exp(-ro)\n",
    "    q = 1 - p_0\n",
    "    tmp = np.array([ro**i / np.math.factorial(i) for i in range(show_i + 1)])\n",
    "    p_i = tmp * p_0\n",
    "    \n",
    "    print('Стационарное распределение: ')\n",
    "    for i in range(show_i + 1):\n",
    "        print('p_' + str(i) + ' = ' + str(p_i[i]))\n",
    "        \n",
    "    print('Вероятность потери/блокировки (все приборы заняты) pi = 0')\n",
    "    print('Вероятность немедленного обслуживания (прибор свободен) q = 1')\n",
    "    print('Вероятность того, что прибор занят q = ' + str(q))\n",
    "    print('Среднее число заявок в системе N = ' + str(ro))\n",
    "    print('Дисперсия числа занятых приборов D = ' + str(ro))\n",
    "    print('Среднее время пребывания заявки в системе v_av = ' + str(1 / mu_val))\n",
    "    \n",
    "    \n",
    "QS_type_3(lambda_val = 20, mu_val = 25)"
   ]
  },
  {
   "cell_type": "markdown",
   "metadata": {},
   "source": [
    "## 4. Система M/M/1/inf"
   ]
  },
  {
   "cell_type": "code",
   "execution_count": 8,
   "metadata": {},
   "outputs": [
    {
     "name": "stdout",
     "output_type": "stream",
     "text": [
      "Стационарное распределение: \n",
      "p_0 = 0.5\n",
      "p_1 = 0.25\n",
      "p_2 = 0.125\n",
      "p_3 = 0.0625\n",
      "p_4 = 0.03125\n",
      "p_5 = 0.015625\n",
      "p_6 = 0.0078125\n",
      "p_7 = 0.00390625\n",
      "p_8 = 0.001953125\n",
      "p_9 = 0.0009765625\n",
      "p_10 = 0.00048828125\n",
      "Вероятность потери/блокировки (все приборы заняты) pi = 0\n",
      "Вероятность немедленного обслуживания (прибор свободен) q = 0.5\n",
      "Вероятность того, что прибор занят q = 0.5\n",
      "Вероятность того, что ожидают своей очереди не более 5 заявок = 0.4921875\n",
      "Среднее число заявок в системе N = 1.0\n",
      "Среднее число заявок в очереди Q = 0.5\n",
      "Среднее время пребывания заявки в очереди w_av = 0.5\n",
      "Среднее время пребывания заявки в системе v_av = 1.0\n"
     ]
    }
   ],
   "source": [
    "def QS_type_4(lambda_val, mu_val, show_i = 10, waiting_k = 5):\n",
    "    ro = lambda_val / mu_val\n",
    "    p_0 = 1 - ro\n",
    "    q = 1 - p_0\n",
    "    p_i = [ro**i * p_0 for i in range(show_i + 1)]\n",
    "    N = ro / p_0\n",
    "    Q = N * ro\n",
    "    w_av = N / mu_val\n",
    "    v_av = 1 / (mu_val * p_0)\n",
    "    p_waiting_k = np.sum([ro**i * p_0 for i in range(1, waiting_k + 2)])\n",
    "    \n",
    "    print('Стационарное распределение: ')\n",
    "    for i in range(show_i + 1):\n",
    "        print('p_' + str(i) + ' = ' + str(p_i[i]))\n",
    "        \n",
    "    print('Вероятность потери/блокировки (все приборы заняты) pi = 0')\n",
    "    print('Вероятность немедленного обслуживания (прибор свободен) q = ' + str(p_0))\n",
    "    print('Вероятность того, что прибор занят q = ' + str(q))\n",
    "    print('Вероятность того, что ожидают своей очереди не более ' + str(waiting_k) + ' заявок = ' + str(p_waiting_k))\n",
    "    print('Среднее число заявок в системе N = ' + str(N))\n",
    "    print('Среднее число заявок в очереди Q = ' + str(Q))\n",
    "    print('Среднее время пребывания заявки в очереди w_av = ' + str(w_av))\n",
    "    print('Среднее время пребывания заявки в системе v_av = ' + str(v_av))\n",
    "    \n",
    "    \n",
    "QS_type_4(lambda_val = 1, mu_val = 2)"
   ]
  },
  {
   "cell_type": "markdown",
   "metadata": {},
   "source": [
    "# Алгем + диффуры\n",
    "## 1. Прозведение собственных значений матрицы A\n",
    "\n",
    "$$A = \\begin{bmatrix}\n",
    "a& b\\\\\n",
    "c& d\n",
    "\\end{bmatrix}$$"
   ]
  },
  {
   "cell_type": "code",
   "execution_count": 9,
   "metadata": {},
   "outputs": [
    {
     "name": "stdout",
     "output_type": "stream",
     "text": [
      "6\n"
     ]
    }
   ],
   "source": [
    "a = 5\n",
    "b = 6\n",
    "c = 4\n",
    "d = 6\n",
    "print(a*d - c*b)"
   ]
  },
  {
   "cell_type": "markdown",
   "metadata": {},
   "source": [
    "## 2. Определитель матрицы"
   ]
  },
  {
   "cell_type": "code",
   "execution_count": 11,
   "metadata": {},
   "outputs": [
    {
     "name": "stdout",
     "output_type": "stream",
     "text": [
      "Введите размер матрицы: 3\n",
      "Введите матрицу:\n",
      "1 2 3\n",
      "4 5 6\n",
      "7 8 -9\n",
      "Определитель матрицы: 53.999999999999986\n"
     ]
    }
   ],
   "source": [
    "n = int(input('Введите размер матрицы: '))\n",
    "A = [0]*n\n",
    "print('Введите матрицу:')\n",
    "for i in range(n):\n",
    "    A[i] = [int(s) for s in input().split(' ')]\n",
    "    \n",
    "print('Определитель матрицы:', str(np.linalg.det(A)))"
   ]
  },
  {
   "cell_type": "markdown",
   "metadata": {},
   "source": [
    "## 3. Задача Коши\n",
    "\n",
    "Дано:\n",
    "\n",
    " \\begin{cases}\n",
    "   x_1'(t) = x_2(t) \\\\\n",
    "   x_2'(t) = -R*x_1(t)\n",
    " \\end{cases}\n",
    "\n",
    "$x_1(0) = v$,   $x_2(0) = u$\n",
    "\n",
    "Найти значения функций в точке t\n"
   ]
  },
  {
   "cell_type": "code",
   "execution_count": 12,
   "metadata": {},
   "outputs": [
    {
     "name": "stdout",
     "output_type": "stream",
     "text": [
      "x_1= -5.0\n",
      "x_2= 0\n"
     ]
    }
   ],
   "source": [
    "R = 49\n",
    "v = 5\n",
    "u = 0\n",
    "t = np.pi/7\n",
    "rr = np.sqrt(R)\n",
    "print('x_1=', round(v*np.cos(rr*t) + u/rr * np.sin(rr*t),4))\n",
    "print('x_2=', round(-rr*v*np.sin(rr*t) + u * np.cos(rr*t)))"
   ]
  },
  {
   "cell_type": "markdown",
   "metadata": {},
   "source": [
    "## 4. Обратная матрица к матрице А\n",
    "$$A = \\begin{bmatrix}\n",
    "a& b\\\\\n",
    "c& d\n",
    "\\end{bmatrix}$$"
   ]
  },
  {
   "cell_type": "code",
   "execution_count": 13,
   "metadata": {},
   "outputs": [
    {
     "name": "stdout",
     "output_type": "stream",
     "text": [
      "a= -2 / 13\n",
      "b= -1 / 13\n",
      "c= 7 / 13\n",
      "d= -3 / 13\n"
     ]
    }
   ],
   "source": [
    "aa = -3\n",
    "bb = 1\n",
    "cc = -7\n",
    "dd = -2\n",
    "\n",
    "determ = aa*dd - bb*cc\n",
    "print ('a=', dd,'/',determ)\n",
    "print ('b=', -bb,'/',determ)\n",
    "print ('c=', -cc,'/',determ)\n",
    "print ('d=', aa,'/',determ)"
   ]
  },
  {
   "cell_type": "markdown",
   "metadata": {},
   "source": [
    "# ТВиМС\n",
    "## 1. Сбербанки\n",
    "\n",
    "Из **n** сбербанков **k** расположены за чертой города. Для обслуживания случайным образом отобрано **m** сбербанков. Какова вероятность того, что среди отобранных хотя бы один сбербанк будет в черте города?"
   ]
  },
  {
   "cell_type": "code",
   "execution_count": 14,
   "metadata": {},
   "outputs": [
    {
     "name": "stdout",
     "output_type": "stream",
     "text": [
      "0.9166666666666666\n"
     ]
    }
   ],
   "source": [
    "n = 9\n",
    "k = 7\n",
    "m = 6\n",
    "print(1 - C(k, m) / C(n, m))"
   ]
  },
  {
   "cell_type": "markdown",
   "metadata": {},
   "source": [
    "## 2. Акции\n",
    "\n",
    "В среднем **p**% акций продаются по первоначальной цене. Найти вероятность того, что из **n** пакетов акций в результате по первоначальной цене будут проданы **k** пакетов."
   ]
  },
  {
   "cell_type": "code",
   "execution_count": 15,
   "metadata": {},
   "outputs": [
    {
     "name": "stdout",
     "output_type": "stream",
     "text": [
      "0.0959277824999424\n"
     ]
    }
   ],
   "source": [
    "p = 16\n",
    "n = 8\n",
    "k = 3\n",
    "print(C(n, k) * (p/100)**k * (1 - p/100)**(n - k))"
   ]
  },
  {
   "cell_type": "markdown",
   "metadata": {},
   "source": [
    "В среднем **p**% акций продаются по первоначальной цене. Найти вероятность того, что из **n** пакетов акций в результате по первоначальной цене будут продано от **a** до **b** пакетов.\n",
    "\n",
    "Для случая менее **k**: от 0 до **k-1**\n",
    "Для случая более **k**: 1 - (от 0 до **k**)\n",
    "Для случая не менее **k**: 1 - (от 0 до **k-1**)"
   ]
  },
  {
   "cell_type": "code",
   "execution_count": 16,
   "metadata": {},
   "outputs": [
    {
     "name": "stdout",
     "output_type": "stream",
     "text": [
      "0.9733297462640638\n"
     ]
    }
   ],
   "source": [
    "p = 16\n",
    "n = 8\n",
    "\n",
    "a = 0\n",
    "b = 3\n",
    "\n",
    "res = 0\n",
    "\n",
    "for i in range(a, b + 1):\n",
    "    res += C(n, i) * (p/100)**i * (1 - p/100)**(n - i)\n",
    "print(res)"
   ]
  },
  {
   "cell_type": "markdown",
   "metadata": {},
   "source": [
    "## 3. Стархование\n",
    "\n",
    "Страховая компания: \n",
    "- I класс \\- **$q_1$**%, вероятность $p_1$\n",
    "- II класс \\- **$q_2$**%, вероятность $p_2$\n",
    "- III класс \\- **$q_3$**%, вероятность $p_3$\n",
    "\n",
    "Найти вероятность вознаграждения:"
   ]
  },
  {
   "cell_type": "code",
   "execution_count": 17,
   "metadata": {},
   "outputs": [
    {
     "name": "stdout",
     "output_type": "stream",
     "text": [
      "0.6000000000000001\n"
     ]
    }
   ],
   "source": [
    "q1 = 45\n",
    "p1 = 0.9\n",
    "\n",
    "q2 = 10\n",
    "p2 = 0.6\n",
    "\n",
    "q3 = 45\n",
    "p3 = 0.3\n",
    "\n",
    "print(q1/100 * p1 + q2/100 * p2 + q3/100 * p3)"
   ]
  },
  {
   "cell_type": "markdown",
   "metadata": {},
   "source": [
    "## 4. Рост мужчин\n",
    "\n",
    "Рост взрослых мужчин имеет нормальное распределение со средним **m** и дисперсией **D**. Найти вероятность того, что рост взрослого мужчины:\n",
    "1. меньше a (b = None)\n",
    "2. от a до b\n",
    "3. больше b (а = None)"
   ]
  },
  {
   "cell_type": "code",
   "execution_count": 18,
   "metadata": {},
   "outputs": [
    {
     "name": "stdout",
     "output_type": "stream",
     "text": [
      "0.5888\n"
     ]
    }
   ],
   "source": [
    "def p_height(a, b, m, D):\n",
    "    A, B = -0.5, 0.5\n",
    "    if a is not None:\n",
    "        A = Ф((a - m) / D**0.5)\n",
    "    if b is not None:\n",
    "        B = Ф((b - m) / D**0.5)\n",
    "    return B - A\n",
    "\n",
    "a = 173\n",
    "b = 178\n",
    "m = 175\n",
    "D = 9\n",
    "print(p_height(a, b, m, D))"
   ]
  },
  {
   "cell_type": "markdown",
   "metadata": {},
   "source": [
    "## 5. Монеты"
   ]
  },
  {
   "cell_type": "code",
   "execution_count": 21,
   "metadata": {},
   "outputs": [
    {
     "name": "stdout",
     "output_type": "stream",
     "text": [
      "Введите номинал монеты №1: 10\n",
      "Введите число монет №1: 20\n",
      "Продолжить (да/нет)?да\n",
      "Введите номинал монеты №2: 5\n",
      "Введите число монет №2: 3\n",
      "Продолжить (да/нет)?нет\n",
      "Какую сумму нужно получить?: 45\n",
      "10р 3шт. | 5р 3шт. | \n",
      "10р 4шт. | 5р 1шт. | \n",
      "Ответ: 2\n"
     ]
    }
   ],
   "source": [
    "res = set()\n",
    "\n",
    "def money(array, c, s, val):\n",
    "    if s == val: \n",
    "        answer = ''\n",
    "        for i in range(len(array)):\n",
    "            if c[i] == 0: continue\n",
    "            answer += str(array[i][0]) + 'р ' + str(c[i]) + 'шт. | '\n",
    "        res.add(answer)\n",
    "    if s > val: pass\n",
    "    for i in range(len(array)):\n",
    "        if array[i][1] == 0: continue\n",
    "        array_tmp = np.copy(array)\n",
    "        array_tmp[i][1] -= 1\n",
    "        c_tmp = np.copy(c)\n",
    "        c_tmp[i] += 1\n",
    "        s_tmp = s + array[i][0]\n",
    "        money(array_tmp, c_tmp, s_tmp, val)\n",
    "\n",
    "i = 1\n",
    "array = []\n",
    "while(True):\n",
    "    x = int(input('Введите номинал монеты №' + str(i) + ': '))\n",
    "    y = int(input('Введите число монет №' + str(i) + ': '))\n",
    "    array.append([x, y])\n",
    "    q = input('Продолжить (да/нет)?')\n",
    "    if q == 'нет':\n",
    "        break\n",
    "    i += 1\n",
    "val = int(input('Какую сумму нужно получить?: '))\n",
    "        \n",
    "tmp = np.copy(array)\n",
    "c = [0] * len(array)\n",
    "money(tmp, c, 0, val)\n",
    "    \n",
    "for r in res:\n",
    "    print(r)\n",
    "\n",
    "print('Ответ: ' + str(len(res)))"
   ]
  },
  {
   "cell_type": "markdown",
   "metadata": {},
   "source": [
    "## 5.1. Ковариация\n",
    "\n",
    "Дано: MX = mx, DX = dx, MY = my, DY = dy, cov(XY) = cov\n",
    "\n",
    "Z = a1 X + b1 Y + c1\n",
    "\n",
    "W = a2 X + b2 Y + c2\n",
    "\n",
    "Найти ковариацию случайных величин **Z и W**"
   ]
  },
  {
   "cell_type": "code",
   "execution_count": 22,
   "metadata": {},
   "outputs": [
    {
     "name": "stdout",
     "output_type": "stream",
     "text": [
      "30\n"
     ]
    }
   ],
   "source": [
    "mx = -10\n",
    "dx = 5\n",
    "my = 8\n",
    "dy = 2\n",
    "cov = 2\n",
    "\n",
    "a1 = -3\n",
    "b1 = 1\n",
    "\n",
    "a2 = -2\n",
    "b2 = -1\n",
    "\n",
    "print (a1*a2*dx + (a1*b2 + b1*a2) * cov + b1*b2*dy)"
   ]
  },
  {
   "cell_type": "markdown",
   "metadata": {},
   "source": [
    "## 5.2. Ковариация\n",
    "\n",
    "Дано: Z = a3 X + b3 Y + c3. Случайные величины X и Y независимы.\n",
    "\n",
    "MX = mmx, DX = ddx, MY = mmy, DY = ddy\n",
    "\n",
    "Найти ковариацию случайных величин **X и Z**"
   ]
  },
  {
   "cell_type": "code",
   "execution_count": 23,
   "metadata": {},
   "outputs": [
    {
     "name": "stdout",
     "output_type": "stream",
     "text": [
      "-20\n"
     ]
    }
   ],
   "source": [
    "a3 = -5\n",
    "ddx = 4\n",
    "\n",
    "print (a3*ddx)"
   ]
  }
 ],
 "metadata": {
  "kernelspec": {
   "display_name": "Python 3 (ipykernel)",
   "language": "python",
   "name": "python3"
  },
  "language_info": {
   "codemirror_mode": {
    "name": "ipython",
    "version": 3
   },
   "file_extension": ".py",
   "mimetype": "text/x-python",
   "name": "python",
   "nbconvert_exporter": "python",
   "pygments_lexer": "ipython3",
   "version": "3.11.4"
  }
 },
 "nbformat": 4,
 "nbformat_minor": 4
}
