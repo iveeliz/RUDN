{
 "cells": [
  {
   "cell_type": "markdown",
   "id": "026cc2a4",
   "metadata": {},
   "source": [
    "# Тест"
   ]
  },
  {
   "cell_type": "code",
   "execution_count": 1,
   "id": "1f0d9ca0",
   "metadata": {},
   "outputs": [
    {
     "name": "stdout",
     "output_type": "stream",
     "text": [
      "4\n",
      "3\n",
      "2\n",
      "1\n"
     ]
    }
   ],
   "source": [
    "# ------0_1------ #\n",
    "# Развернуть список\n",
    "\n",
    "a = [1, 2, '3', 4]\n",
    "\n",
    "for i in range(len(a)):\n",
    "    print(a[-i-1])"
   ]
  },
  {
   "cell_type": "code",
   "execution_count": 2,
   "id": "97f165b6",
   "metadata": {},
   "outputs": [
    {
     "ename": "AttributeError",
     "evalue": "'tuple' object has no attribute 'append'",
     "output_type": "error",
     "traceback": [
      "\u001b[1;31m---------------------------------------------------------------------------\u001b[0m",
      "\u001b[1;31mAttributeError\u001b[0m                            Traceback (most recent call last)",
      "Cell \u001b[1;32mIn[2], line 8\u001b[0m\n\u001b[0;32m      5\u001b[0m my_tuple \u001b[38;5;241m=\u001b[39m (\u001b[38;5;241m1\u001b[39m, \u001b[38;5;241m2\u001b[39m, \u001b[38;5;241m3\u001b[39m, \u001b[38;5;241m4\u001b[39m, \u001b[38;5;241m5\u001b[39m)\n\u001b[0;32m      7\u001b[0m my_list\u001b[38;5;241m.\u001b[39mappend(\u001b[38;5;241m6\u001b[39m)\n\u001b[1;32m----> 8\u001b[0m my_tuple\u001b[38;5;241m.\u001b[39mappend(\u001b[38;5;241m6\u001b[39m)\n",
      "\u001b[1;31mAttributeError\u001b[0m: 'tuple' object has no attribute 'append'"
     ]
    }
   ],
   "source": [
    "# ------0_2------ #\n",
    "# Что выведет код?\n",
    "\n",
    "my_list = [1, 2, 3, 4, 5]\n",
    "my_tuple = (1, 2, 3, 4, 5)\n",
    "\n",
    "my_list.append(6)\n",
    "my_tuple.append(6)"
   ]
  },
  {
   "cell_type": "code",
   "execution_count": 3,
   "id": "9a61cc2a",
   "metadata": {},
   "outputs": [
    {
     "data": {
      "text/plain": [
       "[1, 2, 3, 4, 5, 6]"
      ]
     },
     "execution_count": 3,
     "metadata": {},
     "output_type": "execute_result"
    }
   ],
   "source": [
    "my_list"
   ]
  },
  {
   "cell_type": "code",
   "execution_count": 4,
   "id": "308a2fad",
   "metadata": {},
   "outputs": [
    {
     "name": "stdout",
     "output_type": "stream",
     "text": [
      "10 23\n"
     ]
    }
   ],
   "source": [
    "# ------0_3------ #\n",
    "# Что выведет код?\n",
    "a = 10\n",
    "b = 23\n",
    "\n",
    "def some_func(a: str = 4, b: int = 3) -> dict:\n",
    "    ''''''\n",
    "    a = 11\n",
    "    b = a + b\n",
    "\n",
    "    return a, b\n",
    "\n",
    "some_func(a)\n",
    "\n",
    "print(a, b)"
   ]
  },
  {
   "cell_type": "code",
   "execution_count": 5,
   "id": "513a83d6",
   "metadata": {},
   "outputs": [
    {
     "name": "stdout",
     "output_type": "stream",
     "text": [
      "0\n",
      "1\n",
      "2\n",
      "4\n"
     ]
    }
   ],
   "source": [
    "# ------0_4------ #\n",
    "# Что выведет код?\n",
    "\n",
    "for i in range(5):\n",
    "    if i==3:\n",
    "        continue\n",
    "    print(i)"
   ]
  },
  {
   "cell_type": "code",
   "execution_count": 6,
   "id": "2993bcda",
   "metadata": {},
   "outputs": [
    {
     "name": "stdout",
     "output_type": "stream",
     "text": [
      "0\n",
      "1\n",
      "2\n"
     ]
    }
   ],
   "source": [
    "for i in range(5):\n",
    "    if i==3:\n",
    "        break\n",
    "    print(i)"
   ]
  },
  {
   "cell_type": "code",
   "execution_count": 7,
   "id": "bfda9c60",
   "metadata": {},
   "outputs": [
    {
     "name": "stdout",
     "output_type": "stream",
     "text": [
      "0\n",
      "1\n",
      "2\n",
      "3\n",
      "4\n"
     ]
    }
   ],
   "source": [
    "for i in range(5):\n",
    "    if i==3:\n",
    "        pass\n",
    "    print(i)"
   ]
  },
  {
   "cell_type": "code",
   "execution_count": 8,
   "id": "8c3d1d7a",
   "metadata": {},
   "outputs": [],
   "source": [
    "# ------0_5------ #\n",
    "# Что выведет код?\n",
    "\n",
    "true_lst = []\n",
    "if true_lst:\n",
    "    print('test')"
   ]
  },
  {
   "cell_type": "code",
   "execution_count": 9,
   "id": "3f603468",
   "metadata": {},
   "outputs": [
    {
     "name": "stdout",
     "output_type": "stream",
     "text": [
      "test\n"
     ]
    }
   ],
   "source": [
    "if any([True, False]):\n",
    "    print('test') "
   ]
  },
  {
   "cell_type": "code",
   "execution_count": 10,
   "id": "91532d69",
   "metadata": {},
   "outputs": [
    {
     "name": "stdout",
     "output_type": "stream",
     "text": [
      "test\n"
     ]
    }
   ],
   "source": [
    "if not None:\n",
    "    print('test')"
   ]
  },
  {
   "cell_type": "code",
   "execution_count": 11,
   "id": "66095e41",
   "metadata": {},
   "outputs": [
    {
     "data": {
      "text/plain": [
       "'Interview'"
      ]
     },
     "execution_count": 11,
     "metadata": {},
     "output_type": "execute_result"
    }
   ],
   "source": [
    "# ------0_6------ #\n",
    "# Насписать алгоритм соединения списка в строку\n",
    "lst = ['I', 'n', 't', 'e', 'r', 'v', 'i', 'e', 'w']\n",
    "# lst -> 'Interview' (str)\n",
    "\n",
    "string =''\n",
    "for i in lst:\n",
    "    string += i\n",
    "string"
   ]
  },
  {
   "cell_type": "code",
   "execution_count": 12,
   "id": "71cd160b",
   "metadata": {},
   "outputs": [
    {
     "data": {
      "text/plain": [
       "{1: 'a', 2: 'b', 3: 'c', 4: 'd'}"
      ]
     },
     "execution_count": 12,
     "metadata": {},
     "output_type": "execute_result"
    }
   ],
   "source": [
    "# ------1------- #\n",
    "# поменять ключи и значения местами\n",
    "\n",
    "sample_dict  = {'a':1, 'b':2, 'c':3, 'd':4}\n",
    "# нужно получить {1:'a', 2:'b', 3:'c', 4:'d'}\n",
    "\n",
    "new_dict = {}\n",
    "\n",
    "for key in sample_dict.keys():\n",
    "    new_dict[sample_dict[key]] = key\n",
    "new_dict"
   ]
  },
  {
   "cell_type": "code",
   "execution_count": 13,
   "id": "1aaf7ad5",
   "metadata": {},
   "outputs": [
    {
     "name": "stdout",
     "output_type": "stream",
     "text": [
      "second_tuple является подмножеством first_tuple\n"
     ]
    }
   ],
   "source": [
    "# ------2------- #\n",
    "# проверить является ли second_tuple подмножеством first_tuple\n",
    "\n",
    "first_tuple = (1, 2, 3, 4, 5)\n",
    "second_tuple = (2, 4, 5)\n",
    "\n",
    "# Преобразуем кортежи в множества\n",
    "first_set = set(first_tuple)\n",
    "second_set = set(second_tuple)\n",
    "\n",
    "# Проверим, является ли second_set подмножеством first_set\n",
    "if second_set.issubset(first_set):\n",
    "    print(\"second_tuple является подмножеством first_tuple\")\n",
    "else:\n",
    "    print(\"second_tuple не является подмножеством first_tuple\")"
   ]
  },
  {
   "cell_type": "code",
   "execution_count": 14,
   "id": "75542219",
   "metadata": {},
   "outputs": [
    {
     "name": "stdout",
     "output_type": "stream",
     "text": [
      "              name    code\n",
      "0           Москва  moscow\n",
      "1  Санкт-Петербург     spb\n"
     ]
    }
   ],
   "source": [
    "# ------3------ #\n",
    "# Нужно отобрать записи с country_code='ru'\n",
    "# положить их в pandas df с 2мя столбцами 'name', 'code'\n",
    "\n",
    "# JSON\n",
    "\n",
    "cities = [\n",
    "    {'name': 'ОАЭ', 'code': 'dubai', 'domain': 'ae', 'country_code': 'ae'}, \n",
    "    {'name': 'Минск', 'code': 'minsk', 'domain': 'by', 'country_code': 'by'},\n",
    "    {'name': 'Кипр', 'code': 'cyprus', 'domain': 'com.cy', 'country_code': 'cy'},\n",
    "    {'name': 'Москва', 'code': 'moscow', 'domain': 'ru', 'country_code': 'ru'},\n",
    "    {'name': 'Санкт-Петербург', 'code': 'spb', 'domain': 'ru', 'country_code': 'ru'}]\n",
    "\n",
    "import pandas as pd\n",
    "\n",
    "# Отфильтруем записи с country_code='ru'\n",
    "russian_cities = [city for city in cities if city['country_code'] == 'ru']\n",
    "\n",
    "# Создадим DataFrame\n",
    "df = pd.DataFrame(russian_cities, columns=['name', 'code'])\n",
    "\n",
    "# Выведем DataFrame\n",
    "print(df)"
   ]
  },
  {
   "cell_type": "code",
   "execution_count": 15,
   "id": "4c099f3c",
   "metadata": {},
   "outputs": [
    {
     "name": "stdout",
     "output_type": "stream",
     "text": [
      "[[42], [42]]\n",
      "[42]\n"
     ]
    }
   ],
   "source": [
    "# ------4------ #\n",
    "\n",
    "x = [[]] * 3\n",
    "y = x.pop()\n",
    "y.append(42)\n",
    "print(x)\n",
    "print(y)"
   ]
  },
  {
   "cell_type": "code",
   "execution_count": 16,
   "id": "3b6837ec",
   "metadata": {},
   "outputs": [],
   "source": [
    "# ------5------- #\n",
    "\n",
    "# Анаграмма — это слово или фраза, образованная путем перестановки\n",
    "# букв другого слова или фразы, обычно с использованием всех исходных букв ровно один раз.\n",
    "\n",
    "s = \"anagram\"\n",
    "t = \"nagaram\"\n",
    "# -> True\n",
    "\n",
    "s = \"rat\"\n",
    "t = \"car\"\n",
    "# -> False\n",
    "\n",
    "# Необходимо написать функцию, которая проверяет валидность анаграммы"
   ]
  },
  {
   "cell_type": "code",
   "execution_count": 17,
   "id": "8d1772b8",
   "metadata": {},
   "outputs": [
    {
     "name": "stdout",
     "output_type": "stream",
     "text": [
      "True\n",
      "False\n"
     ]
    }
   ],
   "source": [
    "def is_anagram(s, t):\n",
    "    # Убедимся, что строки имеют одинаковую длину\n",
    "    if len(s) != len(t):\n",
    "        return False\n",
    "    \n",
    "    # Создадим словари для подсчета символов в обеих строках\n",
    "    s_count = {}\n",
    "    t_count = {}\n",
    "    \n",
    "    # Заполним словарь s_count счетчиками символов в строке s\n",
    "    for char in s:\n",
    "        s_count[char] = s_count.get(char, 0) + 1\n",
    "    \n",
    "    # Заполним словарь t_count счетчиками символов в строке t\n",
    "    for char in t:\n",
    "        t_count[char] = t_count.get(char, 0) + 1\n",
    "    \n",
    "    # Сравним словари для s и t\n",
    "    return s_count == t_count\n",
    "\n",
    "# Примеры использования\n",
    "s1 = \"anagram\"\n",
    "t1 = \"nagaram\"\n",
    "print(is_anagram(s1, t1))  # Должно вернуть True\n",
    "\n",
    "s2 = \"rat\"\n",
    "t2 = \"car\"\n",
    "print(is_anagram(s2, t2))  # Должно вернуть False"
   ]
  }
 ],
 "metadata": {
  "kernelspec": {
   "display_name": "Python 3 (ipykernel)",
   "language": "python",
   "name": "python3"
  },
  "language_info": {
   "codemirror_mode": {
    "name": "ipython",
    "version": 3
   },
   "file_extension": ".py",
   "mimetype": "text/x-python",
   "name": "python",
   "nbconvert_exporter": "python",
   "pygments_lexer": "ipython3",
   "version": "3.11.4"
  }
 },
 "nbformat": 4,
 "nbformat_minor": 5
}
