{
 "cells": [
  {
   "cell_type": "markdown",
   "id": "79636d54",
   "metadata": {},
   "source": [
    "# Sudoku"
   ]
  },
  {
   "cell_type": "code",
   "execution_count": 1,
   "id": "16f708f0",
   "metadata": {},
   "outputs": [],
   "source": [
    "import pathlib\n",
    "import typing as tp"
   ]
  },
  {
   "cell_type": "code",
   "execution_count": 2,
   "id": "127d34f4",
   "metadata": {},
   "outputs": [],
   "source": [
    "T = tp.TypeVar(\"T\")"
   ]
  },
  {
   "cell_type": "code",
   "execution_count": 3,
   "id": "8f0cc310",
   "metadata": {},
   "outputs": [],
   "source": [
    "def group(values, n):\n",
    "    \n",
    "    list = []\n",
    "    \n",
    "    while values:\n",
    "        list.append(values[:n])\n",
    "        del values[:n]\n",
    "    return list"
   ]
  },
  {
   "cell_type": "code",
   "execution_count": 4,
   "id": "c2086e32",
   "metadata": {},
   "outputs": [
    {
     "data": {
      "text/plain": [
       "[[1, 2, 3], [4, 5, 6], [7, 8, 9]]"
      ]
     },
     "execution_count": 4,
     "metadata": {},
     "output_type": "execute_result"
    }
   ],
   "source": [
    "group([1,2,3,4,5,6,7,8,9], 3)"
   ]
  },
  {
   "cell_type": "code",
   "execution_count": 5,
   "id": "08e72c0c",
   "metadata": {},
   "outputs": [],
   "source": [
    "def group1(values, n):\n",
    "    \n",
    "    list = []\n",
    "    \n",
    "    for i in range(len(values) // n):\n",
    "        list.append(values[(i*n):(i+1)*n])\n",
    "    return list"
   ]
  },
  {
   "cell_type": "code",
   "execution_count": 6,
   "id": "403e0c3c",
   "metadata": {},
   "outputs": [
    {
     "data": {
      "text/plain": [
       "[[1, 2, 3], [4, 5, 6], [7, 8, 9]]"
      ]
     },
     "execution_count": 6,
     "metadata": {},
     "output_type": "execute_result"
    }
   ],
   "source": [
    "group1([1,2,3,4,5,6,7,8,9], 3)"
   ]
  },
  {
   "cell_type": "code",
   "execution_count": 7,
   "id": "b7c43bc4",
   "metadata": {},
   "outputs": [],
   "source": [
    "def group2(values, n):\n",
    "    return [values[(i*n):(i+1)*n] for i in range(len(values) // n)]"
   ]
  },
  {
   "cell_type": "code",
   "execution_count": 8,
   "id": "3af2ff9c",
   "metadata": {},
   "outputs": [
    {
     "data": {
      "text/plain": [
       "[[1, 2, 3], [4, 5, 6], [7, 8, 9]]"
      ]
     },
     "execution_count": 8,
     "metadata": {},
     "output_type": "execute_result"
    }
   ],
   "source": [
    "group([1,2,3,4,5,6,7,8,9], 3)"
   ]
  },
  {
   "cell_type": "code",
   "execution_count": 9,
   "id": "1b9bdc78",
   "metadata": {},
   "outputs": [],
   "source": [
    "def create_grid(puzzle):\n",
    "    digits = [c for c in puzzle if c in \"123456789.\"]\n",
    "    grid = group(digits, 9)\n",
    "    return grid"
   ]
  },
  {
   "cell_type": "code",
   "execution_count": 10,
   "id": "c0c7eb8f",
   "metadata": {},
   "outputs": [],
   "source": [
    " def read_sudoku(path):\n",
    "    with open(path) as f:\n",
    "        puzzle = f.read()\n",
    "    return create_grid(puzzle)"
   ]
  },
  {
   "cell_type": "code",
   "execution_count": 11,
   "id": "7d3753a6",
   "metadata": {},
   "outputs": [
    {
     "data": {
      "text/plain": [
       "[['5', '3', '.', '.', '7', '.', '.', '.', '.'],\n",
       " ['6', '.', '.', '1', '9', '5', '.', '.', '.'],\n",
       " ['.', '9', '8', '.', '.', '.', '.', '6', '.'],\n",
       " ['8', '.', '.', '.', '6', '.', '.', '.', '3'],\n",
       " ['4', '.', '.', '8', '.', '3', '.', '.', '1'],\n",
       " ['7', '.', '.', '.', '2', '.', '.', '.', '6'],\n",
       " ['.', '6', '.', '.', '.', '.', '2', '8', '.'],\n",
       " ['.', '.', '.', '4', '1', '9', '.', '.', '5'],\n",
       " ['.', '.', '.', '.', '8', '.', '.', '7', '9']]"
      ]
     },
     "execution_count": 11,
     "metadata": {},
     "output_type": "execute_result"
    }
   ],
   "source": [
    "read_sudoku('puzzle1.txt')"
   ]
  },
  {
   "cell_type": "code",
   "execution_count": 12,
   "id": "6e42d5d4",
   "metadata": {},
   "outputs": [
    {
     "data": {
      "text/plain": [
       "'5 3 . . 7 . . . .'"
      ]
     },
     "execution_count": 12,
     "metadata": {},
     "output_type": "execute_result"
    }
   ],
   "source": [
    "puzzle = read_sudoku('puzzle1.txt')\n",
    "\n",
    "' '.join(puzzle[0])"
   ]
  },
  {
   "cell_type": "code",
   "execution_count": 13,
   "id": "8ce323a6",
   "metadata": {},
   "outputs": [
    {
     "name": "stdout",
     "output_type": "stream",
     "text": [
      "5 3 . . 7 . . . .\n",
      "6 . . 1 9 5 . . .\n",
      ". 9 8 . . . . 6 .\n",
      "8 . . . 6 . . . 3\n",
      "4 . . 8 . 3 . . 1\n",
      "7 . . . 2 . . . 6\n",
      ". 6 . . . . 2 8 .\n",
      ". . . 4 1 9 . . 5\n",
      ". . . . 8 . . 7 9\n"
     ]
    }
   ],
   "source": [
    "puzzle = read_sudoku('puzzle1.txt')\n",
    "\n",
    "for i in range(len(puzzle)):\n",
    "    print(' '.join(puzzle[i]))"
   ]
  },
  {
   "cell_type": "code",
   "execution_count": 14,
   "id": "0f7916b6",
   "metadata": {},
   "outputs": [],
   "source": [
    "def display(grid):\n",
    "    \n",
    "    width = 2\n",
    "    \n",
    "    line = \"+\".join([\"-\" * (width * 3)] * 3)\n",
    "    \n",
    "    for row in range(9):\n",
    "        print(\n",
    "            \"\".join(\n",
    "                grid[row][col].center(width) + (\"|\" if str(col) in \"25\" else \"\") for col in range(9)\n",
    "            )\n",
    "        )\n",
    "        if str(row) in \"25\":\n",
    "            print(line)\n",
    "    print()"
   ]
  },
  {
   "cell_type": "code",
   "execution_count": 15,
   "id": "0dcb26e7",
   "metadata": {},
   "outputs": [
    {
     "name": "stdout",
     "output_type": "stream",
     "text": [
      "5 3 . |. 7 . |. . . \n",
      "6 . . |1 9 5 |. . . \n",
      ". 9 8 |. . . |. 6 . \n",
      "------+------+------\n",
      "8 . . |. 6 . |. . 3 \n",
      "4 . . |8 . 3 |. . 1 \n",
      "7 . . |. 2 . |. . 6 \n",
      "------+------+------\n",
      ". 6 . |. . . |2 8 . \n",
      ". . . |4 1 9 |. . 5 \n",
      ". . . |. 8 . |. 7 9 \n",
      "\n"
     ]
    }
   ],
   "source": [
    "display(puzzle)"
   ]
  },
  {
   "cell_type": "code",
   "execution_count": 16,
   "id": "be47b6c0",
   "metadata": {},
   "outputs": [],
   "source": [
    "def get_row(grid, pos):\n",
    "\n",
    "    return grid[pos[0]]"
   ]
  },
  {
   "cell_type": "code",
   "execution_count": 17,
   "id": "4f59cf21",
   "metadata": {},
   "outputs": [],
   "source": [
    "def get_col(grid, pos):\n",
    "    \n",
    "    grid_new = list()\n",
    "    for i in range(len(grid)):\n",
    "        grid_new.append(grid[i][pos[1]])\n",
    "    return grid_new"
   ]
  },
  {
   "cell_type": "code",
   "execution_count": 18,
   "id": "dd480b50",
   "metadata": {},
   "outputs": [],
   "source": [
    "def get_block(grid, pos):\n",
    "    \n",
    "    grid_new = list()\n",
    "    startRow = pos[0] - pos[0] % 3\n",
    "    startCol = pos[1] - pos[1] % 3\n",
    "    for i in range(3):\n",
    "        for j in range(3):\n",
    "            grid_new.append(grid[startRow + i][startCol + j])\n",
    "    return grid_new"
   ]
  },
  {
   "cell_type": "code",
   "execution_count": 19,
   "id": "9945dc0d",
   "metadata": {},
   "outputs": [
    {
     "data": {
      "text/plain": [
       "['1', '2', '.']"
      ]
     },
     "execution_count": 19,
     "metadata": {},
     "output_type": "execute_result"
    }
   ],
   "source": [
    "get_row([['1', '2', '.'], ['4', '5', '6'], ['7', '8', '9']], (0, 0))"
   ]
  },
  {
   "cell_type": "code",
   "execution_count": 20,
   "id": "be85e016",
   "metadata": {},
   "outputs": [
    {
     "data": {
      "text/plain": [
       "['1', '4', '7']"
      ]
     },
     "execution_count": 20,
     "metadata": {},
     "output_type": "execute_result"
    }
   ],
   "source": [
    "get_col([['1', '2', '.'], ['4', '5', '6'], ['7', '8', '9']], (0, 0))"
   ]
  },
  {
   "cell_type": "code",
   "execution_count": 21,
   "id": "da6666d0",
   "metadata": {},
   "outputs": [
    {
     "data": {
      "text/plain": [
       "['2', '8', '.', '.', '.', '5', '.', '7', '9']"
      ]
     },
     "execution_count": 21,
     "metadata": {},
     "output_type": "execute_result"
    }
   ],
   "source": [
    "grid = read_sudoku('puzzle1.txt')\n",
    "get_block(grid, (8, 8))"
   ]
  },
  {
   "cell_type": "code",
   "execution_count": 22,
   "id": "d93b9b3c",
   "metadata": {},
   "outputs": [],
   "source": [
    "def find_empty_positions(grid):\n",
    "    \n",
    "    row = 0\n",
    "    col = 0\n",
    "    \n",
    "    for i in range(len(grid)):\n",
    "        for j in range(len(grid)):\n",
    "            if grid[i][j] == '.':\n",
    "                row = i\n",
    "                col = j\n",
    "                a = (i, j)\n",
    "                return a\n",
    "    a = (-1, -1)\n",
    "    return a"
   ]
  },
  {
   "cell_type": "code",
   "execution_count": 23,
   "id": "453c9da1",
   "metadata": {},
   "outputs": [],
   "source": [
    "def find_possible_values(grid, pos):\n",
    "    \n",
    "    row = get_row(grid, pos)\n",
    "    col = get_col(grid, pos)\n",
    "    block = get_block(grid, pos)\n",
    "    \n",
    "    values = set(row + col + block)\n",
    "    \n",
    "    return {'1','2','3','4','5','6','7','8','9','.'}.difference(values)"
   ]
  },
  {
   "cell_type": "code",
   "execution_count": 24,
   "id": "3d2f9ed8",
   "metadata": {},
   "outputs": [],
   "source": [
    "def solve(grid):\n",
    "    \n",
    "    pos = find_empty_positions(grid)\n",
    "    \n",
    "    if pos == (-1, -1):\n",
    "        return grid\n",
    "    \n",
    "    pos_values = sorted(list(find_possible_values(grid, pos)))\n",
    "    \n",
    "    if pos_values:\n",
    "        for guess in pos_values:\n",
    "            grid[pos[0]][pos[1]] = guess\n",
    "            if solve(grid):\n",
    "                return grid\n",
    "            grid[pos[0]][pos[1]] = '.'\n",
    "    return False"
   ]
  },
  {
   "cell_type": "code",
   "execution_count": 25,
   "id": "e4a979b8",
   "metadata": {},
   "outputs": [
    {
     "data": {
      "text/plain": [
       "(1, 1)"
      ]
     },
     "execution_count": 25,
     "metadata": {},
     "output_type": "execute_result"
    }
   ],
   "source": [
    "find_empty_positions([['1', '2', '3'], ['4', '.', '6'], ['7', '8', '9']])"
   ]
  },
  {
   "cell_type": "code",
   "execution_count": 26,
   "id": "7691ca9b",
   "metadata": {},
   "outputs": [
    {
     "data": {
      "text/plain": [
       "{'2', '5', '9'}"
      ]
     },
     "execution_count": 26,
     "metadata": {},
     "output_type": "execute_result"
    }
   ],
   "source": [
    "grid = read_sudoku('puzzle1.txt')\n",
    "find_possible_values(grid, (4,7))"
   ]
  },
  {
   "cell_type": "code",
   "execution_count": 27,
   "id": "d61b4e38",
   "metadata": {},
   "outputs": [
    {
     "data": {
      "text/plain": [
       "[['5', '3', '4', '6', '7', '8', '9', '1', '2'],\n",
       " ['6', '7', '2', '1', '9', '5', '3', '4', '8'],\n",
       " ['1', '9', '8', '3', '4', '2', '5', '6', '7'],\n",
       " ['8', '5', '9', '7', '6', '1', '4', '2', '3'],\n",
       " ['4', '2', '6', '8', '5', '3', '7', '9', '1'],\n",
       " ['7', '1', '3', '9', '2', '4', '8', '5', '6'],\n",
       " ['9', '6', '1', '5', '3', '7', '2', '8', '4'],\n",
       " ['2', '8', '7', '4', '1', '9', '6', '3', '5'],\n",
       " ['3', '4', '5', '2', '8', '6', '1', '7', '9']]"
      ]
     },
     "execution_count": 27,
     "metadata": {},
     "output_type": "execute_result"
    }
   ],
   "source": [
    "grid = read_sudoku('puzzle1.txt')\n",
    "solve(grid)"
   ]
  },
  {
   "cell_type": "code",
   "execution_count": 28,
   "id": "0999ffa6",
   "metadata": {},
   "outputs": [
    {
     "name": "stdout",
     "output_type": "stream",
     "text": [
      "5 3 4 |6 7 8 |9 1 2 \n",
      "6 7 2 |1 9 5 |3 4 8 \n",
      "1 9 8 |3 4 2 |5 6 7 \n",
      "------+------+------\n",
      "8 5 9 |7 6 1 |4 2 3 \n",
      "4 2 6 |8 5 3 |7 9 1 \n",
      "7 1 3 |9 2 4 |8 5 6 \n",
      "------+------+------\n",
      "9 6 1 |5 3 7 |2 8 4 \n",
      "2 8 7 |4 1 9 |6 3 5 \n",
      "3 4 5 |2 8 6 |1 7 9 \n",
      "\n"
     ]
    }
   ],
   "source": [
    "solution = solve(grid)\n",
    "display(solution)"
   ]
  },
  {
   "cell_type": "code",
   "execution_count": 29,
   "id": "a6f69968",
   "metadata": {},
   "outputs": [],
   "source": [
    "def check_solution(solution):\n",
    "    \n",
    "    check_set = {'1','2','3','4','5','6','7','8','9'}\n",
    "    \n",
    "    for i in range(9):\n",
    "        for j in range(9):\n",
    "            a = set(get_row(solution, (i, j)))\n",
    "            b = set(get_col(solution, (i, j)))\n",
    "            c = set(get_block(solution, (i, j)))\n",
    "            if (check_set.difference(a)) or (check_set.difference(b)) or (check_set.difference(c)):\n",
    "                return False\n",
    "    return True"
   ]
  },
  {
   "cell_type": "code",
   "execution_count": 30,
   "id": "4c85017a",
   "metadata": {},
   "outputs": [
    {
     "data": {
      "text/plain": [
       "True"
      ]
     },
     "execution_count": 30,
     "metadata": {},
     "output_type": "execute_result"
    }
   ],
   "source": [
    "solution = solve(grid)\n",
    "check_solution(solution)"
   ]
  },
  {
   "cell_type": "code",
   "execution_count": 31,
   "id": "cf1c8367",
   "metadata": {},
   "outputs": [],
   "source": [
    "def generate_sudoku(N):\n",
    "    \n",
    "    import random as rd\n",
    "    \n",
    "    grid_template = [['1', '2', '3', '4', '5', '6', '7', '8', '9'],\n",
    "                     ['4', '5', '6', '7', '8', '9', '1', '2', '3'],\n",
    "                     ['7', '8', '9', '1', '2', '3', '4', '5', '6'],\n",
    "                     ['2', '3', '4', '5', '6', '7', '8', '9', '1'],\n",
    "                     ['5', '6', '7', '8', '9', '1', '2', '3', '4'],\n",
    "                     ['8', '9', '1', '2', '3', '4', '5', '6', '7'],\n",
    "                     ['3', '4', '5', '6', '7', '8', '9', '1', '2'],\n",
    "                     ['6', '7', '8', '9', '1', '2', '3', '4', '5'],\n",
    "                     ['9', '1', '2', '3', '4', '5', '6', '7', '8']]\n",
    "    \n",
    "    grid_1 = [['.'] * 9 for i in range(9)]\n",
    "    grid_2 = [['.'] * 9 for i in range(9)]\n",
    "    \n",
    "    while not check_solution(grid_2):\n",
    "        \n",
    "        number_list1 = [i for i in range(9)]\n",
    "        number_list2 = [i for i in range(9)]\n",
    "        \n",
    "        rd.shuffle(number_list1)\n",
    "        \n",
    "        for i in range(9):\n",
    "            grid_1[i] = grid_template[number_list1[i]]\n",
    "            \n",
    "        rd.shuffle(number_list2)\n",
    "        \n",
    "        for i in range(9):\n",
    "            for j in range(9):\n",
    "                grid_2[j][i] = grid_1[j][number_list2[i]]\n",
    "                \n",
    "        grid_1 = [['.'] * 9 for i in range(9)]\n",
    "        \n",
    "    M = max(0, 81 - N)\n",
    "    kol = 0\n",
    "    \n",
    "    while kol != M:\n",
    "        \n",
    "        x = rd.randint(0,8)\n",
    "        y = rd.randint(0,8)\n",
    "        \n",
    "        if grid_2[x][y] != '.':\n",
    "            grid_2[x][y] = '.'\n",
    "            kol += 1\n",
    "            \n",
    "    return grid_2"
   ]
  },
  {
   "cell_type": "code",
   "execution_count": 32,
   "id": "5142c6a5",
   "metadata": {},
   "outputs": [
    {
     "name": "stdout",
     "output_type": "stream",
     "text": [
      ". 2 . |. . 1 |8 . 6 \n",
      "1 8 9 |. 2 . |. 4 . \n",
      ". 5 6 |. 8 . |. . 9 \n",
      "------+------+------\n",
      "3 . . |. 4 . |7 6 . \n",
      ". 4 . |2 7 . |. 9 8 \n",
      ". 7 . |. . . |4 . . \n",
      "------+------+------\n",
      ". 6 . |4 9 5 |. 2 . \n",
      "2 . . |. 3 8 |6 5 4 \n",
      ". . 4 |1 . . |9 8 7 \n",
      "\n"
     ]
    }
   ],
   "source": [
    "sudoku = generate_sudoku(40)\n",
    "display(sudoku)"
   ]
  },
  {
   "cell_type": "code",
   "execution_count": 33,
   "id": "e6f89212",
   "metadata": {},
   "outputs": [
    {
     "name": "stdout",
     "output_type": "stream",
     "text": [
      "4 2 3 |9 5 1 |8 7 6 \n",
      "1 8 9 |6 2 7 |5 4 3 \n",
      "7 5 6 |3 8 4 |2 1 9 \n",
      "------+------+------\n",
      "3 1 2 |8 4 9 |7 6 5 \n",
      "6 4 5 |2 7 3 |1 9 8 \n",
      "9 7 8 |5 1 6 |4 3 2 \n",
      "------+------+------\n",
      "8 6 7 |4 9 5 |3 2 1 \n",
      "2 9 1 |7 3 8 |6 5 4 \n",
      "5 3 4 |1 6 2 |9 8 7 \n",
      "\n"
     ]
    }
   ],
   "source": [
    "solve(sudoku)\n",
    "display(sudoku)"
   ]
  },
  {
   "cell_type": "code",
   "execution_count": 34,
   "id": "37d695f7",
   "metadata": {},
   "outputs": [
    {
     "name": "stdout",
     "output_type": "stream",
     "text": [
      "6 . . |. . . |4 7 . \n",
      ". 7 4 |9 . 6 |8 . . \n",
      ". 5 . |7 1 . |6 . . \n",
      "------+------+------\n",
      "2 . . |. . 7 |. 3 6 \n",
      ". . 3 |. 2 . |7 1 . \n",
      "4 1 . |3 6 . |. 5 8 \n",
      "------+------+------\n",
      "5 2 8 |. . 1 |. . . \n",
      ". 4 1 |6 . . |5 8 . \n",
      "3 . . |2 5 8 |1 . . \n",
      "\n"
     ]
    }
   ],
   "source": [
    "sudoku = generate_sudoku(40)\n",
    "display(sudoku)"
   ]
  },
  {
   "cell_type": "code",
   "execution_count": 35,
   "id": "33181bca",
   "metadata": {},
   "outputs": [
    {
     "name": "stdout",
     "output_type": "stream",
     "text": [
      "6 3 9 |5 8 2 |4 7 1 \n",
      "1 7 4 |9 3 6 |8 2 5 \n",
      "8 5 2 |7 1 4 |6 9 3 \n",
      "------+------+------\n",
      "2 8 5 |1 4 7 |9 3 6 \n",
      "9 6 3 |8 2 5 |7 1 4 \n",
      "4 1 7 |3 6 9 |2 5 8 \n",
      "------+------+------\n",
      "5 2 8 |4 7 1 |3 6 9 \n",
      "7 4 1 |6 9 3 |5 8 2 \n",
      "3 9 6 |2 5 8 |1 4 7 \n",
      "\n"
     ]
    }
   ],
   "source": [
    "solve(sudoku)\n",
    "display(sudoku)"
   ]
  }
 ],
 "metadata": {
  "kernelspec": {
   "display_name": "Python 3 (ipykernel)",
   "language": "python",
   "name": "python3"
  },
  "language_info": {
   "codemirror_mode": {
    "name": "ipython",
    "version": 3
   },
   "file_extension": ".py",
   "mimetype": "text/x-python",
   "name": "python",
   "nbconvert_exporter": "python",
   "pygments_lexer": "ipython3",
   "version": "3.11.4"
  }
 },
 "nbformat": 4,
 "nbformat_minor": 5
}
