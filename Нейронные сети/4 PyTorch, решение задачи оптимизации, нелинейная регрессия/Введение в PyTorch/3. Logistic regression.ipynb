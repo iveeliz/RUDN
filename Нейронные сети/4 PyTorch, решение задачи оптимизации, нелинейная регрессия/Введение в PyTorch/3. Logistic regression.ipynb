{
 "cells": [
  {
   "cell_type": "markdown",
   "metadata": {},
   "source": [
    "https://github.com/yunjey/pytorch-tutorial/blob/master/tutorials/01-basics/logistic_regression/main.py#L33-L34"
   ]
  },
  {
   "cell_type": "markdown",
   "metadata": {},
   "source": [
    "# Логистическая Регрессия\n",
    "\n",
    "Логистическая регрессия - это метод, который используется для решения задач классификации, то есть для определения категории или класса, к которому принадлежит некоторый объект или наблюдение\n",
    "\n",
    "## Основные понятия\n",
    "\n",
    "- **Бинарная Классификация**: Логистическая регрессия применяется чаще всего в задачах бинарной классификации, где необходимо отнести объект к одному из двух классов (например, \"положительный\" или \"отрицательный\" результат).\n",
    "\n",
    "- **Логистическая Функция для Бинарной классификации**: Центральным элементом логистической регрессии является логистическая функция (сигмоида), которая преобразует линейную комбинацию входных признаков в вероятность принадлежности к одному из классов. Формула сигмоиды:\n",
    "\n",
    "    $P(Y=1) = 1 / (1 + e^{-(w_0 + w_1x_1 + w_2x_2 + \\ldots + w_nx_n)})$\n",
    "\n",
    "  где:\n",
    "  - $P(Y=1)$ - вероятность принадлежности к классу 1.\n",
    "  - $w_0, w_1, \\ldots, w_n$ - веса, которые модель настраивает в процессе обучения.\n",
    "  - $x_1, x_2, \\ldots, x_n$ - входные признаки.\n",
    "\n",
    "## Цель логистической регрессии\n",
    "\n",
    "Цель логистической регрессии - настроить веса модели так, чтобы она могла предсказывать вероятности принадлежности объекта к классу 1. Затем можно установить порог вероятности (например, 0.5), чтобы классифицировать объекты.\n",
    "\n",
    "## Обучение Логистической Регрессии\n",
    "\n",
    "Процесс обучения логистической регрессии включает в себя нахождение оптимальных значений весов $w_0, w_1, \\ldots, w_n$, которые минимизируют ошибку модели\n",
    "\n",
    "## Применение Логистической Регрессии\n",
    "\n",
    "Логистическая регрессия может быть использована для решения множества задач классификации, таких как:\n",
    "- Диагностика болезней (например, предсказание наличия или отсутствия заболевания)\n",
    "- Финансовые решения (например, определение вероятности невозврата кредита)\n",
    "- Рекомендации (например, классификация продуктов или контента для пользователей)"
   ]
  },
  {
   "cell_type": "code",
   "execution_count": 1,
   "metadata": {},
   "outputs": [],
   "source": [
    "import torch\n",
    "import torch.nn as nn\n",
    "import torchvision\n",
    "import torchvision.transforms as transforms"
   ]
  },
  {
   "cell_type": "code",
   "execution_count": 2,
   "metadata": {},
   "outputs": [],
   "source": [
    "from matplotlib import pyplot as plt"
   ]
  },
  {
   "cell_type": "code",
   "execution_count": 3,
   "metadata": {},
   "outputs": [],
   "source": [
    "# Hyper-parameters \n",
    "input_size = 28 * 28    # 784\n",
    "num_classes = 10\n",
    "num_epochs = 5\n",
    "batch_size = 100\n",
    "learning_rate = 0.001"
   ]
  },
  {
   "cell_type": "markdown",
   "metadata": {},
   "source": [
    "# 1 Этап - Данные"
   ]
  },
  {
   "cell_type": "markdown",
   "metadata": {},
   "source": [
    "1. Создаем переменную `train_dataset`, которая представляет собой обучающий набор данных MNIST. Параметры включают:\n",
    "\n",
    "    `root='../../data'` - путь к корневой директории, где будут сохранены данные (если они ещё не скачаны)\n",
    "    \n",
    "    `train=True` - указывает, что мы загружаем обучающий набор данных\n",
    "    \n",
    "    `transform=transforms.ToTensor()` - применяет преобразование к данным, которое преобразует изображения в тензоры PyTorch\n",
    "    \n",
    "    `download=True` - указывает, что данные должны быть автоматически загружены, если они еще не были скачаны\n",
    "    \n",
    "2. Аналогично, создается переменная `test_dataset`, представляющая тестовый набор данных MNIST. Однако `train=False`, что указывает на загрузку тестовых данных\n",
    "\n",
    "3. Далее создаются загрузчики данных для обучения и тестирования:\n",
    "\n",
    "    `train_loader` – загрузчик данных для обучения. Здесь мы используем `train_dataset`, устанавливаем размер пакета (`batch_size`), и перемешиваем данные (`shuffle=True`), чтобы случайным образом перетасовать порядок данных для каждой эпохи обучения\n",
    "    \n",
    "    `test_loader` – загрузчик данных для тестирования, но данные не перемешиваются, так как порядок данных в тестовом наборе должен оставаться неизменным (`shuffle=False`)"
   ]
  },
  {
   "cell_type": "code",
   "execution_count": 4,
   "metadata": {},
   "outputs": [],
   "source": [
    "# MNIST dataset (images and labels)\n",
    "train_dataset = torchvision.datasets.MNIST(root='../../data', \n",
    "                                           train=True, \n",
    "                                           transform=transforms.ToTensor(),\n",
    "                                           download=True)\n",
    "\n",
    "test_dataset = torchvision.datasets.MNIST(root='../../data', \n",
    "                                          train=False, \n",
    "                                          transform=transforms.ToTensor())\n",
    "\n",
    "# Data loader (input pipeline)\n",
    "train_loader = torch.utils.data.DataLoader(dataset=train_dataset, \n",
    "                                           batch_size=batch_size, \n",
    "                                           shuffle=True)\n",
    "\n",
    "test_loader = torch.utils.data.DataLoader(dataset=test_dataset, \n",
    "                                          batch_size=batch_size, \n",
    "                                          shuffle=False)"
   ]
  },
  {
   "cell_type": "code",
   "execution_count": 5,
   "metadata": {},
   "outputs": [
    {
     "data": {
      "text/plain": [
       "60000"
      ]
     },
     "execution_count": 5,
     "metadata": {},
     "output_type": "execute_result"
    }
   ],
   "source": [
    "len(train_dataset)"
   ]
  },
  {
   "cell_type": "markdown",
   "metadata": {},
   "source": [
    "Извлекаем первый элемент из обучающего набора данных MNIST. x содержит изображение, а y содержит метку (класс) этого изображения"
   ]
  },
  {
   "cell_type": "code",
   "execution_count": 6,
   "metadata": {},
   "outputs": [],
   "source": [
    "x, y = train_dataset[0]"
   ]
  },
  {
   "cell_type": "code",
   "execution_count": 7,
   "metadata": {},
   "outputs": [
    {
     "data": {
      "text/plain": [
       "torch.Size([1, 28, 28])"
      ]
     },
     "execution_count": 7,
     "metadata": {},
     "output_type": "execute_result"
    }
   ],
   "source": [
    "x.shape"
   ]
  },
  {
   "cell_type": "code",
   "execution_count": 8,
   "metadata": {},
   "outputs": [
    {
     "data": {
      "text/plain": [
       "5"
      ]
     },
     "execution_count": 8,
     "metadata": {},
     "output_type": "execute_result"
    }
   ],
   "source": [
    "y"
   ]
  },
  {
   "cell_type": "markdown",
   "metadata": {},
   "source": [
    "`.flatten()` преобразует изображение в одномерный массив (вектор)"
   ]
  },
  {
   "cell_type": "code",
   "execution_count": 9,
   "metadata": {},
   "outputs": [
    {
     "data": {
      "text/plain": [
       "torch.Size([784])"
      ]
     },
     "execution_count": 9,
     "metadata": {},
     "output_type": "execute_result"
    }
   ],
   "source": [
    "x.flatten().shape"
   ]
  },
  {
   "cell_type": "markdown",
   "metadata": {},
   "source": [
    "`.reshape(-1)` преобразует изображение в одномерный массив без указания размера вручную. -1 означает, что размер будет автоматически вычислен"
   ]
  },
  {
   "cell_type": "code",
   "execution_count": 10,
   "metadata": {},
   "outputs": [
    {
     "data": {
      "text/plain": [
       "torch.Size([784])"
      ]
     },
     "execution_count": 10,
     "metadata": {},
     "output_type": "execute_result"
    }
   ],
   "source": [
    "x.reshape(-1).shape"
   ]
  },
  {
   "cell_type": "markdown",
   "metadata": {},
   "source": [
    "`.squeeze()` удаляет размерность с единичной длиной (например, размерность 1x28x28 превращается в 28x28), для того, чтобы мы могли отобразить изображение с помощью библиотеки для визуализации"
   ]
  },
  {
   "cell_type": "code",
   "execution_count": 11,
   "metadata": {},
   "outputs": [
    {
     "data": {
      "text/plain": [
       "torch.Size([28, 28])"
      ]
     },
     "execution_count": 11,
     "metadata": {},
     "output_type": "execute_result"
    }
   ],
   "source": [
    "x.squeeze().shape"
   ]
  },
  {
   "cell_type": "code",
   "execution_count": 12,
   "metadata": {},
   "outputs": [
    {
     "data": {
      "text/plain": [
       "5"
      ]
     },
     "execution_count": 12,
     "metadata": {},
     "output_type": "execute_result"
    }
   ],
   "source": [
    "y"
   ]
  },
  {
   "cell_type": "markdown",
   "metadata": {},
   "source": [
    "Отображение изображения x после удаления размерности с единичной длиной"
   ]
  },
  {
   "cell_type": "code",
   "execution_count": 13,
   "metadata": {},
   "outputs": [
    {
     "data": {
      "text/plain": [
       "<matplotlib.image.AxesImage at 0x17504ce4410>"
      ]
     },
     "execution_count": 13,
     "metadata": {},
     "output_type": "execute_result"
    },
    {
     "data": {
      "image/png": "[encoded data removed]",
      "text/plain": [
       "<Figure size 640x480 with 1 Axes>"
      ]
     },
     "metadata": {},
     "output_type": "display_data"
    }
   ],
   "source": [
    "plt.imshow(x.squeeze(), cmap='gray')"
   ]
  },
  {
   "cell_type": "code",
   "execution_count": 14,
   "metadata": {},
   "outputs": [
    {
     "name": "stdout",
     "output_type": "stream",
     "text": [
      "torch.Size([100, 1, 28, 28])\n",
      "torch.Size([100])\n"
     ]
    }
   ],
   "source": [
    "for images, labels in train_loader:\n",
    "    print(images.shape)\n",
    "    print(labels.shape)\n",
    "    break"
   ]
  },
  {
   "cell_type": "markdown",
   "metadata": {},
   "source": [
    "# 2 этап - Нейронная сеть"
   ]
  },
  {
   "cell_type": "markdown",
   "metadata": {},
   "source": [
    "В PyTorch обе регрессии, как линейная, так и логистическая, могут быть реализованы с использованием `torch.nn.Linear`, потому что обе регрессии базируются на линейной комбинации входных признаков с весами, и `torch.nn.Linear` предоставляет удобный способ определения этой линейной связи. Это справедливо как для линейной регрессии, где предсказываются непрерывные значения, так и для логистической регрессии, где предсказываются вероятности.\n",
    "\n",
    "Важно понимать, что `torch.nn.Linear` является общим инструментом, и его называют «линейным слоем» в нейронных сетях. Важно помнить, что тип регрессии (линейная или логистическая) определяется не только использованием `torch.nn.Linear`, но также выбором функции активации и целевой функции. Для логистической регрессии, используется сигмоидальная функция активации и кросс-энтропия как целевая функция, тогда как для линейной регрессии обычно используется среднеквадратическая ошибка в качестве целевой функции"
   ]
  },
  {
   "cell_type": "code",
   "execution_count": 15,
   "metadata": {},
   "outputs": [],
   "source": [
    "# Logistic regression model\n",
    "model = nn.Linear(input_size, num_classes)"
   ]
  },
  {
   "cell_type": "code",
   "execution_count": 16,
   "metadata": {},
   "outputs": [
    {
     "data": {
      "text/plain": [
       "Linear(in_features=784, out_features=10, bias=True)"
      ]
     },
     "execution_count": 16,
     "metadata": {},
     "output_type": "execute_result"
    }
   ],
   "source": [
    "model"
   ]
  },
  {
   "cell_type": "code",
   "execution_count": 17,
   "metadata": {},
   "outputs": [
    {
     "name": "stdout",
     "output_type": "stream",
     "text": [
      "Parameter containing:\n",
      "tensor([[ 0.0235, -0.0231,  0.0061,  ...,  0.0352,  0.0032,  0.0196],\n",
      "        [-0.0159,  0.0163,  0.0131,  ...,  0.0283,  0.0137,  0.0149],\n",
      "        [ 0.0010, -0.0018, -0.0275,  ..., -0.0127,  0.0114,  0.0068],\n",
      "        ...,\n",
      "        [-0.0225,  0.0109,  0.0348,  ...,  0.0074, -0.0098, -0.0286],\n",
      "        [-0.0008, -0.0088,  0.0229,  ..., -0.0288,  0.0134,  0.0238],\n",
      "        [ 0.0193, -0.0224, -0.0070,  ..., -0.0191,  0.0324,  0.0302]],\n",
      "       requires_grad=True)\n",
      "Parameter containing:\n",
      "tensor([ 0.0128,  0.0239, -0.0020, -0.0331,  0.0066,  0.0041, -0.0082,  0.0055,\n",
      "         0.0340,  0.0253], requires_grad=True)\n"
     ]
    }
   ],
   "source": [
    "for p in model.parameters():\n",
    "    print(p)"
   ]
  },
  {
   "cell_type": "code",
   "execution_count": 18,
   "metadata": {},
   "outputs": [
    {
     "data": {
      "text/plain": [
       "tensor([[ 0.0235, -0.0231,  0.0061,  ...,  0.0352,  0.0032,  0.0196],\n",
       "        [-0.0159,  0.0163,  0.0131,  ...,  0.0283,  0.0137,  0.0149],\n",
       "        [ 0.0010, -0.0018, -0.0275,  ..., -0.0127,  0.0114,  0.0068],\n",
       "        ...,\n",
       "        [-0.0225,  0.0109,  0.0348,  ...,  0.0074, -0.0098, -0.0286],\n",
       "        [-0.0008, -0.0088,  0.0229,  ..., -0.0288,  0.0134,  0.0238],\n",
       "        [ 0.0193, -0.0224, -0.0070,  ..., -0.0191,  0.0324,  0.0302]])"
      ]
     },
     "execution_count": 18,
     "metadata": {},
     "output_type": "execute_result"
    }
   ],
   "source": [
    "model.weight.data"
   ]
  },
  {
   "cell_type": "code",
   "execution_count": 19,
   "metadata": {},
   "outputs": [
    {
     "data": {
      "text/plain": [
       "tensor([ 0.0128,  0.0239, -0.0020, -0.0331,  0.0066,  0.0041, -0.0082,  0.0055,\n",
       "         0.0340,  0.0253])"
      ]
     },
     "execution_count": 19,
     "metadata": {},
     "output_type": "execute_result"
    }
   ],
   "source": [
    "model.bias.data"
   ]
  },
  {
   "cell_type": "code",
   "execution_count": 20,
   "metadata": {},
   "outputs": [
    {
     "data": {
      "text/plain": [
       "tensor([ 0.5146,  0.3688,  0.0502,  0.3042, -0.0111, -0.3448, -1.3251, -0.1318,\n",
       "         0.5588,  0.0792], grad_fn=<ViewBackward0>)"
      ]
     },
     "execution_count": 20,
     "metadata": {},
     "output_type": "execute_result"
    }
   ],
   "source": [
    "x = torch.randn(784)\n",
    "model(x)"
   ]
  },
  {
   "cell_type": "code",
   "execution_count": 21,
   "metadata": {},
   "outputs": [
    {
     "data": {
      "text/plain": [
       "tensor([ 0.2290,  0.2785,  0.1962, -0.1912,  0.0753, -0.0468, -0.1651,  0.1211,\n",
       "        -0.1925, -0.2891], grad_fn=<ViewBackward0>)"
      ]
     },
     "execution_count": 21,
     "metadata": {},
     "output_type": "execute_result"
    }
   ],
   "source": [
    "x, y = train_dataset[0]\n",
    "model(x.flatten())"
   ]
  },
  {
   "cell_type": "markdown",
   "metadata": {},
   "source": [
    "# 3 этап - Оптимизация и лосс-функция"
   ]
  },
  {
   "cell_type": "markdown",
   "metadata": {},
   "source": [
    "`nn.CrossEntropyLoss()` - Это функция потерь, которая обычно используется в задачах многоклассовой классификации. Она предназначена для оценки разницы между предсказаниями модели и фактическими метками (целевыми классами) в задаче классификации. `nn.CrossEntropyLoss()` автоматически применяет софтмакс функцию к выходам модели, преобразуя их в вероятности, а затем сравнивает предсказанные вероятности с истинными метками.\n",
    "\n",
    "Кросс-энтропийная функция потерь для многоклассовой классификации определяется следующим образом:\n",
    "\n",
    "$\n",
    "H(y, p) = -\\sum_{i=1}^{N} y_i \\log(p_i)\n",
    "$\n",
    "\n",
    "Где:\n",
    "- $H(y, p)$ - кросс-энтропийная потеря\n",
    "- $y_i$ - истинная вероятность принадлежности объекта к классу $i$\n",
    "- $p_i$ - предсказанная вероятность принадлежности объекта к классу $i$ моделью.\n",
    "\n",
    "Эта функция измеряет разницу между истинными вероятностями ($y_i$) и предсказанными вероятностями ($p_i$). Чем ближе предсказанные вероятности к истинным, тем меньше будет значение кросс-энтропийной потери. Главная цель обучения – минимизировать эту потерю.\n",
    "\n",
    "В кросс-энтропийной функции потерь (CrossEntropyLoss) предсказанная вероятность ($p_i$) вычисляется с использованием функции softmax для преобразования необработанных выходов модели (часто называемых «логитами») в вероятности принадлежности объекта к разным классам.\n",
    "\n",
    "Формула для предсказанной вероятности $p_i$ в контексте кросс-энтропийной функции потерь выглядит следующим образом:\n",
    "\n",
    "$\n",
    "p_i = \\frac{e^{z_i}}{\\sum_{j=1}^{N} e^{z_j}}\n",
    "$\n",
    "\n",
    "Где:\n",
    "- $p_i$ - предсказанная вероятность принадлежности объекта к классу $i$.\n",
    "- $z_i$ - необработанный выход (логит) модели для класса $i$.\n",
    "- $\\sum_{j=1}^{N} e^{z_j}$ - сумма экспоненты необработанных выходов для всех классов $N$.\n",
    "\n",
    "Суть softmax заключается в том, что она преобразует логиты в вероятности так, чтобы сумма вероятностей для всех классов была равна 1"
   ]
  },
  {
   "cell_type": "code",
   "execution_count": 22,
   "metadata": {},
   "outputs": [],
   "source": [
    "# Loss\n",
    "# nn.CrossEntropyLoss() computes softmax internally\n",
    "criterion = nn.CrossEntropyLoss()"
   ]
  },
  {
   "cell_type": "markdown",
   "metadata": {},
   "source": [
    "Оптимизатор Adam сочетает метод моментума и адаптивный метод изменения скорости обучения. Его обновление параметров $w$ происходит следующим образом:\n",
    "\n",
    "$\n",
    "w_{t+1} = w_t - \\alpha \\cdot \\frac{\\hat{m}_t}{\\sqrt{\\hat{v}_t} + \\epsilon}\n",
    "$\n",
    "\n",
    "Где:\n",
    "- $w_t$ - параметры модели в момент времени $t$\n",
    "- $\\alpha$ - скорость обучения (learning rate)\n",
    "- $\\hat{m}_t$ - оценка момента градиента\n",
    "- $\\hat{v}_t$ - оценка второго момента градиента\n",
    "- $\\epsilon$ - маленькое число для предотвращения деления на ноль\n",
    "\n",
    "Оценки момента градиента и второго момента градиента вычисляются следующим образом:\n",
    "\n",
    "$\n",
    "\\hat{m}_t = \\beta_1 \\cdot m_{t-1} + (1 - \\beta_1) \\cdot g_t\n",
    "$\n",
    "\n",
    "$\n",
    "\\hat{v}_t = \\beta_2 \\cdot v_{t-1} + (1 - \\beta_2) \\cdot g_t^2\n",
    "$\n",
    "\n",
    "Где:\n",
    "- $g_t$ - градиент в момент времени $t$\n",
    "- $\\beta_1$ и $\\beta_2$ - параметры адаптивных оценок моментов и вторых моментов"
   ]
  },
  {
   "cell_type": "code",
   "execution_count": 23,
   "metadata": {},
   "outputs": [],
   "source": [
    "# Optimizer\n",
    "optimizer = torch.optim.Adam(model.parameters(), lr=0.1)"
   ]
  },
  {
   "cell_type": "markdown",
   "metadata": {},
   "source": [
    "# 4 этап - Обучение"
   ]
  },
  {
   "cell_type": "code",
   "execution_count": 24,
   "metadata": {
    "scrolled": false
   },
   "outputs": [
    {
     "name": "stdout",
     "output_type": "stream",
     "text": [
      "Epoch [1/5], Step [100/600], Loss: 0.4428\n",
      "Epoch [1/5], Step [200/600], Loss: 0.7990\n",
      "Epoch [1/5], Step [300/600], Loss: 0.8967\n",
      "Epoch [1/5], Step [400/600], Loss: 0.4775\n",
      "Epoch [1/5], Step [500/600], Loss: 0.9602\n",
      "Epoch [1/5], Step [600/600], Loss: 0.9280\n",
      "Epoch [2/5], Step [100/600], Loss: 1.2124\n",
      "Epoch [2/5], Step [200/600], Loss: 0.6033\n",
      "Epoch [2/5], Step [300/600], Loss: 0.7631\n",
      "Epoch [2/5], Step [400/600], Loss: 0.9903\n",
      "Epoch [2/5], Step [500/600], Loss: 0.4549\n",
      "Epoch [2/5], Step [600/600], Loss: 2.0234\n",
      "Epoch [3/5], Step [100/600], Loss: 1.1924\n",
      "Epoch [3/5], Step [200/600], Loss: 0.7880\n",
      "Epoch [3/5], Step [300/600], Loss: 0.9476\n",
      "Epoch [3/5], Step [400/600], Loss: 1.2323\n",
      "Epoch [3/5], Step [500/600], Loss: 1.4047\n",
      "Epoch [3/5], Step [600/600], Loss: 2.3821\n",
      "Epoch [4/5], Step [100/600], Loss: 0.1584\n",
      "Epoch [4/5], Step [200/600], Loss: 1.1864\n",
      "Epoch [4/5], Step [300/600], Loss: 0.8017\n",
      "Epoch [4/5], Step [400/600], Loss: 0.7501\n",
      "Epoch [4/5], Step [500/600], Loss: 0.9515\n",
      "Epoch [4/5], Step [600/600], Loss: 1.4137\n",
      "Epoch [5/5], Step [100/600], Loss: 0.3790\n",
      "Epoch [5/5], Step [200/600], Loss: 1.1491\n",
      "Epoch [5/5], Step [300/600], Loss: 0.6084\n",
      "Epoch [5/5], Step [400/600], Loss: 0.7330\n",
      "Epoch [5/5], Step [500/600], Loss: 0.8352\n",
      "Epoch [5/5], Step [600/600], Loss: 2.4567\n"
     ]
    }
   ],
   "source": [
    "# Train the model\n",
    "total_step = len(train_loader) # общее количество «шагов» (или пакетов данных) в обучающем наборе данных\n",
    "for epoch in range(num_epochs):\n",
    "    for i, (images, labels) in enumerate(train_loader):\n",
    "        # Reshape images to (batch_size, input_size)\n",
    "        images = images.reshape(-1, input_size)\n",
    "        \n",
    "        # Forward pass\n",
    "        outputs = model(images)             # Модель принимает изображения и возвращает предсказанные выходы\n",
    "        loss = criterion(outputs, labels)   # Вычисляем потерю (ошибку) между предсказанными выходами outputs и\n",
    "                                            # истинными метками labels с использованием кросс-энтропийной функции потерь\n",
    "        \n",
    "        # Backward and optimize\n",
    "        optimizer.zero_grad()   # Обнуляем градиенты (производные потерь) для всех параметров модели\n",
    "        loss.backward()         # Вычисляем градиенты параметров модели относительно потерь \n",
    "                                # с использованием автоматического дифференцирования\n",
    "        optimizer.step()        # Выполняем шаг оптимизации, обновляя параметры модели на основе рассчитанных градиентов\n",
    "        \n",
    "        if (i+1) % 100 == 0:\n",
    "            print ('Epoch [{}/{}], Step [{}/{}], Loss: {:.4f}' \n",
    "                   .format(epoch+1, num_epochs, i+1, total_step, loss.item()))"
   ]
  },
  {
   "cell_type": "markdown",
   "metadata": {},
   "source": [
    "Оцениваем точность модели на тестовых данных и сохраняем параметры модели для дальнейшего использования"
   ]
  },
  {
   "cell_type": "code",
   "execution_count": 25,
   "metadata": {},
   "outputs": [
    {
     "name": "stdout",
     "output_type": "stream",
     "text": [
      "Accuracy of the model on the 10000 test images: 87.62999725341797 %\n"
     ]
    }
   ],
   "source": [
    "# Test the model\n",
    "# In test phase, we don't need to compute gradients (for memory efficiency)\n",
    "#with torch.no_grad():\n",
    "correct = 0\n",
    "total = 0\n",
    "for images, labels in test_loader:\n",
    "    images = images.reshape(-1, input_size)\n",
    "    outputs = model(images)\n",
    "    _, predicted = torch.max(outputs.data, 1)   # Класс с наивысшей оценкой (предсказанный класс) для каждого \n",
    "                                                # изображения (выбираем индекс с наивысшей оценкой из выхода модели)\n",
    "    total += labels.size(0)                     # Обновляем общее количество проверенных объектов, добавляя размер \n",
    "                                                # текущей партии (batch) меток\n",
    "    correct += (predicted == labels).sum()\n",
    "\n",
    "print('Accuracy of the model on the 10000 test images: {} %'.format(100 * correct / total))\n",
    "\n",
    "# Save the model checkpoint\n",
    "torch.save(model.state_dict(), 'model.ckpt')"
   ]
  }
 ],
 "metadata": {
  "kernelspec": {
   "display_name": "Python 3 (ipykernel)",
   "language": "python",
   "name": "python3"
  },
  "language_info": {
   "codemirror_mode": {
    "name": "ipython",
    "version": 3
   },
   "file_extension": ".py",
   "mimetype": "text/x-python",
   "name": "python",
   "nbconvert_exporter": "python",
   "pygments_lexer": "ipython3",
   "version": "3.11.4"
  }
 },
 "nbformat": 4,
 "nbformat_minor": 2
}
