{
 "cells": [
  {
   "cell_type": "markdown",
   "metadata": {},
   "source": [
    "# Полносвязная нейронная сеть прямого распространения\n",
    "\n",
    "Полносвязная нейронная сеть прямого распространения, часто называемая многослойным персептроном (MLP), представляет собой тип архитектуры искусственной нейронной сети. Это одна из наиболее базовых и широко используемых моделей нейронных сетей. Термин «полносвязная» означает, что каждый нейрон в одном слое соединен с каждым нейроном в следующем слое.\n",
    "\n",
    "Первый слой сети – это **входной слой**. Он содержит нейроны, которые представляют входные признаки или данные. Каждый нейрон в этом слое соответствует признаку или атрибуту входных данных.\n",
    "\n",
    "Между входным и выходным слоями может быть один или несколько **скрытых слоев**. Каждый нейрон в скрытом слое полностью связан со всеми нейронами в предыдущих и последующих слоях. Эти скрытые слои позволяют сети изучать сложные закономерности и взаимосвязи в данных.\n",
    "\n",
    "Каждое соединение между нейронами имеет связанный с ним **вес**, который определяет силу этого соединения. Кроме того, у каждого нейрона есть **смещение**. Сеть обучается оптимальным весам и смещениям в процессе обучения для минимизации ошибки в прогнозах.\n",
    "\n",
    "Нейроны в скрытых слоях и выходном слое обычно используют **функции активации** для введения нелинейности в сеть. Общие функции активации включают сигмоиду, гиперболический тангенс (tanh) и линейное выпрямление (ReLU).\n",
    "\n",
    "Сеть вычисляет свой выход, передавая данные от входного слоя через скрытые слои к выходному слою. Этот процесс называется **прямым распространением**. Выход каждого нейрона в слое определяется путем сложения взвешенных входов."
   ]
  },
  {
   "cell_type": "code",
   "execution_count": 1,
   "metadata": {},
   "outputs": [],
   "source": [
    "import torch\n",
    "import torch.nn as nn\n",
    "import torchvision\n",
    "import torchvision.transforms as transforms\n",
    "\n",
    "# Device configuration\n",
    "device = torch.device('cuda' if torch.cuda.is_available() else 'cpu')\n",
    "\n",
    "# Hyper-parameters \n",
    "input_size = 784\n",
    "hidden_size = 500\n",
    "num_classes = 10\n",
    "num_epochs = 5\n",
    "batch_size = 100\n",
    "learning_rate = 0.001"
   ]
  },
  {
   "cell_type": "code",
   "execution_count": 2,
   "metadata": {},
   "outputs": [
    {
     "data": {
      "text/plain": [
       "device(type='cpu')"
      ]
     },
     "execution_count": 2,
     "metadata": {},
     "output_type": "execute_result"
    }
   ],
   "source": [
    "device"
   ]
  },
  {
   "cell_type": "markdown",
   "metadata": {},
   "source": [
    "## 1. Данные"
   ]
  },
  {
   "cell_type": "code",
   "execution_count": 3,
   "metadata": {},
   "outputs": [],
   "source": [
    "# MNIST dataset \n",
    "train_dataset = torchvision.datasets.MNIST(root='../../data', \n",
    "                                           train=True, \n",
    "                                           transform=transforms.ToTensor(),  \n",
    "                                           download=True)\n",
    "\n",
    "test_dataset = torchvision.datasets.MNIST(root='../../data', \n",
    "                                          train=False, \n",
    "                                          transform=transforms.ToTensor())\n",
    "\n",
    "# Data loader\n",
    "train_loader = torch.utils.data.DataLoader(dataset=train_dataset, \n",
    "                                           batch_size=batch_size, \n",
    "                                           shuffle=True)\n",
    "\n",
    "test_loader = torch.utils.data.DataLoader(dataset=test_dataset, \n",
    "                                          batch_size=batch_size, \n",
    "                                          shuffle=False)\n"
   ]
  },
  {
   "cell_type": "markdown",
   "metadata": {},
   "source": [
    "## Нейронная сеть"
   ]
  },
  {
   "cell_type": "markdown",
   "metadata": {},
   "source": [
    "Строим модель нейронной сети с использованием контейнера `nn.Sequential`. Эта сеть состоит из трёх слоев:\n",
    "\n",
    "1. `nn.Linear(784, 200)` представляет собой входной слой. Он содержит 784 входных нейрона (признаков) и 200 выходных нейронов. Слой `nn.Linear` применяет линейное преобразование (матричное умножение) к входным данным.\n",
    "\n",
    "2. `nn.Tanh()` представляет собой скрытый слой с активационной функцией гиперболического тангенса (Tanh), примененной к 200 выходным нейронам из предыдущего слоя. Функция Tanh вводит нелинейность в сеть.\n",
    "\n",
    "3. `nn.Linear(200, 100), nn.Sigmoid()` представляет собой ещё один полностью связанный скрытый слой с 100 нейронами, применяется активационная функция сигмоида\n",
    "\n",
    "4. `nn.Linear(200, 10)` представляет собой выходной слой. Он берет 200 нейронов из предыдущего слоя и отображает их на 10 выходных нейронов, которые могут использоваться для задач классификации или регрессии"
   ]
  },
  {
   "cell_type": "code",
   "execution_count": 4,
   "metadata": {},
   "outputs": [],
   "source": [
    "#[784, 200, 100, 10]\n",
    "model = nn.Sequential(nn.Linear(784, 200), nn.Tanh(), \n",
    "                      nn.Linear(200, 100), nn.Sigmoid(), \n",
    "                      nn.Linear(200, 10))"
   ]
  },
  {
   "cell_type": "code",
   "execution_count": 5,
   "metadata": {},
   "outputs": [
    {
     "data": {
      "text/plain": [
       "Sequential(\n",
       "  (0): Linear(in_features=784, out_features=200, bias=True)\n",
       "  (1): Tanh()\n",
       "  (2): Linear(in_features=200, out_features=100, bias=True)\n",
       "  (3): Sigmoid()\n",
       "  (4): Linear(in_features=200, out_features=10, bias=True)\n",
       ")"
      ]
     },
     "execution_count": 5,
     "metadata": {},
     "output_type": "execute_result"
    }
   ],
   "source": [
    "model"
   ]
  },
  {
   "cell_type": "markdown",
   "metadata": {},
   "source": [
    "Создаём тензор W, заполненный нулями. Он имеет размерность 10x100, что соответствует форме весов пятого слоя нашей модели.\n",
    "\n",
    "`model[4].weight.data = W`: заменяем веса пятого слоя на нули.\n",
    "\n",
    "Это может быть полезно в тех случаях, когда мы хотим инициализировать веса конкретного слоя в нашей нейронной сети определенным значением. Инициализация весов – это важный аспект обучения нейронной сети, и использование случайной инициализации (например, инициализация Xavier/Glorot или He) обычно обеспечивает более эффективное обучение сети."
   ]
  },
  {
   "cell_type": "code",
   "execution_count": 6,
   "metadata": {},
   "outputs": [],
   "source": [
    "W = torch.zeros(10, 100)\n",
    "with torch.no_grad():\n",
    "    model[4].weight.data = W"
   ]
  },
  {
   "cell_type": "code",
   "execution_count": 7,
   "metadata": {},
   "outputs": [],
   "source": [
    "class MyNetwork(torch.nn.Module):   \n",
    "    \n",
    "    # Конструктор класса MyNetwork, который инициализирует объект класса. Он принимает четыре аргумента:\n",
    "    def __init__(self, input_size, hidden_size1, hidden_size2, num_classes):\n",
    "        \n",
    "        # вызывает конструктор родительского (базового) класса `torch.nn.Module`, \n",
    "        # чтобы инициализировать базовую функциональность PyTorch\n",
    "        super().__init__()\n",
    "        \n",
    "        # Эти строки сохраняют переданные аргументы в виде атрибутов объекта класса, \n",
    "        # чтобы они были доступны во всех методах класса\n",
    "        self.input_size = input_size     # размер входных данных\n",
    "        self.hidden_size1 = hidden_size1 # размер скрытого слоя 1\n",
    "        self.hidden_size2 = hidden_size2 # размер скрытого слоя 2\n",
    "        self.num_classes = num_classes   # количество классов для задачи классификации\n",
    "        \n",
    "        # Компоненты нейронной сети:\n",
    "        # два полносвязанных слоя fc1 и fc2, fc2 соединяет первый скрытый слой с вторым \n",
    "        # nn.Linear – слой, который выполняет линейное преобразование \n",
    "        # nn.ReLU() – активационная функция ReLU, применяемая после первого слоя\n",
    "        self.fc1 = nn.Linear(input_size, hidden_size1) # fully connected\n",
    "        self.func1 = nn.ReLU()\n",
    "        self.fc2 = nn.Linear(hidden_size1, hidden_size2) # fully connected\n",
    "        \n",
    "        # Альтернативные компоненты сети. \n",
    "        # alt_fc1 – полносвязанный слой, а \n",
    "        # alt_func1 – активационная функция Tangent Hyperbolic (Tanh) \n",
    "        # Эти альтернативные компоненты могут использоваться в других ветвях сети или для экспериментов.\n",
    "        self.alt_fc1 = nn.Linear(input_size, hidden_size2) #fully connected\n",
    "        self.alt_func1 = nn.Tanh()\n",
    "\n",
    "        # Оставшиеся компоненты сети\n",
    "        # func2 – активационная функция Tanh, применяемая после второго скрытого слоя\n",
    "        # fc3 – последний полносвязанный слой, который выводит результат в соответствии с задачей классификации \n",
    "        # на num_classes классов.\n",
    "        self.func2 = nn.Tanh()\n",
    "        self.fc3 = nn.Linear(hidden_size2, num_classes) # fully connected\n",
    "        \n",
    "    # Метод forward определяет, как данные проходят через нейронную сеть, x представляет собой входные данные\n",
    "    def forward(self, x):\n",
    "        \n",
    "        # Данные проходят через первый полносвязанный слой fc1, а затем применяется активационная функция ReLU func1\n",
    "        out = self.func1(self.fc1(x))\n",
    "        # Данные проходят через второй полносвязанный слой fc2, а затем применяется активационная функция Tanh func2\n",
    "        out = self.func2(self.fc2(out))\n",
    "        \n",
    "        # Альтернативная ветвь сети, где данные проходят через альтернативный полносвязанный слой alt_fc1 \n",
    "        # и активационную функцию Tanh alt_func1\n",
    "        out2 = self.alt_func1(self.alt_fc1(x))\n",
    "        \n",
    "        # Результаты из основной и альтернативной ветвей сети складываются. Затем объединенные данные проходят \n",
    "        # через последний полносвязанный слой fc3, который выдаст окончательный результат\n",
    "        out = out + out2\n",
    "        out = self.fc3(out)\n",
    "        \n",
    "        return out"
   ]
  },
  {
   "cell_type": "code",
   "execution_count": 8,
   "metadata": {},
   "outputs": [],
   "source": [
    "model = MyNetwork(input_size=784, hidden_size1=200, hidden_size2=100, num_classes=10)"
   ]
  },
  {
   "cell_type": "code",
   "execution_count": 9,
   "metadata": {},
   "outputs": [
    {
     "data": {
      "text/plain": [
       "MyNetwork(\n",
       "  (fc1): Linear(in_features=784, out_features=200, bias=True)\n",
       "  (func1): ReLU()\n",
       "  (fc2): Linear(in_features=200, out_features=100, bias=True)\n",
       "  (alt_fc1): Linear(in_features=784, out_features=100, bias=True)\n",
       "  (alt_func1): Tanh()\n",
       "  (func2): Tanh()\n",
       "  (fc3): Linear(in_features=100, out_features=10, bias=True)\n",
       ")"
      ]
     },
     "execution_count": 9,
     "metadata": {},
     "output_type": "execute_result"
    }
   ],
   "source": [
    "model"
   ]
  },
  {
   "cell_type": "code",
   "execution_count": 10,
   "metadata": {},
   "outputs": [
    {
     "data": {
      "text/plain": [
       "tensor([ 0.0710, -0.0361,  0.1195,  0.1169, -0.2028, -0.0311, -0.0439, -0.2381,\n",
       "        -0.0490, -0.0671], grad_fn=<ViewBackward0>)"
      ]
     },
     "execution_count": 10,
     "metadata": {},
     "output_type": "execute_result"
    }
   ],
   "source": [
    "x, y = train_dataset[0]\n",
    "model(x.flatten())"
   ]
  },
  {
   "cell_type": "code",
   "execution_count": 11,
   "metadata": {},
   "outputs": [],
   "source": [
    "# Fully connected neural network with one hidden layer\n",
    "class NeuralNet(nn.Module):\n",
    "    def __init__(self, input_size, hidden_size, num_classes):\n",
    "        super(NeuralNet, self).__init__()\n",
    "        self.fc1 = nn.Linear(input_size, hidden_size) \n",
    "        self.relu = nn.ReLU()\n",
    "#        self.fc2 = nn.Linear(hidden_size1, hidden_size2)  \n",
    "#        self.fc3 = nn.Linear(hidden_size2, hidden_size3)  \n",
    "        self.fc2 = nn.Linear(hidden_size, num_classes)  \n",
    "    \n",
    "    def forward(self, x):\n",
    "        out = self.relu(self.fc1(x))\n",
    "#        out = self.relu(self.fc2(out))\n",
    "#        out = self.relu(self.fc3(out))\n",
    "        out = self.fc2(out)\n",
    "        \n",
    "        return out\n",
    "\n",
    "model = NeuralNet(input_size, hidden_size, num_classes).to(device)"
   ]
  },
  {
   "cell_type": "code",
   "execution_count": 12,
   "metadata": {},
   "outputs": [
    {
     "data": {
      "text/plain": [
       "NeuralNet(\n",
       "  (fc1): Linear(in_features=784, out_features=500, bias=True)\n",
       "  (relu): ReLU()\n",
       "  (fc2): Linear(in_features=500, out_features=10, bias=True)\n",
       ")"
      ]
     },
     "execution_count": 12,
     "metadata": {},
     "output_type": "execute_result"
    }
   ],
   "source": [
    "model"
   ]
  },
  {
   "cell_type": "markdown",
   "metadata": {},
   "source": [
    "## 3. Лосс функция"
   ]
  },
  {
   "cell_type": "code",
   "execution_count": 13,
   "metadata": {},
   "outputs": [],
   "source": [
    "# Loss\n",
    "criterion = nn.CrossEntropyLoss()"
   ]
  },
  {
   "cell_type": "markdown",
   "metadata": {},
   "source": [
    "## 4. optimizer и обучение"
   ]
  },
  {
   "cell_type": "code",
   "execution_count": 14,
   "metadata": {},
   "outputs": [
    {
     "name": "stdout",
     "output_type": "stream",
     "text": [
      "Epoch [1/5], Step [100/600], Loss: 0.4587\n",
      "Epoch [1/5], Step [200/600], Loss: 0.2711\n",
      "Epoch [1/5], Step [300/600], Loss: 0.2100\n",
      "Epoch [1/5], Step [400/600], Loss: 0.1220\n",
      "Epoch [1/5], Step [500/600], Loss: 0.1404\n",
      "Epoch [1/5], Step [600/600], Loss: 0.2637\n",
      "Epoch [2/5], Step [100/600], Loss: 0.1789\n",
      "Epoch [2/5], Step [200/600], Loss: 0.0698\n",
      "Epoch [2/5], Step [300/600], Loss: 0.0384\n",
      "Epoch [2/5], Step [400/600], Loss: 0.1659\n",
      "Epoch [2/5], Step [500/600], Loss: 0.0778\n",
      "Epoch [2/5], Step [600/600], Loss: 0.0669\n",
      "Epoch [3/5], Step [100/600], Loss: 0.1103\n",
      "Epoch [3/5], Step [200/600], Loss: 0.0796\n",
      "Epoch [3/5], Step [300/600], Loss: 0.1210\n",
      "Epoch [3/5], Step [400/600], Loss: 0.0722\n",
      "Epoch [3/5], Step [500/600], Loss: 0.0380\n",
      "Epoch [3/5], Step [600/600], Loss: 0.0746\n",
      "Epoch [4/5], Step [100/600], Loss: 0.0466\n",
      "Epoch [4/5], Step [200/600], Loss: 0.0998\n",
      "Epoch [4/5], Step [300/600], Loss: 0.0357\n",
      "Epoch [4/5], Step [400/600], Loss: 0.0250\n",
      "Epoch [4/5], Step [500/600], Loss: 0.0480\n",
      "Epoch [4/5], Step [600/600], Loss: 0.0736\n",
      "Epoch [5/5], Step [100/600], Loss: 0.0944\n",
      "Epoch [5/5], Step [200/600], Loss: 0.0059\n",
      "Epoch [5/5], Step [300/600], Loss: 0.0224\n",
      "Epoch [5/5], Step [400/600], Loss: 0.0664\n",
      "Epoch [5/5], Step [500/600], Loss: 0.0098\n",
      "Epoch [5/5], Step [600/600], Loss: 0.0458\n",
      "Accuracy of the network on the 10000 test images: 97.73 %\n"
     ]
    }
   ],
   "source": [
    "# optimizer\n",
    "optimizer = torch.optim.Adam(model.parameters(), lr=learning_rate)  \n",
    "model = model.to(device) # Перемещение модели (или тензора) на указанное устройство (cuda или cpu)\n",
    "\n",
    "# Train the model\n",
    "total_step = len(train_loader)\n",
    "for epoch in range(num_epochs):\n",
    "    for i, (images, labels) in enumerate(train_loader):  \n",
    "        # Move tensors to the configured device\n",
    "        images = images.reshape(-1, 28*28).to(device)\n",
    "        labels = labels.to(device)\n",
    "        \n",
    "        # Forward pass\n",
    "        outputs = model(images)\n",
    "        loss = criterion(outputs, labels)\n",
    "        \n",
    "        # Backward and optimize\n",
    "        optimizer.zero_grad()\n",
    "        loss.backward()\n",
    "        optimizer.step()\n",
    "        \n",
    "        if (i+1) % 100 == 0:\n",
    "            print ('Epoch [{}/{}], Step [{}/{}], Loss: {:.4f}' \n",
    "                   .format(epoch+1, num_epochs, i+1, total_step, loss.item()))\n",
    "\n",
    "# Test the model\n",
    "# In test phase, we don't need to compute gradients (for memory efficiency)\n",
    "with torch.no_grad():\n",
    "    correct = 0 # Количество правильно классифицированных примеров \n",
    "    total = 0   # Общее число примеров в тестовом наборе данных\n",
    "    for images, labels in test_loader:\n",
    "        images = images.reshape(-1, 28*28).to(device)   # reshape(-1, 28*28): каждый пакет изображений преобразуется \n",
    "                                                        # в плоский формат (с использованием -1, что означает, что \n",
    "                                                        # количество строк вычисляется на основе оставшихся размерностей)\n",
    "        labels = labels.to(device)\n",
    "        outputs = model(images)   # прогнозы модели для пакета тестовых изображений\n",
    "        _, predicted = torch.max(outputs.data, 1)   # Вычисляются предсказанные метки, выбирая класс с наибольшей оценкой \n",
    "                                                    # из прогнозов модели. Массив predicted содержит предсказанные \n",
    "                                                    # метки для пакета данных\n",
    "        total += labels.size(0)\n",
    "        correct += (predicted == labels).sum().item()\n",
    "\n",
    "    print('Accuracy of the network on the 10000 test images: {} %'.format(100 * correct / total))\n",
    "\n",
    "# Save the model checkpoint\n",
    "torch.save(model.state_dict(), 'model.ckpt')"
   ]
  },
  {
   "cell_type": "code",
   "execution_count": 15,
   "metadata": {},
   "outputs": [
    {
     "name": "stdout",
     "output_type": "stream",
     "text": [
      "[392000, 500, 5000, 10]\n"
     ]
    },
    {
     "data": {
      "text/plain": [
       "397510"
      ]
     },
     "execution_count": 15,
     "metadata": {},
     "output_type": "execute_result"
    }
   ],
   "source": [
    "ss = [] # список для хранения размеров параметров (веса (весовые коэффициенты) и смещения (bias))\n",
    "for p in model.parameters():\n",
    "    ss.append(p.numel())    # Метод numel() возвращает количество элементов в параметре (например, количество чисел)\n",
    "                            # Это количество элементов представляет собой размер параметра\n",
    "print(ss)\n",
    "sum(ss)"
   ]
  },
  {
   "cell_type": "markdown",
   "metadata": {},
   "source": [
    "Список параметров `[392000, 500, 5000, 10]` представляет собой количество параметров (весов и смещений) для каждого слоя в нашей нейронной сети"
   ]
  }
 ],
 "metadata": {
  "kernelspec": {
   "display_name": "Python 3 (ipykernel)",
   "language": "python",
   "name": "python3"
  },
  "language_info": {
   "codemirror_mode": {
    "name": "ipython",
    "version": 3
   },
   "file_extension": ".py",
   "mimetype": "text/x-python",
   "name": "python",
   "nbconvert_exporter": "python",
   "pygments_lexer": "ipython3",
   "version": "3.11.4"
  }
 },
 "nbformat": 4,
 "nbformat_minor": 2
}
