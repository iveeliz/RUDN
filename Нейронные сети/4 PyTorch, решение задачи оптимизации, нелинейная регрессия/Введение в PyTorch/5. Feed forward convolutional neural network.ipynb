{
 "cells": [
  {
   "cell_type": "markdown",
   "metadata": {},
   "source": [
    "# Свёрточная нейронная сеть прямого распространения (Convolutional Neural Network)\n",
    "\n",
    "Это особый вид нейронной сети, предназначенной для обработки структурированных данных, таких как изображения и видео, и других данных сетчатой структуры. Они широко используются в области компьютерного зрения для решения задач, таких как классификация, обнаружение объектов и сегментация.\n",
    "\n",
    "**Ключевые особенности и характеристики Feed forward CNN:**\n",
    "\n",
    "1. **Свёрточные слои (Convolutional Layers):**\n",
    "\n",
    "    ConvNet включает в себя сверточные слои, которые применяют фильтры (ядра) к входным данным. Эти фильтры скользят по входным данным и извлекают локальные признаки, такие как грани, текстуры и формы.\n",
    "\n",
    "2. **Пулинг-слои (Pooling Layers):**\n",
    "\n",
    "    Пулинг-слои используются для уменьшения размерности данных, уменьшая пространственное разрешение карт признаков. Они выполняют операции, такие как максимум или среднее, чтобы сохранить самые важные признаки.\n",
    "    \n",
    "3. **Полносвязные слои (Fully Connected Layers):**\n",
    "\n",
    "    После сверточных и пулинг-слоев, один или несколько полносвязных слоев могут использоваться для выполнения окончательных предсказаний. Эти слои обрабатывают высокоуровневые признаки, полученные из предыдущих слоев.\n",
    "    \n",
    "4. **Функции активации:**\n",
    "\n",
    "    Обычно в сверточных и полносвязных слоях применяются функции активации, такие как ReLU (Rectified Linear Unit), для введения нелинейности в сеть.\n",
    "    \n",
    "5. **Выходной слой (Output Layer):**\n",
    "\n",
    "    Выходной слой предоставляет окончательные предсказания сети. В задачах классификации, это может быть слой с несколькими выходами, с активацией softmax для получения вероятностей классов.\n",
    "    \n",
    "6. **Функция потерь (Loss Function):**\n",
    "\n",
    "    Функция потерь определяет, как сеть оценивает ошибку между предсказанными и фактическими значениями. Для задач классификации обычно используется перекрестная энтропия.\n",
    "    \n",
    "7. **Обучение и оптимизация:**\n",
    "\n",
    "    ConvNet обучается с использованием алгоритмов оптимизации, таких как стохастический градиентный спуск (SGD) или его модификации, для минимизации функции потерь."
   ]
  },
  {
   "cell_type": "code",
   "execution_count": 1,
   "metadata": {},
   "outputs": [],
   "source": [
    "import torch\n",
    "import torch.nn as nn\n",
    "import torchvision\n",
    "import torchvision.transforms as transforms\n",
    "from matplotlib import pyplot  as plt\n",
    "\n",
    "# Device configuration\n",
    "device = 'cpu'# torch.device('cuda' if torch.cuda.is_available() else 'cpu')\n",
    "\n",
    "# Hyper-parameters \n",
    "input_size = 784\n",
    "hidden_size = 500\n",
    "num_classes = 10\n",
    "num_epochs = 5\n",
    "batch_size = 100\n",
    "learning_rate = 0.001"
   ]
  },
  {
   "cell_type": "markdown",
   "metadata": {},
   "source": [
    "# 1 Этап - подготовка данных!"
   ]
  },
  {
   "cell_type": "code",
   "execution_count": 2,
   "metadata": {},
   "outputs": [],
   "source": [
    "# MNIST dataset \n",
    "train_dataset = torchvision.datasets.MNIST(root='../../data', \n",
    "                                           train=True, \n",
    "                                           transform=transforms.ToTensor(),  \n",
    "                                           download=True)\n",
    "\n",
    "test_dataset = torchvision.datasets.MNIST(root='../../data', \n",
    "                                          train=False, \n",
    "                                          transform=transforms.ToTensor())\n",
    "\n",
    "# Data loader\n",
    "train_loader = torch.utils.data.DataLoader(dataset=train_dataset, \n",
    "                                           batch_size=batch_size, \n",
    "                                           shuffle=True)\n",
    "\n",
    "test_loader = torch.utils.data.DataLoader(dataset=test_dataset, \n",
    "                                          batch_size=batch_size, \n",
    "                                          shuffle=False)\n"
   ]
  },
  {
   "cell_type": "code",
   "execution_count": 3,
   "metadata": {},
   "outputs": [
    {
     "data": {
      "text/plain": [
       "torch.Size([1, 28, 28])"
      ]
     },
     "execution_count": 3,
     "metadata": {},
     "output_type": "execute_result"
    }
   ],
   "source": [
    "train_dataset[0][0].shape"
   ]
  },
  {
   "cell_type": "markdown",
   "metadata": {},
   "source": [
    "# 2 Этап - Нейронная сеть!"
   ]
  },
  {
   "cell_type": "code",
   "execution_count": 4,
   "metadata": {},
   "outputs": [],
   "source": [
    "# Fully connected neural network with one hidden layer\n",
    "class Lenet5(nn.Module):\n",
    "    def __init__(self, hidden_size1=500, num_classes=10):   # Количество нейронов в скрытом слое (hidden_size1)\n",
    "                                                            # Количество классов для задачи классификации\n",
    "        super().__init__()\n",
    "        # self.conv1 и self.conv2 – два свёрточных слоя, которые выполняют свёртку и применяют функцию активации ReLU\n",
    "        # self.batchnorm1 и self.batchnorm2 – слои нормализации данных для стабилизации обучения\n",
    "        # self.maxpool – слой максимальной подвыборки (пулинга) для уменьшения размерности данных\n",
    "        # self.fc1 и self.fc2 – два полносвязных слоя для окончательных предсказаний\n",
    "        self.conv1 = nn.Conv2d(in_channels=1, out_channels=20, kernel_size=5, stride=1, padding=0)\n",
    "        self.batchnorm1 = nn.BatchNorm2d(20)\n",
    "        self.maxpool = nn.MaxPool2d(kernel_size=2, stride=2)\n",
    "        self.conv2 = nn.Conv2d(in_channels=20, out_channels=50, kernel_size=5, stride=1, padding=0)\n",
    "        self.batchnorm2 = nn.BatchNorm2d(50)\n",
    "        self.relu = nn.ReLU()\n",
    "        self.fc1 = nn.Linear(50 * 4 * 4, hidden_size1) # fully connected\n",
    "        self.fc2 = nn.Linear(hidden_size1, num_classes)  \n",
    "    \n",
    "    def forward(self, x): # вход размера 1 x 28 x 28\n",
    "        \n",
    "        # Изображение x проходит через свёрточные слои, нормализацию, функции активации и пулинг\n",
    "        out = self.conv1(x) # на выходе размер 20 x 24 x 24\n",
    "        out = self.batchnorm1(out)\n",
    "        out = self.maxpool(out) # на выходе размер 20 x 12 x 12\n",
    "        out = self.relu(out)\n",
    "        out = self.conv2(out)  # на выходе размер 50 x 8 x 8\n",
    "        out = self.batchnorm2(out)\n",
    "        out = self.maxpool(out) # на выходе размер 50 x 4 x 4\n",
    "        out = self.relu(out)\n",
    "        \n",
    "        # Данные выравниваются в одномерный вектор и проходят через полносвязные слои\n",
    "        # На выходе получаются вероятности принадлежности к каждому из num_classes классов\n",
    "        out = out.reshape(-1, 50 * 4 * 4) # на выходе размер 800\n",
    "        out = self.fc1(out) # на выходе размер 500\n",
    "        out = self.relu(out)\n",
    "        out = self.fc2(out) # на выходе размер 10\n",
    "        \n",
    "        return out\n",
    "\n",
    "model = Lenet5(hidden_size1=500, num_classes=10).to(device)"
   ]
  },
  {
   "cell_type": "code",
   "execution_count": 5,
   "metadata": {},
   "outputs": [],
   "source": [
    "# Блок нейронной сети, который инициализирует два слоя: полносвязный слой (nn.Linear) и слой активации ReLU (nn.ReLU)\n",
    "class NN_block(nn.Module):\n",
    "    def __init__(self, input_size):\n",
    "        self.fc = nn.Linear(input_size, input_size)\n",
    "        self.activation = nn.ReLU()\n",
    "    def forward(self, x):\n",
    "        out = x\n",
    "        out = self.fc(out)\n",
    "        out = self.activation(out)\n",
    "        return out\n",
    "\n",
    "# Нейронная сеть, которая состоит из блока NN_block, применённого несколько раз\n",
    "class NN(nn.Module):\n",
    "    def __init__(self, input_size):\n",
    "        self.block = NN_block(input_size)\n",
    "\n",
    "    def forward(self, x):\n",
    "        out = x\n",
    "        for i in range(10):\n",
    "            out = self.block(out)\n",
    "        return out"
   ]
  },
  {
   "cell_type": "code",
   "execution_count": 6,
   "metadata": {},
   "outputs": [
    {
     "data": {
      "text/plain": [
       "Lenet5(\n",
       "  (conv1): Conv2d(1, 20, kernel_size=(5, 5), stride=(1, 1))\n",
       "  (batchnorm1): BatchNorm2d(20, eps=1e-05, momentum=0.1, affine=True, track_running_stats=True)\n",
       "  (maxpool): MaxPool2d(kernel_size=2, stride=2, padding=0, dilation=1, ceil_mode=False)\n",
       "  (conv2): Conv2d(20, 50, kernel_size=(5, 5), stride=(1, 1))\n",
       "  (batchnorm2): BatchNorm2d(50, eps=1e-05, momentum=0.1, affine=True, track_running_stats=True)\n",
       "  (relu): ReLU()\n",
       "  (fc1): Linear(in_features=800, out_features=500, bias=True)\n",
       "  (fc2): Linear(in_features=500, out_features=10, bias=True)\n",
       ")"
      ]
     },
     "execution_count": 6,
     "metadata": {},
     "output_type": "execute_result"
    }
   ],
   "source": [
    "model"
   ]
  },
  {
   "cell_type": "markdown",
   "metadata": {},
   "source": [
    "# 3 этап - Loss-функция и оптимизатор"
   ]
  },
  {
   "cell_type": "code",
   "execution_count": 7,
   "metadata": {},
   "outputs": [],
   "source": [
    "# Loss and optimizer\n",
    "criterion = nn.CrossEntropyLoss()\n",
    "optimizer = torch.optim.Adam(model.parameters(), lr=learning_rate)"
   ]
  },
  {
   "cell_type": "code",
   "execution_count": 8,
   "metadata": {},
   "outputs": [],
   "source": [
    "# for p in model.parameters():\n",
    "#     print(p)"
   ]
  },
  {
   "cell_type": "code",
   "execution_count": 9,
   "metadata": {},
   "outputs": [
    {
     "data": {
      "text/plain": [
       "Conv2d(1, 20, kernel_size=(5, 5), stride=(1, 1))"
      ]
     },
     "execution_count": 9,
     "metadata": {},
     "output_type": "execute_result"
    }
   ],
   "source": [
    "model.conv1"
   ]
  },
  {
   "cell_type": "code",
   "execution_count": 10,
   "metadata": {},
   "outputs": [
    {
     "data": {
      "text/plain": [
       "torch.Size([20, 1, 5, 5])"
      ]
     },
     "execution_count": 10,
     "metadata": {},
     "output_type": "execute_result"
    }
   ],
   "source": [
    "model.conv1.weight.shape"
   ]
  },
  {
   "cell_type": "code",
   "execution_count": 11,
   "metadata": {},
   "outputs": [
    {
     "data": {
      "text/plain": [
       "tensor([[[ 0.1941, -0.0517, -0.0519,  0.1755,  0.1302],\n",
       "         [ 0.0574, -0.1911,  0.1383,  0.0959,  0.1407],\n",
       "         [ 0.1911, -0.1702,  0.1721,  0.0114,  0.0243],\n",
       "         [-0.0407,  0.0872,  0.0679, -0.0665, -0.0050],\n",
       "         [ 0.1138, -0.0689,  0.1730,  0.0792,  0.0481]]],\n",
       "       grad_fn=<SelectBackward0>)"
      ]
     },
     "execution_count": 11,
     "metadata": {},
     "output_type": "execute_result"
    }
   ],
   "source": [
    "model.conv1.weight[0]"
   ]
  },
  {
   "cell_type": "code",
   "execution_count": 12,
   "metadata": {},
   "outputs": [
    {
     "data": {
      "text/plain": [
       "Parameter containing:\n",
       "tensor([-0.0746,  0.1342, -0.0511,  0.1069,  0.1199,  0.1945, -0.1893, -0.0013,\n",
       "        -0.0530,  0.0713, -0.1644, -0.1431, -0.1650,  0.1569, -0.1283, -0.0246,\n",
       "        -0.1610,  0.1596,  0.0253, -0.0365], requires_grad=True)"
      ]
     },
     "execution_count": 12,
     "metadata": {},
     "output_type": "execute_result"
    }
   ],
   "source": [
    "model.conv1.bias"
   ]
  },
  {
   "cell_type": "markdown",
   "metadata": {},
   "source": [
    "# 4 этап - обучение нейросети"
   ]
  },
  {
   "cell_type": "code",
   "execution_count": 13,
   "metadata": {},
   "outputs": [
    {
     "data": {
      "text/plain": [
       "(torch.Size([100, 1, 28, 28]), torch.Size([100]))"
      ]
     },
     "execution_count": 13,
     "metadata": {},
     "output_type": "execute_result"
    }
   ],
   "source": [
    "for i, (images, labels) in enumerate(train_loader):  \n",
    "    break\n",
    "images.shape, labels.shape"
   ]
  },
  {
   "cell_type": "code",
   "execution_count": 14,
   "metadata": {},
   "outputs": [
    {
     "name": "stdout",
     "output_type": "stream",
     "text": [
      "Epoch [1/5], Step [100/600], Loss: 0.1084\n",
      "Epoch [1/5], Step [200/600], Loss: 0.1674\n",
      "Epoch [1/5], Step [300/600], Loss: 0.0899\n",
      "Epoch [1/5], Step [400/600], Loss: 0.0852\n",
      "Epoch [1/5], Step [500/600], Loss: 0.0884\n",
      "Epoch [1/5], Step [600/600], Loss: 0.0455\n",
      "Accuracy of the network on the 10000 test images: 98.35 %\n",
      "Epoch [2/5], Step [100/600], Loss: 0.0413\n",
      "Epoch [2/5], Step [200/600], Loss: 0.0314\n",
      "Epoch [2/5], Step [300/600], Loss: 0.0090\n",
      "Epoch [2/5], Step [400/600], Loss: 0.0031\n",
      "Epoch [2/5], Step [500/600], Loss: 0.0402\n",
      "Epoch [2/5], Step [600/600], Loss: 0.0043\n",
      "Accuracy of the network on the 10000 test images: 98.88 %\n",
      "Epoch [3/5], Step [100/600], Loss: 0.0073\n",
      "Epoch [3/5], Step [200/600], Loss: 0.0310\n",
      "Epoch [3/5], Step [300/600], Loss: 0.0172\n",
      "Epoch [3/5], Step [400/600], Loss: 0.0155\n",
      "Epoch [3/5], Step [500/600], Loss: 0.0132\n",
      "Epoch [3/5], Step [600/600], Loss: 0.0032\n",
      "Accuracy of the network on the 10000 test images: 99.04 %\n",
      "Epoch [4/5], Step [100/600], Loss: 0.0014\n",
      "Epoch [4/5], Step [200/600], Loss: 0.0574\n",
      "Epoch [4/5], Step [300/600], Loss: 0.0176\n",
      "Epoch [4/5], Step [400/600], Loss: 0.0368\n",
      "Epoch [4/5], Step [500/600], Loss: 0.0155\n",
      "Epoch [4/5], Step [600/600], Loss: 0.0280\n",
      "Accuracy of the network on the 10000 test images: 98.95 %\n",
      "Epoch [5/5], Step [100/600], Loss: 0.0115\n",
      "Epoch [5/5], Step [200/600], Loss: 0.0019\n",
      "Epoch [5/5], Step [300/600], Loss: 0.0161\n",
      "Epoch [5/5], Step [400/600], Loss: 0.0056\n",
      "Epoch [5/5], Step [500/600], Loss: 0.0065\n",
      "Epoch [5/5], Step [600/600], Loss: 0.0022\n",
      "Accuracy of the network on the 10000 test images: 99.32 %\n"
     ]
    }
   ],
   "source": [
    "# Train the model\n",
    "total_step = len(train_loader)\n",
    "for epoch in range(num_epochs):\n",
    "    for i, (images, labels) in enumerate(train_loader):  \n",
    "        # Move tensors to the configured device\n",
    "        #images = images.reshape(-1, 28*28).to(device)\n",
    "        images = images.to(device)\n",
    "        labels = labels.to(device)\n",
    "        \n",
    "        # Forward pass\n",
    "        outputs = model(images)\n",
    "        loss = criterion(outputs, labels)\n",
    "        \n",
    "        # Backward and optimize\n",
    "        optimizer.zero_grad()\n",
    "        loss.backward()\n",
    "        optimizer.step()\n",
    "        \n",
    "        if (i+1) % 100 == 0:\n",
    "            print ('Epoch [{}/{}], Step [{}/{}], Loss: {:.4f}' \n",
    "                   .format(epoch+1, num_epochs, i+1, total_step, loss.item()))\n",
    "    # Test the model\n",
    "    # In test phase, we don't need to compute gradients (for memory efficiency)\n",
    "    with torch.no_grad():\n",
    "        correct = 0\n",
    "        total = 0\n",
    "        for images, labels in test_loader:\n",
    "            #images = images.reshape(-1, 28*28).to(device)\n",
    "            images = images.to(device)\n",
    "            labels = labels.to(device)\n",
    "            outputs = model(images)\n",
    "            _, predicted = torch.max(outputs.data, 1)\n",
    "            total += labels.size(0)\n",
    "            correct += (predicted == labels).sum().item()\n",
    "\n",
    "        print('Accuracy of the network on the 10000 test images: {} %'.format(100 * correct / total))\n",
    "\n",
    "    # Save the model checkpoint\n",
    "    torch.save(model.state_dict(), 'model.ckpt')"
   ]
  },
  {
   "cell_type": "code",
   "execution_count": 15,
   "metadata": {},
   "outputs": [
    {
     "name": "stdout",
     "output_type": "stream",
     "text": [
      "conv1.weight torch.Size([20, 1, 5, 5]) 500\n",
      "conv1.bias torch.Size([20]) 20\n",
      "batchnorm1.weight torch.Size([20]) 20\n",
      "batchnorm1.bias torch.Size([20]) 20\n",
      "conv2.weight torch.Size([50, 20, 5, 5]) 25000\n",
      "conv2.bias torch.Size([50]) 50\n",
      "batchnorm2.weight torch.Size([50]) 50\n",
      "batchnorm2.bias torch.Size([50]) 50\n",
      "fc1.weight torch.Size([500, 800]) 400000\n",
      "fc1.bias torch.Size([500]) 500\n",
      "fc2.weight torch.Size([10, 500]) 5000\n",
      "fc2.bias torch.Size([10]) 10\n",
      "431220\n"
     ]
    }
   ],
   "source": [
    "ss = []\n",
    "for name, p in model.named_parameters():\n",
    "    ss.append(p.numel())\n",
    "    print(name, p.shape, p.numel())\n",
    "print(sum(ss))"
   ]
  }
 ],
 "metadata": {
  "kernelspec": {
   "display_name": "Python 3 (ipykernel)",
   "language": "python",
   "name": "python3"
  },
  "language_info": {
   "codemirror_mode": {
    "name": "ipython",
    "version": 3
   },
   "file_extension": ".py",
   "mimetype": "text/x-python",
   "name": "python",
   "nbconvert_exporter": "python",
   "pygments_lexer": "ipython3",
   "version": "3.11.4"
  }
 },
 "nbformat": 4,
 "nbformat_minor": 2
}
