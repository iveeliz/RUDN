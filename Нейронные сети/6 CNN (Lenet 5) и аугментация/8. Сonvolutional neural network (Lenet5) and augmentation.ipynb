{
 "cells": [
  {
   "cell_type": "markdown",
   "metadata": {},
   "source": [
    "## Свёрточные нейронные сети и аугментация данных\n",
    "В этом задании необходимо обучить конволюционную нейросеть типа сети LeNet5, предложенную Яном Лекуном в 1998 году, для распознавания рукописных цифр из базы данных MNIST.  \n",
    "Код ниже предлагает базовый вариант обучения, который даёт около 98-99% точности на тестовой выборке.  "
   ]
  },
  {
   "cell_type": "code",
   "execution_count": 1,
   "metadata": {},
   "outputs": [
    {
     "name": "stdout",
     "output_type": "stream",
     "text": [
      "cpu\n"
     ]
    }
   ],
   "source": [
    "import torch\n",
    "import torch.nn as nn\n",
    "import torchvision\n",
    "import torchvision.transforms as transforms\n",
    "from torchvision.transforms import  v2\n",
    "from matplotlib import pyplot  as plt\n",
    "\n",
    "# Device configuration\n",
    "device = torch.device('cuda' if torch.cuda.is_available() else 'cpu')\n",
    "print(device)\n",
    "\n",
    "# Hyper-parameters \n",
    "input_size = 784\n",
    "hidden_size = 500\n",
    "num_classes = 10\n",
    "num_epochs = 5\n",
    "batch_size = 100\n",
    "learning_rate = 0.001"
   ]
  },
  {
   "cell_type": "markdown",
   "metadata": {},
   "source": [
    "# 1 Этап - подготовка данных!"
   ]
  },
  {
   "cell_type": "code",
   "execution_count": 2,
   "metadata": {},
   "outputs": [],
   "source": [
    "# MNIST dataset \n",
    "train_dataset = torchvision.datasets.MNIST(root='../../data', \n",
    "                                           train=True, \n",
    "                                           transform=transforms.ToTensor(),  \n",
    "                                           download=True)\n",
    "\n",
    "test_dataset = torchvision.datasets.MNIST(root='../../data', \n",
    "                                          train=False, \n",
    "                                          transform=transforms.ToTensor())\n",
    "\n",
    "# Data loader\n",
    "train_loader = torch.utils.data.DataLoader(dataset=train_dataset, \n",
    "                                           batch_size=batch_size, \n",
    "                                           shuffle=True)\n",
    "\n",
    "test_loader = torch.utils.data.DataLoader(dataset=test_dataset, \n",
    "                                          batch_size=batch_size, \n",
    "                                          shuffle=False)"
   ]
  },
  {
   "cell_type": "markdown",
   "metadata": {},
   "source": [
    "# 2 Этап - Нейронная сеть!"
   ]
  },
  {
   "cell_type": "markdown",
   "metadata": {},
   "source": [
    "<img src='Lenet5.png'>"
   ]
  },
  {
   "cell_type": "code",
   "execution_count": 3,
   "metadata": {},
   "outputs": [],
   "source": [
    "# Fully connected neural network with one hidden layer\n",
    "class Lenet5(nn.Module):\n",
    "    def __init__(self, hidden_size1=500, num_classes=10):\n",
    "        super().__init__()\n",
    "        self.conv1 = nn.Conv2d(in_channels=1, out_channels=20, kernel_size=5, stride=1, padding=0)\n",
    "        self.batchnorm1 = nn.BatchNorm2d(20)\n",
    "        self.maxpool = nn.MaxPool2d(kernel_size=2, stride=2)\n",
    "        self.conv2 = nn.Conv2d(in_channels=20, out_channels=50, kernel_size=5, stride=1, padding=0)\n",
    "        self.batchnorm2 = nn.BatchNorm2d(50)\n",
    "        self.relu = nn.ReLU()\n",
    "        self.fc1 = nn.Linear(50 * 4 * 4, hidden_size1) # fully connected\n",
    "        self.fc2 = nn.Linear(hidden_size1, num_classes)  \n",
    "    \n",
    "    def forward(self, x): # вход размера 1 x 28 x 28\n",
    "        out = self.conv1(x) # на выходе размер 20 x 24 x 24\n",
    "        out = self.batchnorm1(out)\n",
    "        out = self.maxpool(out) # на выходе размер 20 x 12 x 12\n",
    "        out = self.relu(out)\n",
    "        out = self.conv2(out)  # на выходе размер 50 x 8 x 8\n",
    "        out = self.batchnorm2(out)\n",
    "        out = self.maxpool(out) # на выходе размер 50 x 4 x 4\n",
    "        out = self.relu(out)\n",
    "        out = out.reshape(-1, 50 * 4 * 4) # на выходе размер 800\n",
    "        out = self.fc1(out) # на выходе размер 500\n",
    "        out = self.relu(out)\n",
    "        out = self.fc2(out) # на выходе размер 10\n",
    "        \n",
    "        return out\n",
    "\n",
    "model = Lenet5(hidden_size1=500, num_classes=10).to(device)\n"
   ]
  },
  {
   "cell_type": "markdown",
   "metadata": {},
   "source": [
    "# 3 этап - Loss-функция и оптимизатор"
   ]
  },
  {
   "cell_type": "code",
   "execution_count": 4,
   "metadata": {},
   "outputs": [],
   "source": [
    "# Loss and optimizer\n",
    "criterion = nn.CrossEntropyLoss()\n",
    "optimizer = torch.optim.Adam(model.parameters(), lr=learning_rate)"
   ]
  },
  {
   "cell_type": "markdown",
   "metadata": {},
   "source": [
    "# 4 этап - обучение нейросети"
   ]
  },
  {
   "cell_type": "code",
   "execution_count": 5,
   "metadata": {},
   "outputs": [
    {
     "name": "stdout",
     "output_type": "stream",
     "text": [
      "Epoch [1/5], Step [100/600], Loss: 0.0528\n",
      "Epoch [1/5], Step [200/600], Loss: 0.1026\n",
      "Epoch [1/5], Step [300/600], Loss: 0.0721\n",
      "Epoch [1/5], Step [400/600], Loss: 0.0329\n",
      "Epoch [1/5], Step [500/600], Loss: 0.0157\n",
      "Epoch [1/5], Step [600/600], Loss: 0.0287\n",
      "Accuracy of the network on the 10000 test images: 98.5 %\n",
      "Epoch [2/5], Step [100/600], Loss: 0.0257\n",
      "Epoch [2/5], Step [200/600], Loss: 0.0190\n",
      "Epoch [2/5], Step [300/600], Loss: 0.1821\n",
      "Epoch [2/5], Step [400/600], Loss: 0.1024\n",
      "Epoch [2/5], Step [500/600], Loss: 0.0642\n",
      "Epoch [2/5], Step [600/600], Loss: 0.0917\n",
      "Accuracy of the network on the 10000 test images: 98.47 %\n",
      "Epoch [3/5], Step [100/600], Loss: 0.0169\n",
      "Epoch [3/5], Step [200/600], Loss: 0.0340\n",
      "Epoch [3/5], Step [300/600], Loss: 0.0084\n",
      "Epoch [3/5], Step [400/600], Loss: 0.0372\n",
      "Epoch [3/5], Step [500/600], Loss: 0.0595\n",
      "Epoch [3/5], Step [600/600], Loss: 0.0137\n",
      "Accuracy of the network on the 10000 test images: 99.05 %\n",
      "Epoch [4/5], Step [100/600], Loss: 0.0545\n",
      "Epoch [4/5], Step [200/600], Loss: 0.0090\n",
      "Epoch [4/5], Step [300/600], Loss: 0.0328\n",
      "Epoch [4/5], Step [400/600], Loss: 0.0404\n",
      "Epoch [4/5], Step [500/600], Loss: 0.0242\n",
      "Epoch [4/5], Step [600/600], Loss: 0.0183\n",
      "Accuracy of the network on the 10000 test images: 98.95 %\n",
      "Epoch [5/5], Step [100/600], Loss: 0.0349\n",
      "Epoch [5/5], Step [200/600], Loss: 0.0033\n",
      "Epoch [5/5], Step [300/600], Loss: 0.0098\n",
      "Epoch [5/5], Step [400/600], Loss: 0.0103\n",
      "Epoch [5/5], Step [500/600], Loss: 0.0054\n",
      "Epoch [5/5], Step [600/600], Loss: 0.0335\n",
      "Accuracy of the network on the 10000 test images: 99.18 %\n"
     ]
    }
   ],
   "source": [
    "# Train the model\n",
    "total_step = len(train_loader)\n",
    "for epoch in range(num_epochs):\n",
    "    for i, (images, labels) in enumerate(train_loader):  \n",
    "        # Move tensors to the configured device\n",
    "        #images = images.reshape(-1, 28*28).to(device)\n",
    "        images = images.to(device)\n",
    "        labels = labels.to(device)\n",
    "        \n",
    "        # Forward pass\n",
    "        outputs = model(images)\n",
    "        loss = criterion(outputs, labels)\n",
    "        \n",
    "        # Backward and optimize\n",
    "        optimizer.zero_grad()\n",
    "        loss.backward()\n",
    "        optimizer.step()\n",
    "        \n",
    "        if (i+1) % 100 == 0:\n",
    "            print ('Epoch [{}/{}], Step [{}/{}], Loss: {:.4f}' \n",
    "                   .format(epoch+1, num_epochs, i+1, total_step, loss.item()))\n",
    "    # Test the model\n",
    "    # In test phase, we don't need to compute gradients (for memory efficiency)\n",
    "    with torch.no_grad():\n",
    "        correct = 0\n",
    "        total = 0\n",
    "        for images, labels in test_loader:\n",
    "            #images = images.reshape(-1, 28*28).to(device)\n",
    "            images = images.to(device)\n",
    "            labels = labels.to(device)\n",
    "            outputs = model(images)\n",
    "            _, predicted = torch.max(outputs.data, 1)\n",
    "            total += labels.size(0)\n",
    "            correct += (predicted == labels).sum().item()\n",
    "\n",
    "        print('Accuracy of the network on the 10000 test images: {} %'.format(100 * correct / total))\n",
    "\n",
    "    # Save the model checkpoint\n",
    "    torch.save(model.state_dict(), 'model.ckpt')"
   ]
  },
  {
   "cell_type": "markdown",
   "metadata": {},
   "source": [
    "# Улучшение кода: аугментация данных\n",
    "Расширим обучающий датасет за счёт дополнительных искажений исходных картинок:  \n",
    " - небольших случайных поворотов (rotate), \n",
    " - дрожания (jitter), \n",
    " - кроппинга (crop) \n",
    " - и др.   \n",
    "Для трансформации картинок используем методы библиотеки `torchvision.transforms`, про которые можно прочитать [здесь](https://pytorch.org/vision/stable/transforms.html)  \n",
    "Целью задания является - получить точность на тестовой выборке 99.5%.\n",
    "\n",
    "## Подготовка данных"
   ]
  },
  {
   "cell_type": "code",
   "execution_count": 9,
   "metadata": {},
   "outputs": [],
   "source": [
    "transformеr_for_train = v2.Compose([transforms.ToTensor(),\n",
    "                                    v2.CenterCrop(28),\n",
    "                                    v2.RandomRotation(degrees=15),\n",
    "                                    v2.Normalize(mean=[0.456], std=[0.224])])\n",
    "\n",
    "transformеr_for_test = v2.Compose([transforms.ToTensor(),\n",
    "                                   v2.Normalize(mean=[0.456], std=[0.224])])"
   ]
  },
  {
   "cell_type": "code",
   "execution_count": 10,
   "metadata": {},
   "outputs": [],
   "source": [
    "train_dataset = torchvision.datasets.MNIST(root='../../data', \n",
    "                                           train=True, \n",
    "                                           transform=transformеr_for_train,  \n",
    "                                           download=True)\n",
    "\n",
    "test_dataset = torchvision.datasets.MNIST(root='../../data', \n",
    "                                          train=False, \n",
    "                                          transform=transformеr_for_test)\n",
    "\n",
    "train_loader = torch.utils.data.DataLoader(dataset=train_dataset, \n",
    "                                           batch_size=batch_size, \n",
    "                                           shuffle=True)\n",
    "\n",
    "test_loader = torch.utils.data.DataLoader(dataset=test_dataset, \n",
    "                                          batch_size=batch_size, \n",
    "                                          shuffle=False)"
   ]
  },
  {
   "cell_type": "markdown",
   "metadata": {},
   "source": [
    "## Обучение нейросети"
   ]
  },
  {
   "cell_type": "code",
   "execution_count": null,
   "metadata": {},
   "outputs": [
    {
     "name": "stdout",
     "output_type": "stream",
     "text": [
      "Epoch [1/5], Step [100/600], Loss: 0.0022\n",
      "Epoch [1/5], Step [200/600], Loss: 0.0015\n",
      "Epoch [1/5], Step [300/600], Loss: 0.0023\n",
      "Epoch [1/5], Step [400/600], Loss: 0.0006\n",
      "Epoch [1/5], Step [500/600], Loss: 0.0174\n",
      "Epoch [1/5], Step [600/600], Loss: 0.0026\n",
      "Accuracy of the network on the 10000 test images: 99.27 %\n",
      "Epoch [2/5], Step [100/600], Loss: 0.0008\n",
      "Epoch [2/5], Step [200/600], Loss: 0.0173\n",
      "Epoch [2/5], Step [300/600], Loss: 0.0934\n",
      "Epoch [2/5], Step [400/600], Loss: 0.0427\n",
      "Epoch [2/5], Step [500/600], Loss: 0.0052\n",
      "Epoch [2/5], Step [600/600], Loss: 0.0061\n",
      "Accuracy of the network on the 10000 test images: 99.34 %\n",
      "Epoch [3/5], Step [100/600], Loss: 0.0209\n",
      "Epoch [3/5], Step [200/600], Loss: 0.0001\n",
      "Epoch [3/5], Step [300/600], Loss: 0.0184\n",
      "Epoch [3/5], Step [400/600], Loss: 0.0352\n",
      "Epoch [3/5], Step [500/600], Loss: 0.0044\n",
      "Epoch [3/5], Step [600/600], Loss: 0.0107\n",
      "Accuracy of the network on the 10000 test images: 99.29 %\n",
      "Epoch [4/5], Step [100/600], Loss: 0.0020\n",
      "Epoch [4/5], Step [200/600], Loss: 0.0244\n",
      "Epoch [4/5], Step [300/600], Loss: 0.0014\n",
      "Epoch [4/5], Step [400/600], Loss: 0.0446\n",
      "Epoch [4/5], Step [500/600], Loss: 0.0033\n",
      "Epoch [4/5], Step [600/600], Loss: 0.0013\n",
      "Accuracy of the network on the 10000 test images: 99.2 %\n",
      "Epoch [5/5], Step [100/600], Loss: 0.0008\n",
      "Epoch [5/5], Step [200/600], Loss: 0.0589\n",
      "Epoch [5/5], Step [300/600], Loss: 0.0055\n",
      "Epoch [5/5], Step [400/600], Loss: 0.0035\n",
      "Epoch [5/5], Step [500/600], Loss: 0.0032\n",
      "Epoch [5/5], Step [600/600], Loss: 0.0066\n"
     ]
    }
   ],
   "source": [
    "# Train the model\n",
    "total_step = len(train_loader)\n",
    "for epoch in range(num_epochs):\n",
    "    model.train() # включены dropout (зануление некоторых нейронов) и batchnormalization\n",
    "    for i, (images, labels) in enumerate(train_loader):  \n",
    "        # Move tensors to the configured device\n",
    "        #images = images.reshape(-1, 28*28).to(device)\n",
    "        images = images.to(device)\n",
    "        labels = labels.to(device)\n",
    "        \n",
    "        # Forward pass\n",
    "        outputs = model(images)\n",
    "        loss = criterion(outputs, labels)\n",
    "        \n",
    "        # Backward and optimize\n",
    "        optimizer.zero_grad()\n",
    "        loss.backward()\n",
    "        optimizer.step()\n",
    "        \n",
    "        if (i+1) % 100 == 0:\n",
    "            print ('Epoch [{}/{}], Step [{}/{}], Loss: {:.4f}' \n",
    "                   .format(epoch+1, num_epochs, i+1, total_step, loss.item()))\n",
    "    # Test the model\n",
    "    # In test phase, we don't need to compute gradients (for memory efficiency)\n",
    "    with torch.no_grad():\n",
    "        model.eval() # отключены dropout (зануление некоторых нейронов) и batchnormalization\n",
    "        correct = 0\n",
    "        total = 0\n",
    "        for images, labels in test_loader:\n",
    "            #images = images.reshape(-1, 28*28).to(device)\n",
    "            images = images.to(device)\n",
    "            labels = labels.to(device)\n",
    "            outputs = model(images)\n",
    "            _, predicted = torch.max(outputs.data, 1)\n",
    "            total += labels.size(0)\n",
    "            correct += (predicted == labels).sum().item()\n",
    "\n",
    "        print('Accuracy of the network on the 10000 test images: {} %'.format(100 * correct / total))\n",
    "\n",
    "    # Save the model checkpoint\n",
    "    torch.save(model.state_dict(), 'model.ckpt')"
   ]
  }
 ],
 "metadata": {
  "kernelspec": {
   "display_name": "Python 3 (ipykernel)",
   "language": "python",
   "name": "python3"
  },
  "language_info": {
   "codemirror_mode": {
    "name": "ipython",
    "version": 3
   },
   "file_extension": ".py",
   "mimetype": "text/x-python",
   "name": "python",
   "nbconvert_exporter": "python",
   "pygments_lexer": "ipython3",
   "version": "3.11.4"
  }
 },
 "nbformat": 4,
 "nbformat_minor": 2
}
