{
 "cells": [
  {
   "cell_type": "code",
   "execution_count": 1,
   "id": "11e1460a",
   "metadata": {},
   "outputs": [
    {
     "name": "stdout",
     "output_type": "stream",
     "text": [
      "Доход портфеля: 0.17500000000000002\n",
      "Риск портфеля: 0.3061862178478973\n"
     ]
    }
   ],
   "source": [
    "import numpy as np\n",
    "\n",
    "# Данные активов\n",
    "prices = np.array([16, 15, 4.5])  # Цены активов\n",
    "expected_returns = np.array([0.1, 0.2, 0.2])  # Ожидаемая доходность активов\n",
    "weights = np.array([0.25, 0.25, 0.5])  # Весовые коэффициенты активов\n",
    "cov_matrix = np.array([[0.1, 0, 0],\n",
    "                       [0, 0.2, -0.1],\n",
    "                       [0, -0.1, 0.4]])  # Ковариационная матрица доходностей\n",
    "\n",
    "# Расчет дохода портфеля\n",
    "portfolio_return = np.dot(expected_returns, weights)\n",
    "\n",
    "# Расчет риска портфеля\n",
    "portfolio_risk = np.sqrt(np.dot(np.dot(weights, cov_matrix), weights.T))\n",
    "\n",
    "# Вывод результатов\n",
    "print(\"Доход портфеля:\", portfolio_return)\n",
    "print(\"Риск портфеля:\", portfolio_risk)"
   ]
  }
 ],
 "metadata": {
  "kernelspec": {
   "display_name": "Python 3 (ipykernel)",
   "language": "python",
   "name": "python3"
  },
  "language_info": {
   "codemirror_mode": {
    "name": "ipython",
    "version": 3
   },
   "file_extension": ".py",
   "mimetype": "text/x-python",
   "name": "python",
   "nbconvert_exporter": "python",
   "pygments_lexer": "ipython3",
   "version": "3.11.4"
  }
 },
 "nbformat": 4,
 "nbformat_minor": 5
}
