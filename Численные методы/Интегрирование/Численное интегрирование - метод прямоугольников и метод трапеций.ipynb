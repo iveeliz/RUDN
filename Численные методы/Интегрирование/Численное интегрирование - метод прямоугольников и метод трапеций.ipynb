{
 "cells": [
  {
   "cell_type": "markdown",
   "id": "1728a458",
   "metadata": {},
   "source": [
    "# Метод прямоугольников 1"
   ]
  },
  {
   "cell_type": "code",
   "execution_count": 1,
   "id": "620d6b7e",
   "metadata": {},
   "outputs": [],
   "source": [
    "import numpy as np"
   ]
  },
  {
   "cell_type": "code",
   "execution_count": 2,
   "id": "5421d05d",
   "metadata": {},
   "outputs": [],
   "source": [
    "def f(x):\n",
    "    return 5 * np.cos(x) + 7"
   ]
  },
  {
   "cell_type": "code",
   "execution_count": 3,
   "id": "93df560b",
   "metadata": {},
   "outputs": [],
   "source": [
    "def rectangle1(f, a ,b, k):\n",
    "    \n",
    "    dlina = (b - a) / k\n",
    "    print(\"dlina:\", dlina)\n",
    "    \n",
    "    point = []\n",
    "    for i in range(k):\n",
    "        point.append(a + dlina * i)\n",
    "    print(\"points:\", point)\n",
    "    \n",
    "    result = 0\n",
    "    for x in point:\n",
    "        result +=  dlina * f(x)\n",
    "    \n",
    "    print(\"integral:\", result)\n",
    "    \n",
    "    return result"
   ]
  },
  {
   "cell_type": "code",
   "execution_count": 4,
   "id": "e3512cae",
   "metadata": {},
   "outputs": [
    {
     "name": "stdout",
     "output_type": "stream",
     "text": [
      "dlina: 0.1875\n",
      "points: [-4.0, -3.8125, -3.625, -3.4375, -3.25, -3.0625, -2.875, -2.6875, -2.5, -2.3125, -2.125, -1.9375, -1.75, -1.5625, -1.375, -1.1875, -1.0, -0.8125, -0.625, -0.4375, -0.25, -0.0625, 0.125, 0.3125, 0.5, 0.6875, 0.875, 1.0625, 1.25, 1.4375, 1.625, 1.8125, 2.0, 2.1875, 2.375, 2.5625, 2.75, 2.9375, 3.125, 3.3125, 3.5, 3.6875, 3.875, 4.0625, 4.25, 4.4375, 4.625, 4.8125, 5.0, 5.1875, 5.375, 5.5625, 5.75, 5.9375, 6.125, 6.3125, 6.5, 6.6875, 6.875, 7.0625, 7.25, 7.4375, 7.625, 7.8125]\n",
      "integral: 84.92117787404254\n"
     ]
    },
    {
     "data": {
      "text/plain": [
       "84.92117787404254"
      ]
     },
     "execution_count": 4,
     "metadata": {},
     "output_type": "execute_result"
    }
   ],
   "source": [
    "a = -4\n",
    "b = 8\n",
    "k = 64\n",
    "\n",
    "rectangle1(f, a ,b, k)"
   ]
  },
  {
   "cell_type": "markdown",
   "id": "378e7269",
   "metadata": {},
   "source": [
    "# Метод прямоугольников 2"
   ]
  },
  {
   "cell_type": "code",
   "execution_count": 5,
   "id": "1de179b1",
   "metadata": {},
   "outputs": [],
   "source": [
    "def rectangle2(f, a ,b, k):\n",
    "    \n",
    "    dlina = (b - a) / k\n",
    "    print(\"dlina:\", dlina)\n",
    "    \n",
    "    point = []\n",
    "    for i in range(k):\n",
    "        point.append(b - dlina * (k - i))\n",
    "    print(\"points:\", point)\n",
    "    \n",
    "    result = 0\n",
    "    for x in point:\n",
    "        result += dlina * f(x)\n",
    "    \n",
    "    print(\"integral:\", result)\n",
    "    return result"
   ]
  },
  {
   "cell_type": "code",
   "execution_count": 6,
   "id": "db29dd87",
   "metadata": {},
   "outputs": [
    {
     "name": "stdout",
     "output_type": "stream",
     "text": [
      "dlina: 0.1875\n",
      "points: [-4.0, -3.8125, -3.625, -3.4375, -3.25, -3.0625, -2.875, -2.6875, -2.5, -2.3125, -2.125, -1.9375, -1.75, -1.5625, -1.375, -1.1875, -1.0, -0.8125, -0.625, -0.4375, -0.25, -0.0625, 0.125, 0.3125, 0.5, 0.6875, 0.875, 1.0625, 1.25, 1.4375, 1.625, 1.8125, 2.0, 2.1875, 2.375, 2.5625, 2.75, 2.9375, 3.125, 3.3125, 3.5, 3.6875, 3.875, 4.0625, 4.25, 4.4375, 4.625, 4.8125, 5.0, 5.1875, 5.375, 5.5625, 5.75, 5.9375, 6.125, 6.3125, 6.5, 6.6875, 6.875, 7.0625, 7.25, 7.4375, 7.625, 7.8125]\n",
      "integral: 84.92117787404254\n"
     ]
    },
    {
     "data": {
      "text/plain": [
       "84.92117787404254"
      ]
     },
     "execution_count": 6,
     "metadata": {},
     "output_type": "execute_result"
    }
   ],
   "source": [
    "a = -4\n",
    "b = 8\n",
    "k = 64\n",
    "\n",
    "rectangle2(f, a ,b, k)"
   ]
  },
  {
   "cell_type": "markdown",
   "id": "a8268f48",
   "metadata": {},
   "source": [
    "# Метод трапеций"
   ]
  },
  {
   "cell_type": "code",
   "execution_count": 7,
   "id": "45d5c40f",
   "metadata": {},
   "outputs": [],
   "source": [
    "def trapezoid(f, a ,b, k):\n",
    "    \n",
    "    dlina = (b - a) / k\n",
    "    print(\"dlina:\", dlina)\n",
    "    \n",
    "    point = []\n",
    "    for i in range(k):\n",
    "        point.append(a + dlina * i)\n",
    "    print(\"points:\", point)\n",
    "    \n",
    "    result = 0\n",
    "    for x in point:\n",
    "        result += dlina * (f(x) + f(x + dlina)) / 2\n",
    "    \n",
    "    print(\"integral:\", result)\n",
    "    return result"
   ]
  },
  {
   "cell_type": "code",
   "execution_count": 8,
   "id": "77260abb",
   "metadata": {},
   "outputs": [
    {
     "name": "stdout",
     "output_type": "stream",
     "text": [
      "dlina: 0.1875\n",
      "points: [-4.0, -3.8125, -3.625, -3.4375, -3.25, -3.0625, -2.875, -2.6875, -2.5, -2.3125, -2.125, -1.9375, -1.75, -1.5625, -1.375, -1.1875, -1.0, -0.8125, -0.625, -0.4375, -0.25, -0.0625, 0.125, 0.3125, 0.5, 0.6875, 0.875, 1.0625, 1.25, 1.4375, 1.625, 1.8125, 2.0, 2.1875, 2.375, 2.5625, 2.75, 2.9375, 3.125, 3.3125, 3.5, 3.6875, 3.875, 4.0625, 4.25, 4.4375, 4.625, 4.8125, 5.0, 5.1875, 5.375, 5.5625, 5.75, 5.9375, 6.125, 6.3125, 6.5, 6.6875, 6.875, 7.0625, 7.25, 7.4375, 7.625, 7.8125]\n",
      "integral: 85.15937018047455\n"
     ]
    },
    {
     "data": {
      "text/plain": [
       "85.15937018047455"
      ]
     },
     "execution_count": 8,
     "metadata": {},
     "output_type": "execute_result"
    }
   ],
   "source": [
    "a = -4\n",
    "b = 8\n",
    "k = 64\n",
    "\n",
    "trapezoid(f, a ,b, k)"
   ]
  }
 ],
 "metadata": {
  "kernelspec": {
   "display_name": "Python 3 (ipykernel)",
   "language": "python",
   "name": "python3"
  },
  "language_info": {
   "codemirror_mode": {
    "name": "ipython",
    "version": 3
   },
   "file_extension": ".py",
   "mimetype": "text/x-python",
   "name": "python",
   "nbconvert_exporter": "python",
   "pygments_lexer": "ipython3",
   "version": "3.11.4"
  }
 },
 "nbformat": 4,
 "nbformat_minor": 5
}
