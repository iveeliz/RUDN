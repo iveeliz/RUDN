{
 "cells": [
  {
   "cell_type": "code",
   "execution_count": 1,
   "id": "d57d9c93",
   "metadata": {},
   "outputs": [],
   "source": [
    "import numpy as np\n",
    "import matplotlib.pyplot as plt"
   ]
  },
  {
   "cell_type": "code",
   "execution_count": 2,
   "id": "b9f973f8",
   "metadata": {},
   "outputs": [],
   "source": [
    "xi = [1.0, 1.9, 2.8, 3.7, 4.6]\n",
    "fi = [2.8069, 1.8279, 1.6091, 1.5713, 1.5663]\n",
    "X = 2.66666667"
   ]
  },
  {
   "cell_type": "code",
   "execution_count": 3,
   "id": "0063fa93",
   "metadata": {},
   "outputs": [],
   "source": [
    "def spline(x, y):\n",
    "    \n",
    "    x = np.array(x)\n",
    "    y = np.array(y)\n",
    "    \n",
    "    a = np.zeros((len(x), len(x)))\n",
    "    b = np.zeros((len(y), 1))\n",
    "    \n",
    "    a[0, 0] = 1\n",
    "    a[-1, -1] = 1\n",
    "    \n",
    "    delta_x = []\n",
    "    delta_y = []\n",
    "\n",
    "    for i in range(1, len(x)):\n",
    "        delta_x.append(x[i] - x[i-1])\n",
    "        delta_y.append(y[i] - y[i-1])\n",
    "        \n",
    "    delta_x = np.array(delta_x)\n",
    "    delta_y = np.array(delta_y)\n",
    "\n",
    "    for i in range(1, len(x) - 1):\n",
    "        \n",
    "        b[i, 0] = (delta_y[i]/delta_x[i]) - (delta_y[i-1]/delta_x[i-1])\n",
    "        a[i, i] = (delta_x[i-1] + delta_x[i])/3\n",
    "        a[i, i+1] = (delta_x[i])/6\n",
    "        a[i, i-1] = (delta_x[i-1])/6\n",
    "        \n",
    "    m = np.linalg.solve(a, b)\n",
    "\n",
    "    return m"
   ]
  },
  {
   "cell_type": "code",
   "execution_count": 4,
   "id": "c7b90572",
   "metadata": {},
   "outputs": [],
   "source": [
    "def value(xarray, yarray, x, m):\n",
    "    \n",
    "    i = 0\n",
    "    \n",
    "    while (xarray[i] < x):\n",
    "        i += 1\n",
    "        \n",
    "    deltax = xarray[i] - xarray[i-1]\n",
    "    \n",
    "    c = xarray[i] - x\n",
    "    d = x - xarray[i-1]\n",
    "    \n",
    "    r = (c) / deltax*yarray[i-1] + (d) / deltax*yarray[i] + ((c**3) - \n",
    "        (deltax**2)*c) / (6*deltax)*m[i-1] + ((d**3) - (deltax**2)*d) / (6*deltax)*m[i]\n",
    "    \n",
    "    return r"
   ]
  },
  {
   "cell_type": "code",
   "execution_count": 5,
   "id": "18af47cf",
   "metadata": {},
   "outputs": [],
   "source": [
    "m = spline(xi, fi)\n",
    "r = value(xi, fi, X, m)"
   ]
  },
  {
   "cell_type": "code",
   "execution_count": 6,
   "id": "a41e7c0d",
   "metadata": {},
   "outputs": [
    {
     "name": "stdout",
     "output_type": "stream",
     "text": [
      "[[ 0.        ]\n",
      " [ 1.41690476]\n",
      " [-0.03650794]\n",
      " [ 0.06986772]\n",
      " [ 0.        ]]\n"
     ]
    }
   ],
   "source": [
    "print(m)"
   ]
  },
  {
   "cell_type": "code",
   "execution_count": 7,
   "id": "6ec26017",
   "metadata": {},
   "outputs": [
    {
     "name": "stdout",
     "output_type": "stream",
     "text": [
      "[1.61495051]\n"
     ]
    }
   ],
   "source": [
    "print(r)"
   ]
  }
 ],
 "metadata": {
  "kernelspec": {
   "display_name": "Python 3 (ipykernel)",
   "language": "python",
   "name": "python3"
  },
  "language_info": {
   "codemirror_mode": {
    "name": "ipython",
    "version": 3
   },
   "file_extension": ".py",
   "mimetype": "text/x-python",
   "name": "python",
   "nbconvert_exporter": "python",
   "pygments_lexer": "ipython3",
   "version": "3.11.4"
  }
 },
 "nbformat": 4,
 "nbformat_minor": 5
}
