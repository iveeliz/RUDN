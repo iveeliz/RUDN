{
 "cells": [
  {
   "cell_type": "markdown",
   "id": "de379802",
   "metadata": {},
   "source": [
    "# Численные методы одномерной оптимизации"
   ]
  },
  {
   "cell_type": "code",
   "execution_count": 1,
   "id": "3f7c30f5",
   "metadata": {},
   "outputs": [],
   "source": [
    "import numpy as np\n",
    "import matplotlib.pyplot as plt"
   ]
  },
  {
   "cell_type": "markdown",
   "id": "6a58b2a3",
   "metadata": {},
   "source": [
    "Напишем функции для численного нахождения частной производной, градиента и матрицы Гесса для заданной функции в указанной точке.\n",
    "\n",
    "Для начала выведем все необходимые формулы. Пусть $x \\in \\mathbb{R}^n$ и $f \\in C^1$. Тогда частная производная функции $f(x_1, ..., x_i, ..., x_n)$ по $x_i$ находится по формуле:\n",
    "\n",
    "$\\frac{\\partial f}{\\partial x_i} = \\lim \\limits_{\\Delta \\to 0} \\frac{f(x_1, ..., x_i + \\Delta, ..., x_n) - f(x_1, ..., x_i, ..., x_n)}{\\Delta} $\n",
    "\n",
    "Градиент находится по следующей формуле:\n",
    "\n",
    "$\\vec{grad(f)} = \\nabla f = \\begin{pmatrix} \\frac{\\partial f}{\\partial x_1} & ... & \\frac{\\partial f}{\\partial x_i} & ... & \\frac{\\partial f}{\\partial x_n} \\end{pmatrix}^T = \\begin{pmatrix} \\lim \\limits_{\\Delta \\to 0} \\frac{f(x_1 + \\Delta, ..., x_i, ..., x_n) - f(x_1, ..., x_i, ..., x_n)}{\\Delta} & ... & \\lim \\limits_{\\Delta \\to 0} \\frac{f(x_1, ..., x_i, ..., x_n + \\Delta) - f(x_1, ..., x_i, ..., x_n)}{\\Delta} \\end{pmatrix}^T$\n",
    "\n",
    "Матрица Гесса выглядит следующим образом:\n",
    "\n",
    "$H_f = \\nabla^2 f = \\begin{pmatrix} \n",
    "                        \\frac{\\partial^2 f}{\\partial x_1^2} & ... & \\frac{\\partial^2f}{\\partial x_1 \\partial x_i} & ... & \\frac{\\partial^2f}{\\partial x_1 \\partial x_n}\\\\\n",
    "                        ... & ... & ... & ... & ... \\\\\n",
    "                        \\frac{\\partial^2f}{\\partial x_i \\partial x_1} & ... & \\frac{\\partial^2f}{\\partial x_i^2} & ... & \\frac{\\partial^2f}{\\partial x_i \\partial x_n}\\\\\n",
    "                        ... & ... & ... & ... & ... \\\\\n",
    "                        \\frac{\\partial^2f}{\\partial x_n \\partial x_1} & ... & \\frac{\\partial^2f}{\\partial x_n \\partial x_i} & ... & \\frac{\\partial^2f}{\\partial x_n^2}\\\\\n",
    "                     \\end{pmatrix}$\n",
    "                     \n",
    "Для неё необходимо, чтобы $f \\in C^2$                     \n",
    "                     \n",
    "Как можно заметить, для того, чтобы найти матрицу Гесса, нам нужно вывести формулу нахождения частной производной второго порядка по определению, т.е. через предел (поскольку численно производные можно находить только через формулы пределов, подставляя под дельту маленькое число). Итак, выведим формулу частной производной второго порядка по определению:\n",
    "\n",
    "$\\frac{\\partial^2f}{\\partial x_j \\partial x_i} = \\lim \\limits_{\\Delta \\to 0} \\frac{\\frac{\\partial f}{\\partial x_j}f(x_1, ..., x_i + \\Delta, ..., x_j, ..., x_n) - \\frac{\\partial f}{\\partial x_j}f(x_1, ..., x_i, ..., x_j, ..., x_n)}{\\Delta} =$\n",
    "\n",
    "$= \\lim \\limits_{\\Delta \\to 0} \\frac{\\lim \\limits_{\\Delta \\to 0} \\frac{f(x_1, ..., x_i + \\Delta, ..., x_j + \\Delta, ..., x_n) - f(x_1, ..., x_i + \\Delta, ..., x_j, ..., x_n)}{\\Delta} - \\lim \\limits_{\\Delta \\to 0} \\frac{f(x_1, ..., x_i, ..., x_j + \\Delta, ..., x_n) - f(x_1, ..., x_i, ..., x_j, ..., x_n)}{\\Delta}}{\\Delta} =$\n",
    "\n",
    "$ = \\lim \\limits_{\\Delta \\to 0} \\frac{f(x_1, ..., x_i + \\Delta, ..., x_j + \\Delta, ..., x_n) - f(x_1, ..., x_i + \\Delta, ..., x_j, ..., x_n) - f(x_1, ..., x_i, ..., x_j + \\Delta, ..., x_n) + f(x_1, ..., x_i, ..., x_j, ..., x_n)}{\\Delta^2}$\n",
    "\n",
    "Теперь мы можем, используя выведенные формулы написать функции численного нахождения частной производной, градиента и матрицы Гесса для заданной функции в указанной точке."
   ]
  },
  {
   "cell_type": "code",
   "execution_count": 2,
   "id": "bbaa5829",
   "metadata": {},
   "outputs": [],
   "source": [
    "def diff(f, x, i=0, eps=0.01):\n",
    "    x_right = np.copy(x)\n",
    "    x_right[i] += eps\n",
    "    return (f(x_right) - f(x)) / eps\n",
    "\n",
    "def grad(f, x, eps=0.01):\n",
    "    n = len(x)\n",
    "    E = np.eye(n)\n",
    "    return np.array([(f(x + eps * E[i]) - f(x)) / eps for i in range(n)])\n",
    "\n",
    "def hess(f, x, eps=0.01):\n",
    "    n = len(x)\n",
    "    E = np.eye(n)\n",
    "    res = np.zeros((n, n))\n",
    "    for i in range(n):\n",
    "        for j in range(i, n):\n",
    "            res[i, j] = (f(x + eps * E[i] + eps * E[j]) - f(x + eps * E[i]) - f(x + eps * E[j]) + f(x)) / eps**2\n",
    "            res[j, i] = res[i, j]\n",
    "    return res"
   ]
  },
  {
   "cell_type": "markdown",
   "id": "4e3e19ce",
   "metadata": {},
   "source": [
    "https://alexey-abakumkin.github.io/lectures-sem-2/CM/CM2.pdf"
   ]
  },
  {
   "cell_type": "code",
   "execution_count": 3,
   "id": "a23959df",
   "metadata": {},
   "outputs": [],
   "source": [
    "def f(x):\n",
    "    return np.cos(3 * x) / x ** 2"
   ]
  },
  {
   "cell_type": "code",
   "execution_count": 4,
   "id": "3125dd5a",
   "metadata": {},
   "outputs": [],
   "source": [
    "a, b = 7, 11\n",
    "eps = 0.01"
   ]
  },
  {
   "cell_type": "markdown",
   "id": "d431b4a5",
   "metadata": {},
   "source": [
    "### Метод дихотомии"
   ]
  },
  {
   "cell_type": "code",
   "execution_count": 5,
   "id": "3c258585",
   "metadata": {},
   "outputs": [],
   "source": [
    "def Dichotomy_Method(a, b, eps, f):\n",
    "    \n",
    "    delta = 0.001\n",
    "    k = 0\n",
    "    \n",
    "    while b - a > 2 * eps:\n",
    "        \n",
    "        k += 1\n",
    "        \n",
    "        c = (a + b) / 2 - delta / 2\n",
    "        d = (a + b) / 2 + delta / 2\n",
    "\n",
    "        if f(c) <= f(d):\n",
    "            b = d\n",
    "\n",
    "        elif f(c) > f(d): \n",
    "            a = c\n",
    "\n",
    "    x_min = (a + b) / 2\n",
    "    \n",
    "    return x_min, k"
   ]
  },
  {
   "cell_type": "code",
   "execution_count": 6,
   "id": "1d7af761",
   "metadata": {},
   "outputs": [
    {
     "name": "stdout",
     "output_type": "stream",
     "text": [
      "x* = 9.398337890624997\n",
      "y* = -0.011285744941784576\n",
      "k = 8\n"
     ]
    }
   ],
   "source": [
    "x_min, k = Dichotomy_Method(a, b, eps, f)\n",
    "\n",
    "print('x* =', x_min)\n",
    "print('y* =', f(x_min))\n",
    "print('k =', k)"
   ]
  },
  {
   "cell_type": "markdown",
   "id": "55597596",
   "metadata": {},
   "source": [
    "### Метод Фибоначчи"
   ]
  },
  {
   "cell_type": "code",
   "execution_count": 7,
   "id": "0c4e4290",
   "metadata": {},
   "outputs": [],
   "source": [
    "# Поиск чисел Фибоначчи\n",
    "def Fi(n):\n",
    "    \n",
    "    F1 = 1\n",
    "    F2 = 1\n",
    "    \n",
    "    for __ in range(n):\n",
    "        F1, F2 = F2, F1 + F2\n",
    "\n",
    "    return F1"
   ]
  },
  {
   "cell_type": "code",
   "execution_count": 8,
   "id": "ff522b78",
   "metadata": {},
   "outputs": [],
   "source": [
    "def Fibonacci_Method(a, b, eps, f):\n",
    "    \n",
    "    # Ищем количество вычислений n – наименьшее целое число, при котором F(n) >= | b - a | / epsilon\n",
    "    n = 0\n",
    "    while Fi(n) < (abs(b - a) / eps):\n",
    "        n += 1\n",
    "\n",
    "    k = 0 # количество итераций\n",
    "    \n",
    "    # ищем две симметричные относительно центра отрезка точки\n",
    "    x = a + (b - a) * (Fi(n - 2) / Fi(n))\n",
    "    y = a + (b - a) * (Fi(n - 1) / Fi(n))\n",
    "    \n",
    "    # пока k не равно n-3\n",
    "    while k != n - 3:\n",
    "\n",
    "        k += 1\n",
    "        \n",
    "        # отбрасываем правый полуинтервал\n",
    "        if f(x) <= f(y):\n",
    "            b = y\n",
    "            y = x\n",
    "            x = a + (b - a) * (Fi(n - k - 3) / Fi(n - k - 1))\n",
    "        \n",
    "        # отбрасываем левый полуинтервал\n",
    "        elif f(x) > f(y):\n",
    "            a = x\n",
    "            x = y\n",
    "            y = a + (b - a) * (Fi(n - k - 2) / Fi(n - k - 1))\n",
    "\n",
    "    y = x + eps\n",
    "    \n",
    "    # вычисляюем значения функции и находим границы конечного отрезка локализации\n",
    "    if f(x) <= f(y):\n",
    "        b = y\n",
    "    elif f(x) > f(y):\n",
    "        a = x\n",
    "    \n",
    "    x_min = (a + b) / 2\n",
    "    \n",
    "    return x_min, k"
   ]
  },
  {
   "cell_type": "code",
   "execution_count": 9,
   "id": "43501c30",
   "metadata": {},
   "outputs": [
    {
     "name": "stdout",
     "output_type": "stream",
     "text": [
      "x* = 9.397563432941546\n",
      "y* = -0.011285490110591389\n",
      "k = 11\n"
     ]
    }
   ],
   "source": [
    "x_min, k = Fibonacci_Method(a, b, eps, f)\n",
    "\n",
    "print('x* =', x_min)\n",
    "print('y* =', f(x_min))\n",
    "print('k =', k)"
   ]
  },
  {
   "cell_type": "markdown",
   "id": "a863d3ab",
   "metadata": {},
   "source": [
    "### Метод золотого сечения"
   ]
  },
  {
   "cell_type": "code",
   "execution_count": 10,
   "id": "b84819e6",
   "metadata": {},
   "outputs": [],
   "source": [
    "def Golden_Section_Method(a, b, eps, f):\n",
    "    \n",
    "    k = 0\n",
    "    g1 = (3 - np.sqrt(5)) / 2\n",
    "    g2 = (np.sqrt(5) - 1) / 2\n",
    "    \n",
    "    while (b - a) / 2 > eps:\n",
    "        \n",
    "        k += 1\n",
    "        \n",
    "        c = (b - a) * g1 + a\n",
    "        d = (b - a) * g2 + a\n",
    "\n",
    "        if f(c) <= f(d):\n",
    "            b = d\n",
    "\n",
    "        elif f(c) > f(d): \n",
    "            a = c\n",
    "\n",
    "    x_min = (a + b) / 2\n",
    "    \n",
    "    return x_min, k"
   ]
  },
  {
   "cell_type": "code",
   "execution_count": 11,
   "id": "a911947e",
   "metadata": {},
   "outputs": [
    {
     "name": "stdout",
     "output_type": "stream",
     "text": [
      "x* = 9.40087976492303\n",
      "y* = -0.01128615172911571\n",
      "k = 12\n"
     ]
    }
   ],
   "source": [
    "x_min, k = Golden_Section_Method(a, b, eps, f)\n",
    "\n",
    "print('x* =', x_min)\n",
    "print('y* =', f(x_min))\n",
    "print('k =', k)"
   ]
  },
  {
   "cell_type": "markdown",
   "id": "75f9bd62",
   "metadata": {},
   "source": [
    "### Метод Ньютона"
   ]
  },
  {
   "cell_type": "code",
   "execution_count": 12,
   "id": "ffca58b0",
   "metadata": {},
   "outputs": [],
   "source": [
    "def df(x):\n",
    "    return -(3 * x * np.sin(3 * x) + 2 * np.cos(3 * x)) / x ** 3\n",
    "\n",
    "def d2f(x):\n",
    "    return -(9 * x ** 2 * np.cos(3 * x) - 12 * x * np.sin(3 * x) - 6 * np.cos(3 * x)) / x ** 4"
   ]
  },
  {
   "cell_type": "code",
   "execution_count": 13,
   "id": "14dc4c7b",
   "metadata": {},
   "outputs": [],
   "source": [
    "def Newton_Method(a, b, eps, x0, df, d2f):\n",
    "    \n",
    "    k = 0\n",
    "    \n",
    "    while abs(df(x0)) > eps:\n",
    "        \n",
    "        k += 1\n",
    "        \n",
    "        x1 = x0  - df(x0) / d2f(x0)\n",
    "        x0 = x1\n",
    "        \n",
    "    return x0, k"
   ]
  },
  {
   "cell_type": "code",
   "execution_count": 14,
   "id": "a35afdc0",
   "metadata": {},
   "outputs": [
    {
     "name": "stdout",
     "output_type": "stream",
     "text": [
      "x0 = 9\n",
      "x* = 9.421535963704624\n",
      "y* = -0.011265125598276807\n",
      "k = 3\n"
     ]
    }
   ],
   "source": [
    "x0 = 9\n",
    "x_min, k = Newton_Method(a, b, eps, x0, df, d2f)\n",
    "\n",
    "print('x0 =', x0)\n",
    "print('x* =', x_min)\n",
    "print('y* =', f(x_min))\n",
    "print('k =', k)"
   ]
  },
  {
   "cell_type": "code",
   "execution_count": 15,
   "id": "d4d497a3",
   "metadata": {},
   "outputs": [
    {
     "data": {
      "text/plain": [
       "-0.01866230150050075"
      ]
     },
     "execution_count": 15,
     "metadata": {},
     "output_type": "execute_result"
    }
   ],
   "source": [
    "x = np.linspace(a, b, 100)\n",
    "min(f(x))"
   ]
  },
  {
   "cell_type": "markdown",
   "id": "47093e03",
   "metadata": {},
   "source": [
    "### Метод касательных"
   ]
  },
  {
   "cell_type": "code",
   "execution_count": 18,
   "id": "7c391671",
   "metadata": {},
   "outputs": [],
   "source": [
    "def Tangent_Method(a, b, eps): \n",
    "        \n",
    "        C_list = []\n",
    "        \n",
    "        while abs(b - a) > eps:\n",
    "\n",
    "            if df(a) >= 0:\n",
    "                return a\n",
    "\n",
    "            elif df(b) <= 0:\n",
    "                return b\n",
    "\n",
    "            else:\n",
    "                C = (f(a) - f(b) + b * df(b) - a * df(a)) / (df(b) - df(a))\n",
    "                \n",
    "                if df(C) == 0:\n",
    "                    return C\n",
    "               \n",
    "                else:\n",
    "                    if df(C) > 0:\n",
    "                        b = C\n",
    "                    if df(C) < 0:\n",
    "                        a = C      \n",
    "            \n",
    "            C_list.append(C)\n",
    "            \n",
    "        return C, C_list"
   ]
  },
  {
   "cell_type": "code",
   "execution_count": 19,
   "id": "f5815bdc",
   "metadata": {},
   "outputs": [],
   "source": [
    "def f(x):\n",
    "    return x ** 2 - np.sin(x)\n",
    "def df(x):\n",
    "    return 2 * x - np.cos(x)\n",
    "\n",
    "a, b = 0, np.pi/2\n",
    "eps = 0.01"
   ]
  },
  {
   "cell_type": "code",
   "execution_count": 20,
   "id": "9d9749f8",
   "metadata": {},
   "outputs": [
    {
     "name": "stdout",
     "output_type": "stream",
     "text": [
      "x* = 0.44697662186151804\n",
      "y* = -0.23245305771555674\n",
      "k = 3\n"
     ]
    }
   ],
   "source": [
    "x_min, C_list = Tangent_Method(a, b, eps)\n",
    "\n",
    "print('x* =', x_min)\n",
    "print('y* =', f(x_min))\n",
    "print('k =', k)"
   ]
  },
  {
   "cell_type": "code",
   "execution_count": 23,
   "id": "02b33ed3",
   "metadata": {},
   "outputs": [
    {
     "data": {
      "text/plain": [
       "Text(0, 0.5, 'y')"
      ]
     },
     "execution_count": 23,
     "metadata": {},
     "output_type": "execute_result"
    },
    {
     "data": {
      "image/png": "[encoded data removed]",
      "text/plain": [
       "<Figure size 504x360 with 1 Axes>"
      ]
     },
     "metadata": {
      "needs_background": "light"
     },
     "output_type": "display_data"
    }
   ],
   "source": [
    "fig, ax = plt.subplots(figsize=(7, 5))\n",
    "x = np.linspace(-2, 8, 100)\n",
    "y = f(x)\n",
    "\n",
    "ax.plot(x, y, color='DeepPink')\n",
    "for i in range(len(C_list)):\n",
    "    ax.plot(i, f(i), 'o', color='blue')\n",
    "ax.set_xlabel('x')\n",
    "ax.set_ylabel('y')"
   ]
  },
  {
   "cell_type": "markdown",
   "id": "3bd5a316",
   "metadata": {},
   "source": [
    "### Метод ломаных"
   ]
  },
  {
   "cell_type": "code",
   "execution_count": 27,
   "id": "5f79217e",
   "metadata": {},
   "outputs": [],
   "source": [
    "def Lipschitz_Сonstant(a, b):\n",
    "    \n",
    "    L = 0\n",
    "    x = np.linspace(a, b, 1000)\n",
    "    \n",
    "    for i in range(len(x) - 1):\n",
    "        \n",
    "        x1 = x[i]\n",
    "        x2 = x[i + 1]\n",
    "        \n",
    "        L_tmp = abs(f(x1) - f(x2)) / abs(x1 - x2)\n",
    "        \n",
    "        if L_tmp > L:\n",
    "            L = L_tmp\n",
    "            \n",
    "    return L"
   ]
  },
  {
   "cell_type": "code",
   "execution_count": 28,
   "id": "584f3b55",
   "metadata": {},
   "outputs": [],
   "source": [
    "def Broken_Line_Method(a, b, eps, f):        \n",
    "    \n",
    "    L = Lipschitz_Сonstant(a, b) # потоянная Липшица\n",
    "    x = np.linspace(a, b, 10) # 10 точек испытаний\n",
    "    y = [f(i) for i in x] # значение функции в этих точках\n",
    "    k = 0\n",
    "        \n",
    "    while True:      \n",
    "        \n",
    "        k += 1\n",
    "        \n",
    "        y_min = min(y) # минимум функции в точках ипытаний\n",
    "        x_min = x[0]\n",
    "        min_val = y[0]\n",
    "        min_index = 0\n",
    "        \n",
    "        for i in range(len(x) - 1):\n",
    "            \n",
    "            # значение х в точках пересечения соседних ветвей миноранты:\n",
    "            x_mean = (y[i] - y[i+1] + L * (x[i] + x[i+1])) / (2 * L) \n",
    "            # значение у в точках пересечения соседних ветвей миноранты:\n",
    "            y_mean = y[i] - L * (x_mean - x[i])\n",
    "            \n",
    "            # поиск точки минимума миноранты:\n",
    "            if y_mean < min_val:                \n",
    "                min_val = y_mean\n",
    "                min_index = i\n",
    "                x_min = x_mean\n",
    "        \n",
    "        # точка минимума миноранты:\n",
    "        x_minorant = x_min\n",
    "\n",
    "        # добавляем точку минимума миноранты и её значение к точкам испытаний:\n",
    "        x = np.concatenate((x[:min_index + 1], [x_minorant], x[min_index + 1:]))\n",
    "        # добавляем значение миноранты к точкам испытаний:\n",
    "        y = np.concatenate((y[:min_index + 1], [f(x_minorant)], y[min_index + 1:]))\n",
    "        \n",
    "        # условие остановки:\n",
    "        if np.abs(y_min - f(x_minorant)) <= eps:\n",
    "            return x_minorant, x, L, k"
   ]
  },
  {
   "cell_type": "code",
   "execution_count": 29,
   "id": "3b85f071",
   "metadata": {},
   "outputs": [],
   "source": [
    "def f(x):\n",
    "    return np.cos(3 * x) / x ** 2\n",
    "\n",
    "a, b = 7, 11\n",
    "eps = 0.01"
   ]
  },
  {
   "cell_type": "code",
   "execution_count": 30,
   "id": "03d4c0b0",
   "metadata": {},
   "outputs": [
    {
     "name": "stdout",
     "output_type": "stream",
     "text": [
      "х* =  7.281193006621897\n",
      "f* =  -0.018657303826596337\n",
      "k = 1\n"
     ]
    }
   ],
   "source": [
    "x_min, xx, L, k = Broken_Line_Method(a, b, eps, f)\n",
    "print('х* = ', x_min)\n",
    "print('f* = ', f(x_min))\n",
    "print('k =', k)"
   ]
  },
  {
   "cell_type": "code",
   "execution_count": 31,
   "id": "6d47902c",
   "metadata": {},
   "outputs": [],
   "source": [
    "# ломанные:\n",
    "lines_x = []\n",
    "lines_y = []\n",
    "values = f(xx)\n",
    "\n",
    "for i in range(len(xx) - 1):\n",
    "    \n",
    "    x = xx[i]\n",
    "    y = f(x)\n",
    "    \n",
    "    x_mean = (values[i] - values[i+1] + L * (xx[i] + xx[i+1])) / (2 * L)\n",
    "    y_mean = values[i] - L * (x_mean - xx[i])\n",
    "    \n",
    "    lines_x.append(x)\n",
    "    lines_x.append(x_mean)\n",
    "    lines_y.append(y)\n",
    "    lines_y.append(y_mean)"
   ]
  },
  {
   "cell_type": "code",
   "execution_count": 32,
   "id": "8f2e766a",
   "metadata": {},
   "outputs": [
    {
     "data": {
      "image/png": "[encoded data removed]",
      "text/plain": [
       "<Figure size 720x504 with 1 Axes>"
      ]
     },
     "metadata": {
      "needs_background": "light"
     },
     "output_type": "display_data"
    }
   ],
   "source": [
    "# изобразим метод ломанных на графике:\n",
    "fig, ax = plt.subplots(figsize=(10, 7))\n",
    "x = np.linspace(7, 11, 100)\n",
    "y = f(x)\n",
    "\n",
    "ax.plot(x, y, color='DeepPink')\n",
    "ax.plot(lines_x, lines_y,  '--', color='blue')\n",
    "ax.plot(x_min, f(x_min), 'o', color='red')\n",
    "ax.set_xlabel('x', fontsize = 20)\n",
    "ax.set_ylabel('y', fontsize = 20)\n",
    "ax.grid()"
   ]
  }
 ],
 "metadata": {
  "kernelspec": {
   "display_name": "Python 3 (ipykernel)",
   "language": "python",
   "name": "python3"
  },
  "language_info": {
   "codemirror_mode": {
    "name": "ipython",
    "version": 3
   },
   "file_extension": ".py",
   "mimetype": "text/x-python",
   "name": "python",
   "nbconvert_exporter": "python",
   "pygments_lexer": "ipython3",
   "version": "3.11.4"
  }
 },
 "nbformat": 4,
 "nbformat_minor": 5
}
