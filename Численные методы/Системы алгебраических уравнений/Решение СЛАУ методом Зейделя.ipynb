{
 "cells": [
  {
   "cell_type": "markdown",
   "metadata": {},
   "source": [
    "# Метод Зейделя"
   ]
  },
  {
   "cell_type": "code",
   "execution_count": 1,
   "metadata": {},
   "outputs": [],
   "source": [
    "import matplotlib.pyplot as plt\n",
    "import numpy as np"
   ]
  },
  {
   "cell_type": "code",
   "execution_count": 2,
   "metadata": {},
   "outputs": [],
   "source": [
    "def Func(B, n):\n",
    "    \n",
    "    C = np.zeros((n, n + 1))\n",
    "    \n",
    "    for i in range(0, n):\n",
    "        \n",
    "        suma=0\n",
    "        \n",
    "        for k in range(0,n):\n",
    "            suma+= abs(B[i][k])\n",
    "            \n",
    "        for j in range(0, n):\n",
    "            if 2*abs(B[i][j]) - suma >=  0:\n",
    "                C[i][j] = j + 1\n",
    "                \n",
    "            else:\n",
    "                C[i][j] = 0\n",
    "                \n",
    "        C[i][4] = i + 1\n",
    "            \n",
    "    for i in range(0, n):\n",
    "        if i == 0:\n",
    "            for j in range(i + 1, n):\n",
    "                 if C[i][i] == 0 and C[j][i] != 0:\n",
    "                    C[[i, j]] = C[[j, i]]\n",
    "                    \n",
    "        else:\n",
    "            for j in range(0,n):\n",
    "                if C[i][i] == 0 and C[j][i] != 0:\n",
    "                    C[[i, j]] = C[[j, i]]\n",
    "   \n",
    "    for i in range(1, n + 1):\n",
    "        for j in range(i + 1, n):\n",
    "            if C[n - i][n - i] == 0 and C[i][n - j] and C[j][j] == 0 and C[n - j][j] != 0:\n",
    "                C[[n - i, i]] = C[[i, n - i]]\n",
    "                \n",
    "    for i in range(0, n):\n",
    "        if C[i][n] != i + 1:\n",
    "            \n",
    "            d=int(C[i][n]) - 1\n",
    "            B[[i, d]] = B[[d, i]]\n",
    "            C[d][n] = d + 1\n",
    "            \n",
    "            print(B)\n",
    "            print(f\"Поменяли {i + 1} на {int(C[i][n])}\")"
   ]
  },
  {
   "cell_type": "code",
   "execution_count": 3,
   "metadata": {},
   "outputs": [],
   "source": [
    "A = np.array([[-4, 2, 1, -1, 1],\n",
    "            [1, 6, 2, -2, 2],\n",
    "            [1, -2, 5, 1, 3],\n",
    "            [3, -4, 2, -10, 4]])"
   ]
  },
  {
   "cell_type": "code",
   "execution_count": 4,
   "metadata": {},
   "outputs": [],
   "source": [
    "Func(A, 4)"
   ]
  },
  {
   "cell_type": "code",
   "execution_count": 5,
   "metadata": {},
   "outputs": [],
   "source": [
    "def Seidel(A, n):\n",
    "    \n",
    "    S = np.zeros(n)\n",
    "    M = []\n",
    "    \n",
    "    for m in range(0, 5):\n",
    "        for i in range(0, n):\n",
    "            \n",
    "            suma = 0\n",
    "            \n",
    "            for j in range(0, n):\n",
    "                suma -= A[i][j] * S[j]\n",
    "                \n",
    "            S[i] = (1/A[i][i]) * (A[i][n] + suma + A[i][i]*S[i])   \n",
    "            \n",
    "        M.append(S)\n",
    "        \n",
    "    return M"
   ]
  },
  {
   "cell_type": "code",
   "execution_count": 6,
   "metadata": {},
   "outputs": [],
   "source": [
    "M = Seidel(A, 4)"
   ]
  },
  {
   "cell_type": "code",
   "execution_count": 7,
   "metadata": {},
   "outputs": [],
   "source": [
    "a = np.array([\n",
    "            [1, 6, 2, -2],\n",
    "            [1, -2, 5, 1],\n",
    "            [-4, 2, 1, -1],          \n",
    "            [3, -4, 2, -10]])\n",
    "b = np.array([2, 3, 1 ,4])"
   ]
  },
  {
   "cell_type": "code",
   "execution_count": 8,
   "metadata": {},
   "outputs": [
    {
     "data": {
      "text/plain": [
       "[array([-0.04022959,  0.04410709,  0.67407815, -0.29489608]),\n",
       " array([-0.04022959,  0.04410709,  0.67407815, -0.29489608]),\n",
       " array([-0.04022959,  0.04410709,  0.67407815, -0.29489608]),\n",
       " array([-0.04022959,  0.04410709,  0.67407815, -0.29489608]),\n",
       " array([-0.04022959,  0.04410709,  0.67407815, -0.29489608])]"
      ]
     },
     "execution_count": 8,
     "metadata": {},
     "output_type": "execute_result"
    }
   ],
   "source": [
    "M"
   ]
  },
  {
   "cell_type": "code",
   "execution_count": 9,
   "metadata": {},
   "outputs": [
    {
     "data": {
      "text/plain": [
       "array([-0.00453515,  0.02040816,  0.66439909, -0.27664399])"
      ]
     },
     "execution_count": 9,
     "metadata": {},
     "output_type": "execute_result"
    }
   ],
   "source": [
    "np.linalg.solve(a, b)"
   ]
  },
  {
   "cell_type": "code",
   "execution_count": 10,
   "metadata": {},
   "outputs": [
    {
     "data": {
      "image/png": "[encoded data removed]",
      "text/plain": [
       "<Figure size 640x480 with 1 Axes>"
      ]
     },
     "metadata": {},
     "output_type": "display_data"
    }
   ],
   "source": [
    "for i in range(0, len(M)):\n",
    "    X = [j + 1 for j in range(0, len(M[i]))]\n",
    "    colors = ['r', 'b', 'g', 'y', 'r']\n",
    "    Y = M[i]\n",
    "    \n",
    "    plt.plot(X, Y, colors[i])\n",
    "    plt.legend(['1', '2', '3', '4', '5'])"
   ]
  },
  {
   "cell_type": "code",
   "execution_count": 11,
   "metadata": {},
   "outputs": [],
   "source": [
    "A1 = np.array([\n",
    "            [1, 6, 2, -2, 2],\n",
    "            [1, -2, 5, 1, 3],\n",
    "            [-4, 2, 1, -1, 1],\n",
    "            [3, -4, 2, -10,  4]])"
   ]
  },
  {
   "cell_type": "code",
   "execution_count": 12,
   "metadata": {},
   "outputs": [
    {
     "name": "stdout",
     "output_type": "stream",
     "text": [
      "[[ -4   2   1  -1   1]\n",
      " [  1  -2   5   1   3]\n",
      " [  1   6   2  -2   2]\n",
      " [  3  -4   2 -10   4]]\n",
      "Поменяли 1 на 3\n",
      "[[  1  -2   5   1   3]\n",
      " [ -4   2   1  -1   1]\n",
      " [  1   6   2  -2   2]\n",
      " [  3  -4   2 -10   4]]\n",
      "Поменяли 2 на 1\n"
     ]
    }
   ],
   "source": [
    "Func(A1, 4)"
   ]
  },
  {
   "cell_type": "code",
   "execution_count": 13,
   "metadata": {},
   "outputs": [],
   "source": [
    "A2 = np.array([ [19, -4, -9, -1, 100],\n",
    "                [-2, -20, -2, -7, -5],\n",
    "                [6, -5, -25, -9, 34],\n",
    "                [0, -3, -9, 12, 69]])"
   ]
  },
  {
   "cell_type": "code",
   "execution_count": 14,
   "metadata": {},
   "outputs": [],
   "source": [
    "Func(A2, 4)"
   ]
  },
  {
   "cell_type": "code",
   "execution_count": 15,
   "metadata": {},
   "outputs": [],
   "source": [
    "M = Seidel(A2, 4)"
   ]
  },
  {
   "cell_type": "code",
   "execution_count": 16,
   "metadata": {},
   "outputs": [
    {
     "data": {
      "text/plain": [
       "[array([ 4.44241857, -1.52229166, -1.51114597,  4.23606761]),\n",
       " array([ 4.44241857, -1.52229166, -1.51114597,  4.23606761]),\n",
       " array([ 4.44241857, -1.52229166, -1.51114597,  4.23606761]),\n",
       " array([ 4.44241857, -1.52229166, -1.51114597,  4.23606761]),\n",
       " array([ 4.44241857, -1.52229166, -1.51114597,  4.23606761])]"
      ]
     },
     "execution_count": 16,
     "metadata": {},
     "output_type": "execute_result"
    }
   ],
   "source": [
    "M"
   ]
  },
  {
   "cell_type": "code",
   "execution_count": 17,
   "metadata": {},
   "outputs": [],
   "source": [
    "a = np.array([  [19, -4, -9, -1],\n",
    "                [-2, -20, -2, -7],\n",
    "                [6, -5, -25, -9],\n",
    "                [0, -3, -9, 12]])\n",
    "\n",
    "b = np.array([100, -5, 34, 69])"
   ]
  },
  {
   "cell_type": "code",
   "execution_count": 18,
   "metadata": {},
   "outputs": [
    {
     "data": {
      "text/plain": [
       "array([ 4.44875929, -1.5258891 , -1.51164561,  4.23479351])"
      ]
     },
     "execution_count": 18,
     "metadata": {},
     "output_type": "execute_result"
    }
   ],
   "source": [
    "np.linalg.solve(a, b)"
   ]
  },
  {
   "cell_type": "code",
   "execution_count": 19,
   "metadata": {},
   "outputs": [],
   "source": [
    "A3 = np.array([ [190, -4, -9, -1, 1],\n",
    "                [-200, -20, -2, -7, 2],\n",
    "                [300, -5, -25, -9, 3],\n",
    "                [0, -3, -100, 12, 4]])"
   ]
  },
  {
   "cell_type": "code",
   "execution_count": 20,
   "metadata": {},
   "outputs": [
    {
     "name": "stdout",
     "output_type": "stream",
     "text": [
      "[[ 190   -4   -9   -1    1]\n",
      " [-200  -20   -2   -7    2]\n",
      " [   0   -3 -100   12    4]\n",
      " [ 300   -5  -25   -9    3]]\n",
      "Поменяли 3 на 4\n"
     ]
    }
   ],
   "source": [
    "Func(A3, 4)"
   ]
  }
 ],
 "metadata": {
  "kernelspec": {
   "display_name": "Python 3 (ipykernel)",
   "language": "python",
   "name": "python3"
  },
  "language_info": {
   "codemirror_mode": {
    "name": "ipython",
    "version": 3
   },
   "file_extension": ".py",
   "mimetype": "text/x-python",
   "name": "python",
   "nbconvert_exporter": "python",
   "pygments_lexer": "ipython3",
   "version": "3.11.4"
  }
 },
 "nbformat": 4,
 "nbformat_minor": 2
}
